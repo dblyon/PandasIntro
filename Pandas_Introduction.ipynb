{
 "cells": [
  {
   "cell_type": "code",
   "execution_count": 1,
   "metadata": {
    "collapsed": false
   },
   "outputs": [],
   "source": [
    "import numpy as np\n",
    "import pandas as pd\n",
    "import math\n",
    "import matplotlib.pyplot as plt\n",
    "from IPython.display import Image\n",
    "import matplotlib\n",
    "%matplotlib inline\n",
    "matplotlib.style.use('ggplot')"
   ]
  },
  {
   "cell_type": "markdown",
   "metadata": {},
   "source": [
    "<h1 id=\"tocheading\">Table of Contents</h1>\n",
    "<div id=\"toc\"></div>"
   ]
  },
  {
   "cell_type": "code",
   "execution_count": 2,
   "metadata": {
    "collapsed": false
   },
   "outputs": [
    {
     "data": {
      "application/javascript": [
       "$.getScript('misc/kmahelona_ipython_notebook_toc.js')"
      ],
      "text/plain": [
       "<IPython.core.display.Javascript object>"
      ]
     },
     "metadata": {},
     "output_type": "display_data"
    }
   ],
   "source": [
    "%%javascript\n",
    "$.getScript('misc/kmahelona_ipython_notebook_toc.js')"
   ]
  },
  {
   "cell_type": "markdown",
   "metadata": {},
   "source": [
    "see ***Installation_Customization_Resources.txt*** for useful infos and links"
   ]
  },
  {
   "cell_type": "markdown",
   "metadata": {},
   "source": [
    "# IPython: beyond plain Python"
   ]
  },
  {
   "cell_type": "markdown",
   "metadata": {},
   "source": [
    "IPython provides a rich toolkit to help you make the most out of using Python, with:\n",
    "\n",
    "- ****TAB COMPLETION****\n",
    "- ***Powerful Python shells*** (terminal and Qt-based).\n",
    "- A web-based notebook with the same core features but support for code, text, mathematical expressions, inline plots and other rich media.\n",
    "- Support for **interactive data visualization** and use of GUI toolkits.\n",
    "- Flexible, embeddable interpreters to load into your own projects.\n",
    "- Easy to use, high performance tools for parallel computing."
   ]
  },
  {
   "cell_type": "markdown",
   "metadata": {},
   "source": [
    "http://ipython.org/ipython-doc/stable/interactive/tutorial.html"
   ]
  },
  {
   "cell_type": "markdown",
   "metadata": {},
   "source": [
    "http://ipython.readthedocs.io/en/stable/"
   ]
  },
  {
   "cell_type": "markdown",
   "metadata": {},
   "source": [
    "# Jupyter notebook\n",
    "The Jupyter Notebook is an ***open-source web application*** that allows you to ***create and share documents*** that contain live code, equations, visualizations and explanatory text. Uses include: data cleaning and transformation, numerical simulation, statistical modeling, machine learning and much more.\n",
    "\n",
    "Checkout the \"command palette\" for useful commands and shortcuts."
   ]
  },
  {
   "cell_type": "code",
   "execution_count": 3,
   "metadata": {
    "collapsed": false
   },
   "outputs": [
    {
     "data": {
      "text/html": [
       "<iframe src=https://jupyter.readthedocs.io/en/latest/_images/notebook_components.png width=800 height=400></iframe>"
      ],
      "text/plain": [
       "<IPython.core.display.HTML object>"
      ]
     },
     "execution_count": 3,
     "metadata": {},
     "output_type": "execute_result"
    }
   ],
   "source": [
    "from IPython.core.display import HTML\n",
    "HTML(\"<iframe src=https://jupyter.readthedocs.io/en/latest/_images/notebook_components.png width=800 height=400></iframe>\")"
   ]
  },
  {
   "cell_type": "markdown",
   "metadata": {},
   "source": [
    "## Navigation"
   ]
  },
  {
   "cell_type": "markdown",
   "metadata": {},
   "source": [
    "- ***`Esc` and `Enter` to toggle between \"Command\" and \"Edit\" mode*** --> see colour indicator of frame surrounding the cell\n",
    "\n",
    "- when in \"Command\" mode:\n",
    "    - use cursor keys to navigate\n",
    "    - `a` to insert cell Above\n",
    "    - `b` to insert cell Below\n",
    "    - `dd` to delete cell\n",
    "\n",
    "- when in \"Edit\" mode:\n",
    "    - `Tab` for tab completion of file-names\n",
    "    - `Shift` + `Tab` in parenthesis of function to display docstring\n",
    "    - `Cmd` + `/` toggle line comment"
   ]
  },
  {
   "cell_type": "markdown",
   "metadata": {},
   "source": [
    "## Running code, getting help"
   ]
  },
  {
   "cell_type": "markdown",
   "metadata": {},
   "source": [
    "In the notebook, to run a cell of code, hit ***`Shift + Enter`***. This executes the cell and puts the cursor in the next cell below, or makes a new one if you are at the end.  Alternately, you can use:\n",
    "    \n",
    "- `Alt + Enter` to force the creation of a new cell unconditionally (useful when inserting new content in the middle of an existing notebook).\n",
    "- `Control + Enter` executes the cell and keeps the cursor in the same cell, useful for quick experimentation of snippets that you don't need to keep permanently.\n",
    "- `Esc` and `Enter` to toggle between \"Command\" and \"Edit\" mode --> see colour indicator of frame surrounding the cell\n",
    "- `h` for Help or checkout \"Help\" --> \"Keyboard shortcuts\" from the menu\n",
    "- ***`Shift + Tab` inside of the brackets of a function to get the Docstring***\n",
    "- ***`Cmd + /` to toggle line comment***"
   ]
  },
  {
   "cell_type": "markdown",
   "metadata": {},
   "source": [
    "## Shell commands"
   ]
  },
  {
   "cell_type": "code",
   "execution_count": 4,
   "metadata": {
    "collapsed": false
   },
   "outputs": [
    {
     "name": "stdout",
     "output_type": "stream",
     "text": [
      "/Users/dblyon/modules/cpr/PandasIntro\r\n"
     ]
    }
   ],
   "source": [
    "!pwd"
   ]
  },
  {
   "cell_type": "code",
   "execution_count": 5,
   "metadata": {
    "collapsed": false
   },
   "outputs": [
    {
     "name": "stdout",
     "output_type": "stream",
     "text": [
      "total 3496\r\n",
      "drwxr-xr-x  17 dblyon  staff     578 Apr 28 15:21 \u001b[34m.\u001b[m\u001b[m\r\n",
      "drwxr-xr-x  14 dblyon  staff     476 Apr 27 23:12 \u001b[34m..\u001b[m\u001b[m\r\n",
      "drwxr-xr-x  13 dblyon  staff     442 Apr 27 23:23 \u001b[34m.git\u001b[m\u001b[m\r\n",
      "-rw-r--r--   1 dblyon  staff    1045 Apr 27 23:12 .gitignore\r\n",
      "drwxr-xr-x   7 dblyon  staff     238 Apr 27 23:21 \u001b[34m.ipynb_checkpoints\u001b[m\u001b[m\r\n",
      "-rw-r--r--   1 dblyon  staff   18747 Apr 28 15:02 Exercises_part_A.ipynb\r\n",
      "-rw-r--r--   1 dblyon  staff   67287 Apr 28 15:03 Exercises_part_A_with_Solutions.ipynb\r\n",
      "-rw-r--r--   1 dblyon  staff   20111 Apr 27 23:20 Exercises_part_B.ipynb\r\n",
      "-rw-r--r--   1 dblyon  staff  263580 Apr 28 15:00 Exercises_part_B_with_Solutions.ipynb\r\n",
      "-rw-r--r--   1 dblyon  staff    3867 Apr 27 23:12 Installation_Customization_Resources.txt\r\n",
      "-rw-r--r--   1 dblyon  staff    1067 Apr 27 23:12 LICENSE\r\n",
      "-rw-r--r--   1 dblyon  staff  685284 Apr 27 23:12 Pandas_Cheat_Sheet.pdf\r\n",
      "-rw-r--r--   1 dblyon  staff  700478 Apr 28 15:21 Pandas_Introduction.ipynb\r\n",
      "-rw-r--r--@  1 dblyon  staff    3429 Apr 27 23:16 Readme.md\r\n",
      "-rw-r--r--   1 dblyon  staff    3478 Apr 27 23:12 Readme.txt\r\n",
      "drwxr-xr-x   9 dblyon  staff     306 Apr 27 23:12 \u001b[34mdata\u001b[m\u001b[m\r\n",
      "drwxr-xr-x   4 dblyon  staff     136 Apr 27 23:12 \u001b[34mmisc\u001b[m\u001b[m\r\n"
     ]
    }
   ],
   "source": [
    "!ls -la"
   ]
  },
  {
   "cell_type": "code",
   "execution_count": 6,
   "metadata": {
    "collapsed": false
   },
   "outputs": [
    {
     "data": {
      "text/plain": [
       "(12,\n",
       " ['Exercises_part_A.ipynb',\n",
       "  'Exercises_part_A_with_Solutions.ipynb',\n",
       "  'Exercises_part_B.ipynb'])"
      ]
     },
     "execution_count": 6,
     "metadata": {},
     "output_type": "execute_result"
    }
   ],
   "source": [
    "var = !ls\n",
    "len(var), var[:3]"
   ]
  },
  {
   "cell_type": "code",
   "execution_count": 7,
   "metadata": {
    "collapsed": false
   },
   "outputs": [
    {
     "name": "stdout",
     "output_type": "stream",
     "text": [
      "My shell is: /bin/zsh\n",
      "My disk usage is:\n",
      "Filesystem                          Size   Used  Avail Capacity  iused      ifree %iused  Mounted on\n",
      "/dev/disk1                         465Gi  404Gi   61Gi    87%  1939768 4293027511    0%   /\n",
      "devfs                              190Ki  190Ki    0Bi   100%      658          0  100%   /dev\n",
      "map -hosts                           0Bi    0Bi    0Bi   100%        0          0  100%   /net\n",
      "map auto_home                        0Bi    0Bi    0Bi   100%        0          0  100%   /home\n",
      "localhost:/IasP10O30clRK_kqj-ftyr  465Gi  465Gi    0Bi   100%        0          0  100%   /Volumes/MobileBackups\n",
      "/dev/disk2s1                       1.8Ti  414Gi  1.4Ti    23%  3392373   11868959   22%   /Volumes/Speedy\n",
      "/dev/disk3s1                       2.7Ti  2.3Ti  476Gi    83% 13196722 4281770557    0%   /Volumes/Data\n"
     ]
    }
   ],
   "source": [
    "%%bash\n",
    "echo \"My shell is:\" $SHELL\n",
    "echo \"My disk usage is:\"\n",
    "df -h"
   ]
  },
  {
   "cell_type": "markdown",
   "metadata": {},
   "source": [
    "## helpful IPython commands"
   ]
  },
  {
   "cell_type": "markdown",
   "metadata": {},
   "source": [
    "command  | description\n",
    "-------- | -----------\n",
    "? | Introduction and overview of IPython’s features.\n",
    "%quickref | Quick reference.\n",
    "help | Python’s own help system.\n",
    "?object | Details about ‘object’, use ‘??object’ for extra details."
   ]
  },
  {
   "cell_type": "code",
   "execution_count": 8,
   "metadata": {
    "collapsed": true
   },
   "outputs": [],
   "source": [
    "# ?math.log"
   ]
  },
  {
   "cell_type": "code",
   "execution_count": 9,
   "metadata": {
    "collapsed": false
   },
   "outputs": [
    {
     "name": "stdout",
     "output_type": "stream",
     "text": [
      "Help on built-in function log in module math:\n",
      "\n",
      "log(...)\n",
      "    log(x[, base])\n",
      "    \n",
      "    Return the logarithm of x to the given base.\n",
      "    If the base not specified, returns the natural logarithm (base e) of x.\n",
      "\n"
     ]
    }
   ],
   "source": [
    "help(math.log)"
   ]
  },
  {
   "cell_type": "markdown",
   "metadata": {},
   "source": [
    "press `Shift + Tab` inside of the brackets to get the Docstring"
   ]
  },
  {
   "cell_type": "code",
   "execution_count": 10,
   "metadata": {
    "collapsed": false
   },
   "outputs": [],
   "source": [
    "# math.log()"
   ]
  },
  {
   "cell_type": "markdown",
   "metadata": {},
   "source": [
    "## Magic"
   ]
  },
  {
   "cell_type": "code",
   "execution_count": 11,
   "metadata": {
    "collapsed": true
   },
   "outputs": [],
   "source": [
    "# %magic"
   ]
  },
  {
   "cell_type": "code",
   "execution_count": 12,
   "metadata": {
    "collapsed": true
   },
   "outputs": [],
   "source": [
    "values = range(1, 1001)"
   ]
  },
  {
   "cell_type": "code",
   "execution_count": 13,
   "metadata": {
    "collapsed": false
   },
   "outputs": [
    {
     "name": "stdout",
     "output_type": "stream",
     "text": [
      "1000 loops, best of 3: 346 µs per loop\n"
     ]
    }
   ],
   "source": [
    "%%timeit \n",
    "results = []\n",
    "for val in values:\n",
    "    new_val = math.log(val, 10)\n",
    "    results.append(new_val)"
   ]
  },
  {
   "cell_type": "code",
   "execution_count": 14,
   "metadata": {
    "collapsed": false
   },
   "outputs": [
    {
     "name": "stdout",
     "output_type": "stream",
     "text": [
      "1000 loops, best of 3: 258 µs per loop\n"
     ]
    }
   ],
   "source": [
    "%%timeit \n",
    "results = [math.log(val, 10) for val in values]"
   ]
  },
  {
   "cell_type": "code",
   "execution_count": 15,
   "metadata": {
    "collapsed": false
   },
   "outputs": [
    {
     "name": "stdout",
     "output_type": "stream",
     "text": [
      "The slowest run took 6.30 times longer than the fastest. This could mean that an intermediate result is being cached.\n",
      "10000 loops, best of 3: 59.2 µs per loop\n"
     ]
    }
   ],
   "source": [
    "%%timeit \n",
    "results = np.log10(values)"
   ]
  },
  {
   "cell_type": "markdown",
   "metadata": {},
   "source": [
    "# Introduction to Pandas\n",
    "\n",
    "**pandas** is a Python package providing fast, flexible, and expressive data structures designed to work with *relational* or *labeled* data both. It is a fundamental high-level building block for doing practical, real world data analysis in Python. \n",
    "\n",
    "pandas is well suited for:\n",
    "\n",
    "- Tabular data with heterogeneously-typed columns, as in an SQL table or Excel spreadsheet\n",
    "- Ordered and unordered (not necessarily fixed-frequency) time series data.\n",
    "- Arbitrary matrix data (homogeneously typed or heterogeneous) with row and column labels\n",
    "- Any other form of observational / statistical data sets. The data actually need not be labeled at all to be placed into a pandas data structure\n",
    "\n",
    "\n",
    "Key features:\n",
    "    \n",
    "- Easy handling of **missing data**\n",
    "- **Size mutability**: columns can be inserted and deleted from DataFrame and higher dimensional objects\n",
    "- Automatic and explicit **data alignment**: objects can be explicitly aligned to a set of labels, or the data can be aligned automatically\n",
    "- Powerful, flexible **group by functionality** to perform split-apply-combine operations on data sets\n",
    "- Intelligent label-based **slicing, fancy indexing, and subsetting** of large data sets\n",
    "- Intuitive **merging and joining** data sets\n",
    "- Flexible **reshaping and pivoting** of data sets\n",
    "- **Hierarchical labeling** of axes\n",
    "- Robust **IO tools** for loading data from flat files, Excel files, databases, and HDF5\n",
    "- **Time series functionality**: date range generation and frequency conversion, moving window statistics, moving window linear regressions, date shifting and lagging, etc."
   ]
  },
  {
   "cell_type": "markdown",
   "metadata": {},
   "source": [
    "#### Pandas cheat sheet \n",
    "(download the pdf or find it in the git repo of the current workshop)"
   ]
  },
  {
   "cell_type": "markdown",
   "metadata": {},
   "source": [
    "https://github.com/pandas-dev/pandas/blob/master/doc/cheatsheet/Pandas_Cheat_Sheet.pdf"
   ]
  },
  {
   "cell_type": "markdown",
   "metadata": {},
   "source": [
    "# Object creation"
   ]
  },
  {
   "cell_type": "markdown",
   "metadata": {
    "collapsed": true
   },
   "source": [
    "Creating a Series by passing a list of values, letting pandas create a default integer index:"
   ]
  },
  {
   "cell_type": "code",
   "execution_count": 16,
   "metadata": {
    "collapsed": false
   },
   "outputs": [
    {
     "data": {
      "text/plain": [
       "0    1.0\n",
       "1    3.0\n",
       "2    5.0\n",
       "3    NaN\n",
       "4    6.0\n",
       "5    8.0\n",
       "dtype: float64"
      ]
     },
     "execution_count": 16,
     "metadata": {},
     "output_type": "execute_result"
    }
   ],
   "source": [
    "s = pd.Series([1, 3, 5, np.nan, 6, 8])\n",
    "s"
   ]
  },
  {
   "cell_type": "markdown",
   "metadata": {},
   "source": [
    "Creating a DataFrame by passing a numpy array, with labeled columns:"
   ]
  },
  {
   "cell_type": "code",
   "execution_count": 17,
   "metadata": {
    "collapsed": false
   },
   "outputs": [
    {
     "data": {
      "text/html": [
       "<div>\n",
       "<table border=\"1\" class=\"dataframe\">\n",
       "  <thead>\n",
       "    <tr style=\"text-align: right;\">\n",
       "      <th></th>\n",
       "      <th>A</th>\n",
       "      <th>B</th>\n",
       "      <th>C</th>\n",
       "      <th>D</th>\n",
       "    </tr>\n",
       "  </thead>\n",
       "  <tbody>\n",
       "    <tr>\n",
       "      <th>0</th>\n",
       "      <td>-0.169900</td>\n",
       "      <td>0.289323</td>\n",
       "      <td>0.573236</td>\n",
       "      <td>1.823558</td>\n",
       "    </tr>\n",
       "    <tr>\n",
       "      <th>1</th>\n",
       "      <td>1.876850</td>\n",
       "      <td>1.270691</td>\n",
       "      <td>0.886132</td>\n",
       "      <td>1.507054</td>\n",
       "    </tr>\n",
       "    <tr>\n",
       "      <th>2</th>\n",
       "      <td>-0.282954</td>\n",
       "      <td>-0.441011</td>\n",
       "      <td>0.184304</td>\n",
       "      <td>1.661792</td>\n",
       "    </tr>\n",
       "    <tr>\n",
       "      <th>3</th>\n",
       "      <td>0.227809</td>\n",
       "      <td>0.015566</td>\n",
       "      <td>-1.719689</td>\n",
       "      <td>0.075242</td>\n",
       "    </tr>\n",
       "    <tr>\n",
       "      <th>4</th>\n",
       "      <td>1.293757</td>\n",
       "      <td>-0.551220</td>\n",
       "      <td>2.058666</td>\n",
       "      <td>0.039746</td>\n",
       "    </tr>\n",
       "    <tr>\n",
       "      <th>5</th>\n",
       "      <td>1.218084</td>\n",
       "      <td>1.164723</td>\n",
       "      <td>-1.383697</td>\n",
       "      <td>-0.128685</td>\n",
       "    </tr>\n",
       "  </tbody>\n",
       "</table>\n",
       "</div>"
      ],
      "text/plain": [
       "          A         B         C         D\n",
       "0 -0.169900  0.289323  0.573236  1.823558\n",
       "1  1.876850  1.270691  0.886132  1.507054\n",
       "2 -0.282954 -0.441011  0.184304  1.661792\n",
       "3  0.227809  0.015566 -1.719689  0.075242\n",
       "4  1.293757 -0.551220  2.058666  0.039746\n",
       "5  1.218084  1.164723 -1.383697 -0.128685"
      ]
     },
     "execution_count": 17,
     "metadata": {},
     "output_type": "execute_result"
    }
   ],
   "source": [
    "df = pd.DataFrame(np.random.randn(6, 4), columns=list('ABCD'))\n",
    "df"
   ]
  },
  {
   "cell_type": "markdown",
   "metadata": {
    "collapsed": true
   },
   "source": [
    "Creating a DataFrame by passing a dict of objects that can be converted to series-like."
   ]
  },
  {
   "cell_type": "code",
   "execution_count": 18,
   "metadata": {
    "collapsed": false
   },
   "outputs": [
    {
     "data": {
      "text/html": [
       "<div>\n",
       "<table border=\"1\" class=\"dataframe\">\n",
       "  <thead>\n",
       "    <tr style=\"text-align: right;\">\n",
       "      <th></th>\n",
       "      <th>A</th>\n",
       "      <th>B</th>\n",
       "      <th>C</th>\n",
       "      <th>D</th>\n",
       "      <th>E</th>\n",
       "      <th>F</th>\n",
       "      <th>tinyRick</th>\n",
       "    </tr>\n",
       "  </thead>\n",
       "  <tbody>\n",
       "    <tr>\n",
       "      <th>0</th>\n",
       "      <td>1.0</td>\n",
       "      <td>2013-01-02</td>\n",
       "      <td>1.0</td>\n",
       "      <td>3</td>\n",
       "      <td>test</td>\n",
       "      <td>foo</td>\n",
       "      <td>2000.0</td>\n",
       "    </tr>\n",
       "    <tr>\n",
       "      <th>1</th>\n",
       "      <td>1.0</td>\n",
       "      <td>2013-01-02</td>\n",
       "      <td>1.0</td>\n",
       "      <td>3</td>\n",
       "      <td>train</td>\n",
       "      <td>foo</td>\n",
       "      <td>NaN</td>\n",
       "    </tr>\n",
       "    <tr>\n",
       "      <th>2</th>\n",
       "      <td>1.0</td>\n",
       "      <td>2013-01-02</td>\n",
       "      <td>1.0</td>\n",
       "      <td>3</td>\n",
       "      <td>test</td>\n",
       "      <td>foo</td>\n",
       "      <td>NaN</td>\n",
       "    </tr>\n",
       "    <tr>\n",
       "      <th>3</th>\n",
       "      <td>1.0</td>\n",
       "      <td>2013-01-02</td>\n",
       "      <td>1.0</td>\n",
       "      <td>3</td>\n",
       "      <td>train</td>\n",
       "      <td>foo</td>\n",
       "      <td>NaN</td>\n",
       "    </tr>\n",
       "  </tbody>\n",
       "</table>\n",
       "</div>"
      ],
      "text/plain": [
       "     A          B    C  D      E    F  tinyRick\n",
       "0  1.0 2013-01-02  1.0  3   test  foo    2000.0\n",
       "1  1.0 2013-01-02  1.0  3  train  foo       NaN\n",
       "2  1.0 2013-01-02  1.0  3   test  foo       NaN\n",
       "3  1.0 2013-01-02  1.0  3  train  foo       NaN"
      ]
     },
     "execution_count": 18,
     "metadata": {},
     "output_type": "execute_result"
    }
   ],
   "source": [
    "df2 = pd.DataFrame({'A' : 1.,                    \n",
    "                    'B' : pd.Timestamp('20130102'),\n",
    "                    'C' : pd.Series(1, index=list(range(4)), dtype='float32'),\n",
    "                    'D' : np.array([3] * 4, dtype='int32'),\n",
    "                    'E' : pd.Categorical([\"test\",\"train\",\"test\",\"train\"]),\n",
    "                    'F' : 'foo',\n",
    "                    'tinyRick': pd.Series([2000])})\n",
    "df2"
   ]
  },
  {
   "cell_type": "markdown",
   "metadata": {},
   "source": [
    "Having specific dtypes (data types)"
   ]
  },
  {
   "cell_type": "code",
   "execution_count": 19,
   "metadata": {
    "collapsed": false
   },
   "outputs": [
    {
     "data": {
      "text/plain": [
       "A                  float64\n",
       "B           datetime64[ns]\n",
       "C                  float32\n",
       "D                    int32\n",
       "E                 category\n",
       "F                   object\n",
       "tinyRick           float64\n",
       "dtype: object"
      ]
     },
     "execution_count": 19,
     "metadata": {},
     "output_type": "execute_result"
    }
   ],
   "source": [
    "df2.dtypes"
   ]
  },
  {
   "cell_type": "markdown",
   "metadata": {},
   "source": [
    "change the dtype"
   ]
  },
  {
   "cell_type": "code",
   "execution_count": 20,
   "metadata": {
    "collapsed": false
   },
   "outputs": [],
   "source": [
    "df2[\"D\"] = df2[\"D\"].astype('float64')"
   ]
  },
  {
   "cell_type": "markdown",
   "metadata": {},
   "source": [
    "# Viewing Data"
   ]
  },
  {
   "cell_type": "markdown",
   "metadata": {},
   "source": [
    "See the top & bottom rows of the frame"
   ]
  },
  {
   "cell_type": "code",
   "execution_count": 21,
   "metadata": {
    "collapsed": false
   },
   "outputs": [
    {
     "data": {
      "text/html": [
       "<div>\n",
       "<table border=\"1\" class=\"dataframe\">\n",
       "  <thead>\n",
       "    <tr style=\"text-align: right;\">\n",
       "      <th></th>\n",
       "      <th>A</th>\n",
       "      <th>B</th>\n",
       "      <th>C</th>\n",
       "      <th>D</th>\n",
       "    </tr>\n",
       "  </thead>\n",
       "  <tbody>\n",
       "    <tr>\n",
       "      <th>0</th>\n",
       "      <td>-0.169900</td>\n",
       "      <td>0.289323</td>\n",
       "      <td>0.573236</td>\n",
       "      <td>1.823558</td>\n",
       "    </tr>\n",
       "    <tr>\n",
       "      <th>1</th>\n",
       "      <td>1.876850</td>\n",
       "      <td>1.270691</td>\n",
       "      <td>0.886132</td>\n",
       "      <td>1.507054</td>\n",
       "    </tr>\n",
       "    <tr>\n",
       "      <th>2</th>\n",
       "      <td>-0.282954</td>\n",
       "      <td>-0.441011</td>\n",
       "      <td>0.184304</td>\n",
       "      <td>1.661792</td>\n",
       "    </tr>\n",
       "    <tr>\n",
       "      <th>3</th>\n",
       "      <td>0.227809</td>\n",
       "      <td>0.015566</td>\n",
       "      <td>-1.719689</td>\n",
       "      <td>0.075242</td>\n",
       "    </tr>\n",
       "    <tr>\n",
       "      <th>4</th>\n",
       "      <td>1.293757</td>\n",
       "      <td>-0.551220</td>\n",
       "      <td>2.058666</td>\n",
       "      <td>0.039746</td>\n",
       "    </tr>\n",
       "  </tbody>\n",
       "</table>\n",
       "</div>"
      ],
      "text/plain": [
       "          A         B         C         D\n",
       "0 -0.169900  0.289323  0.573236  1.823558\n",
       "1  1.876850  1.270691  0.886132  1.507054\n",
       "2 -0.282954 -0.441011  0.184304  1.661792\n",
       "3  0.227809  0.015566 -1.719689  0.075242\n",
       "4  1.293757 -0.551220  2.058666  0.039746"
      ]
     },
     "execution_count": 21,
     "metadata": {},
     "output_type": "execute_result"
    }
   ],
   "source": [
    "df.head()"
   ]
  },
  {
   "cell_type": "code",
   "execution_count": 22,
   "metadata": {
    "collapsed": false
   },
   "outputs": [
    {
     "data": {
      "text/html": [
       "<div>\n",
       "<table border=\"1\" class=\"dataframe\">\n",
       "  <thead>\n",
       "    <tr style=\"text-align: right;\">\n",
       "      <th></th>\n",
       "      <th>A</th>\n",
       "      <th>B</th>\n",
       "      <th>C</th>\n",
       "      <th>D</th>\n",
       "    </tr>\n",
       "  </thead>\n",
       "  <tbody>\n",
       "    <tr>\n",
       "      <th>3</th>\n",
       "      <td>0.227809</td>\n",
       "      <td>0.015566</td>\n",
       "      <td>-1.719689</td>\n",
       "      <td>0.075242</td>\n",
       "    </tr>\n",
       "    <tr>\n",
       "      <th>4</th>\n",
       "      <td>1.293757</td>\n",
       "      <td>-0.551220</td>\n",
       "      <td>2.058666</td>\n",
       "      <td>0.039746</td>\n",
       "    </tr>\n",
       "    <tr>\n",
       "      <th>5</th>\n",
       "      <td>1.218084</td>\n",
       "      <td>1.164723</td>\n",
       "      <td>-1.383697</td>\n",
       "      <td>-0.128685</td>\n",
       "    </tr>\n",
       "  </tbody>\n",
       "</table>\n",
       "</div>"
      ],
      "text/plain": [
       "          A         B         C         D\n",
       "3  0.227809  0.015566 -1.719689  0.075242\n",
       "4  1.293757 -0.551220  2.058666  0.039746\n",
       "5  1.218084  1.164723 -1.383697 -0.128685"
      ]
     },
     "execution_count": 22,
     "metadata": {},
     "output_type": "execute_result"
    }
   ],
   "source": [
    "df.tail(3)"
   ]
  },
  {
   "cell_type": "markdown",
   "metadata": {},
   "source": [
    "Display the index, columns, and the underlying numpy data"
   ]
  },
  {
   "cell_type": "code",
   "execution_count": 23,
   "metadata": {
    "collapsed": false
   },
   "outputs": [
    {
     "data": {
      "text/plain": [
       "RangeIndex(start=0, stop=6, step=1)"
      ]
     },
     "execution_count": 23,
     "metadata": {},
     "output_type": "execute_result"
    }
   ],
   "source": [
    "df.index"
   ]
  },
  {
   "cell_type": "code",
   "execution_count": 24,
   "metadata": {
    "collapsed": false
   },
   "outputs": [
    {
     "data": {
      "text/plain": [
       "Index([u'A', u'B', u'C', u'D'], dtype='object')"
      ]
     },
     "execution_count": 24,
     "metadata": {},
     "output_type": "execute_result"
    }
   ],
   "source": [
    "df.columns"
   ]
  },
  {
   "cell_type": "code",
   "execution_count": 25,
   "metadata": {
    "collapsed": false
   },
   "outputs": [
    {
     "data": {
      "text/plain": [
       "array([[-0.16989951,  0.28932253,  0.57323584,  1.82355794],\n",
       "       [ 1.87684958,  1.27069089,  0.88613196,  1.50705393],\n",
       "       [-0.28295392, -0.4410113 ,  0.18430394,  1.66179244],\n",
       "       [ 0.22780917,  0.01556611, -1.71968866,  0.07524179],\n",
       "       [ 1.29375737, -0.55121983,  2.05866642,  0.03974571],\n",
       "       [ 1.21808418,  1.16472342, -1.38369711, -0.12868522]])"
      ]
     },
     "execution_count": 25,
     "metadata": {},
     "output_type": "execute_result"
    }
   ],
   "source": [
    "df.values"
   ]
  },
  {
   "cell_type": "markdown",
   "metadata": {},
   "source": [
    "Describe shows a quick statistic summary of your data excluding NaN (Not a Number) values"
   ]
  },
  {
   "cell_type": "code",
   "execution_count": 26,
   "metadata": {
    "collapsed": false
   },
   "outputs": [
    {
     "data": {
      "text/html": [
       "<div>\n",
       "<table border=\"1\" class=\"dataframe\">\n",
       "  <thead>\n",
       "    <tr style=\"text-align: right;\">\n",
       "      <th></th>\n",
       "      <th>A</th>\n",
       "      <th>B</th>\n",
       "      <th>C</th>\n",
       "      <th>D</th>\n",
       "    </tr>\n",
       "  </thead>\n",
       "  <tbody>\n",
       "    <tr>\n",
       "      <th>count</th>\n",
       "      <td>6.000000</td>\n",
       "      <td>6.000000</td>\n",
       "      <td>6.000000</td>\n",
       "      <td>6.000000</td>\n",
       "    </tr>\n",
       "    <tr>\n",
       "      <th>mean</th>\n",
       "      <td>0.693941</td>\n",
       "      <td>0.291345</td>\n",
       "      <td>0.099825</td>\n",
       "      <td>0.829784</td>\n",
       "    </tr>\n",
       "    <tr>\n",
       "      <th>std</th>\n",
       "      <td>0.889000</td>\n",
       "      <td>0.780286</td>\n",
       "      <td>1.428150</td>\n",
       "      <td>0.922028</td>\n",
       "    </tr>\n",
       "    <tr>\n",
       "      <th>min</th>\n",
       "      <td>-0.282954</td>\n",
       "      <td>-0.551220</td>\n",
       "      <td>-1.719689</td>\n",
       "      <td>-0.128685</td>\n",
       "    </tr>\n",
       "    <tr>\n",
       "      <th>25%</th>\n",
       "      <td>-0.070472</td>\n",
       "      <td>-0.326867</td>\n",
       "      <td>-0.991697</td>\n",
       "      <td>0.048620</td>\n",
       "    </tr>\n",
       "    <tr>\n",
       "      <th>50%</th>\n",
       "      <td>0.722947</td>\n",
       "      <td>0.152444</td>\n",
       "      <td>0.378770</td>\n",
       "      <td>0.791148</td>\n",
       "    </tr>\n",
       "    <tr>\n",
       "      <th>75%</th>\n",
       "      <td>1.274839</td>\n",
       "      <td>0.945873</td>\n",
       "      <td>0.807908</td>\n",
       "      <td>1.623108</td>\n",
       "    </tr>\n",
       "    <tr>\n",
       "      <th>max</th>\n",
       "      <td>1.876850</td>\n",
       "      <td>1.270691</td>\n",
       "      <td>2.058666</td>\n",
       "      <td>1.823558</td>\n",
       "    </tr>\n",
       "  </tbody>\n",
       "</table>\n",
       "</div>"
      ],
      "text/plain": [
       "              A         B         C         D\n",
       "count  6.000000  6.000000  6.000000  6.000000\n",
       "mean   0.693941  0.291345  0.099825  0.829784\n",
       "std    0.889000  0.780286  1.428150  0.922028\n",
       "min   -0.282954 -0.551220 -1.719689 -0.128685\n",
       "25%   -0.070472 -0.326867 -0.991697  0.048620\n",
       "50%    0.722947  0.152444  0.378770  0.791148\n",
       "75%    1.274839  0.945873  0.807908  1.623108\n",
       "max    1.876850  1.270691  2.058666  1.823558"
      ]
     },
     "execution_count": 26,
     "metadata": {},
     "output_type": "execute_result"
    }
   ],
   "source": [
    "df.describe()"
   ]
  },
  {
   "cell_type": "markdown",
   "metadata": {},
   "source": [
    "Concise summary of a DataFrame"
   ]
  },
  {
   "cell_type": "code",
   "execution_count": 27,
   "metadata": {
    "collapsed": false
   },
   "outputs": [
    {
     "name": "stdout",
     "output_type": "stream",
     "text": [
      "<class 'pandas.core.frame.DataFrame'>\n",
      "Int64Index: 4 entries, 0 to 3\n",
      "Data columns (total 7 columns):\n",
      "A           4 non-null float64\n",
      "B           4 non-null datetime64[ns]\n",
      "C           4 non-null float32\n",
      "D           4 non-null float64\n",
      "E           4 non-null category\n",
      "F           4 non-null object\n",
      "tinyRick    1 non-null float64\n",
      "dtypes: category(1), datetime64[ns](1), float32(1), float64(3), object(1)\n",
      "memory usage: 228.0+ bytes\n"
     ]
    }
   ],
   "source": [
    "df2.info()"
   ]
  },
  {
   "cell_type": "markdown",
   "metadata": {},
   "source": [
    "Transposing your data"
   ]
  },
  {
   "cell_type": "code",
   "execution_count": 28,
   "metadata": {
    "collapsed": false
   },
   "outputs": [
    {
     "data": {
      "text/html": [
       "<div>\n",
       "<table border=\"1\" class=\"dataframe\">\n",
       "  <thead>\n",
       "    <tr style=\"text-align: right;\">\n",
       "      <th></th>\n",
       "      <th>0</th>\n",
       "      <th>1</th>\n",
       "      <th>2</th>\n",
       "      <th>3</th>\n",
       "      <th>4</th>\n",
       "      <th>5</th>\n",
       "    </tr>\n",
       "  </thead>\n",
       "  <tbody>\n",
       "    <tr>\n",
       "      <th>A</th>\n",
       "      <td>-0.169900</td>\n",
       "      <td>1.876850</td>\n",
       "      <td>-0.282954</td>\n",
       "      <td>0.227809</td>\n",
       "      <td>1.293757</td>\n",
       "      <td>1.218084</td>\n",
       "    </tr>\n",
       "    <tr>\n",
       "      <th>B</th>\n",
       "      <td>0.289323</td>\n",
       "      <td>1.270691</td>\n",
       "      <td>-0.441011</td>\n",
       "      <td>0.015566</td>\n",
       "      <td>-0.551220</td>\n",
       "      <td>1.164723</td>\n",
       "    </tr>\n",
       "    <tr>\n",
       "      <th>C</th>\n",
       "      <td>0.573236</td>\n",
       "      <td>0.886132</td>\n",
       "      <td>0.184304</td>\n",
       "      <td>-1.719689</td>\n",
       "      <td>2.058666</td>\n",
       "      <td>-1.383697</td>\n",
       "    </tr>\n",
       "    <tr>\n",
       "      <th>D</th>\n",
       "      <td>1.823558</td>\n",
       "      <td>1.507054</td>\n",
       "      <td>1.661792</td>\n",
       "      <td>0.075242</td>\n",
       "      <td>0.039746</td>\n",
       "      <td>-0.128685</td>\n",
       "    </tr>\n",
       "  </tbody>\n",
       "</table>\n",
       "</div>"
      ],
      "text/plain": [
       "          0         1         2         3         4         5\n",
       "A -0.169900  1.876850 -0.282954  0.227809  1.293757  1.218084\n",
       "B  0.289323  1.270691 -0.441011  0.015566 -0.551220  1.164723\n",
       "C  0.573236  0.886132  0.184304 -1.719689  2.058666 -1.383697\n",
       "D  1.823558  1.507054  1.661792  0.075242  0.039746 -0.128685"
      ]
     },
     "execution_count": 28,
     "metadata": {},
     "output_type": "execute_result"
    }
   ],
   "source": [
    "df.T"
   ]
  },
  {
   "cell_type": "markdown",
   "metadata": {},
   "source": [
    "Sorting by values"
   ]
  },
  {
   "cell_type": "code",
   "execution_count": 29,
   "metadata": {
    "collapsed": false
   },
   "outputs": [
    {
     "data": {
      "text/html": [
       "<div>\n",
       "<table border=\"1\" class=\"dataframe\">\n",
       "  <thead>\n",
       "    <tr style=\"text-align: right;\">\n",
       "      <th></th>\n",
       "      <th>A</th>\n",
       "      <th>B</th>\n",
       "      <th>C</th>\n",
       "      <th>D</th>\n",
       "    </tr>\n",
       "  </thead>\n",
       "  <tbody>\n",
       "    <tr>\n",
       "      <th>4</th>\n",
       "      <td>1.293757</td>\n",
       "      <td>-0.551220</td>\n",
       "      <td>2.058666</td>\n",
       "      <td>0.039746</td>\n",
       "    </tr>\n",
       "    <tr>\n",
       "      <th>2</th>\n",
       "      <td>-0.282954</td>\n",
       "      <td>-0.441011</td>\n",
       "      <td>0.184304</td>\n",
       "      <td>1.661792</td>\n",
       "    </tr>\n",
       "    <tr>\n",
       "      <th>3</th>\n",
       "      <td>0.227809</td>\n",
       "      <td>0.015566</td>\n",
       "      <td>-1.719689</td>\n",
       "      <td>0.075242</td>\n",
       "    </tr>\n",
       "    <tr>\n",
       "      <th>0</th>\n",
       "      <td>-0.169900</td>\n",
       "      <td>0.289323</td>\n",
       "      <td>0.573236</td>\n",
       "      <td>1.823558</td>\n",
       "    </tr>\n",
       "    <tr>\n",
       "      <th>5</th>\n",
       "      <td>1.218084</td>\n",
       "      <td>1.164723</td>\n",
       "      <td>-1.383697</td>\n",
       "      <td>-0.128685</td>\n",
       "    </tr>\n",
       "    <tr>\n",
       "      <th>1</th>\n",
       "      <td>1.876850</td>\n",
       "      <td>1.270691</td>\n",
       "      <td>0.886132</td>\n",
       "      <td>1.507054</td>\n",
       "    </tr>\n",
       "  </tbody>\n",
       "</table>\n",
       "</div>"
      ],
      "text/plain": [
       "          A         B         C         D\n",
       "4  1.293757 -0.551220  2.058666  0.039746\n",
       "2 -0.282954 -0.441011  0.184304  1.661792\n",
       "3  0.227809  0.015566 -1.719689  0.075242\n",
       "0 -0.169900  0.289323  0.573236  1.823558\n",
       "5  1.218084  1.164723 -1.383697 -0.128685\n",
       "1  1.876850  1.270691  0.886132  1.507054"
      ]
     },
     "execution_count": 29,
     "metadata": {},
     "output_type": "execute_result"
    }
   ],
   "source": [
    "df.sort_values(by='B')"
   ]
  },
  {
   "cell_type": "markdown",
   "metadata": {},
   "source": [
    "# Selection"
   ]
  },
  {
   "cell_type": "markdown",
   "metadata": {},
   "source": [
    "important ones:\n",
    "- **.loc** works on **label** of index and boolean array\n",
    "- **.iloc** works on integer **position**  (from 0 to length-1 of the axis)\n",
    "\n",
    "for completeness/comparison:\n",
    "- .ix first performs label based, if that fails then it falls to integer based --> don't use it (deprecated soon, prone to mistakes)\n",
    "- .at get scalar values. It's a very fast loc\n",
    "- .iat Get scalar values. It's a very fast iloc\n",
    "\n",
    "CAVEATS: **label-based slicing in pandas is inclusive**. The primary reason for this is that it is often not possible to easily determine the “successor” or next element after a particular label in an index."
   ]
  },
  {
   "cell_type": "markdown",
   "metadata": {},
   "source": [
    "## Getting"
   ]
  },
  {
   "cell_type": "markdown",
   "metadata": {},
   "source": [
    "Selecting a single column, which yields a Series."
   ]
  },
  {
   "cell_type": "code",
   "execution_count": 30,
   "metadata": {
    "collapsed": false
   },
   "outputs": [
    {
     "data": {
      "text/plain": [
       "0   -0.169900\n",
       "1    1.876850\n",
       "2   -0.282954\n",
       "3    0.227809\n",
       "4    1.293757\n",
       "5    1.218084\n",
       "Name: A, dtype: float64"
      ]
     },
     "execution_count": 30,
     "metadata": {},
     "output_type": "execute_result"
    }
   ],
   "source": [
    "df[\"A\"]"
   ]
  },
  {
   "cell_type": "markdown",
   "metadata": {},
   "source": [
    "equivalent"
   ]
  },
  {
   "cell_type": "code",
   "execution_count": 31,
   "metadata": {
    "collapsed": false
   },
   "outputs": [
    {
     "data": {
      "text/plain": [
       "0   -0.169900\n",
       "1    1.876850\n",
       "2   -0.282954\n",
       "3    0.227809\n",
       "4    1.293757\n",
       "5    1.218084\n",
       "Name: A, dtype: float64"
      ]
     },
     "execution_count": 31,
     "metadata": {},
     "output_type": "execute_result"
    }
   ],
   "source": [
    "df.A"
   ]
  },
  {
   "cell_type": "markdown",
   "metadata": {},
   "source": [
    "selecting with a list of column names, yields a data frame (also with a single column name)"
   ]
  },
  {
   "cell_type": "code",
   "execution_count": 32,
   "metadata": {
    "collapsed": false
   },
   "outputs": [
    {
     "data": {
      "text/html": [
       "<div>\n",
       "<table border=\"1\" class=\"dataframe\">\n",
       "  <thead>\n",
       "    <tr style=\"text-align: right;\">\n",
       "      <th></th>\n",
       "      <th>A</th>\n",
       "      <th>C</th>\n",
       "    </tr>\n",
       "  </thead>\n",
       "  <tbody>\n",
       "    <tr>\n",
       "      <th>0</th>\n",
       "      <td>-0.169900</td>\n",
       "      <td>0.573236</td>\n",
       "    </tr>\n",
       "    <tr>\n",
       "      <th>1</th>\n",
       "      <td>1.876850</td>\n",
       "      <td>0.886132</td>\n",
       "    </tr>\n",
       "    <tr>\n",
       "      <th>2</th>\n",
       "      <td>-0.282954</td>\n",
       "      <td>0.184304</td>\n",
       "    </tr>\n",
       "    <tr>\n",
       "      <th>3</th>\n",
       "      <td>0.227809</td>\n",
       "      <td>-1.719689</td>\n",
       "    </tr>\n",
       "    <tr>\n",
       "      <th>4</th>\n",
       "      <td>1.293757</td>\n",
       "      <td>2.058666</td>\n",
       "    </tr>\n",
       "    <tr>\n",
       "      <th>5</th>\n",
       "      <td>1.218084</td>\n",
       "      <td>-1.383697</td>\n",
       "    </tr>\n",
       "  </tbody>\n",
       "</table>\n",
       "</div>"
      ],
      "text/plain": [
       "          A         C\n",
       "0 -0.169900  0.573236\n",
       "1  1.876850  0.886132\n",
       "2 -0.282954  0.184304\n",
       "3  0.227809 -1.719689\n",
       "4  1.293757  2.058666\n",
       "5  1.218084 -1.383697"
      ]
     },
     "execution_count": 32,
     "metadata": {},
     "output_type": "execute_result"
    }
   ],
   "source": [
    "df[[\"A\", \"C\"]]"
   ]
  },
  {
   "cell_type": "markdown",
   "metadata": {},
   "source": [
    "Selecting via [], which slices the rows."
   ]
  },
  {
   "cell_type": "code",
   "execution_count": 33,
   "metadata": {
    "collapsed": false
   },
   "outputs": [
    {
     "data": {
      "text/html": [
       "<div>\n",
       "<table border=\"1\" class=\"dataframe\">\n",
       "  <thead>\n",
       "    <tr style=\"text-align: right;\">\n",
       "      <th></th>\n",
       "      <th>A</th>\n",
       "      <th>B</th>\n",
       "      <th>C</th>\n",
       "      <th>D</th>\n",
       "    </tr>\n",
       "  </thead>\n",
       "  <tbody>\n",
       "    <tr>\n",
       "      <th>0</th>\n",
       "      <td>-0.169900</td>\n",
       "      <td>0.289323</td>\n",
       "      <td>0.573236</td>\n",
       "      <td>1.823558</td>\n",
       "    </tr>\n",
       "    <tr>\n",
       "      <th>1</th>\n",
       "      <td>1.876850</td>\n",
       "      <td>1.270691</td>\n",
       "      <td>0.886132</td>\n",
       "      <td>1.507054</td>\n",
       "    </tr>\n",
       "    <tr>\n",
       "      <th>2</th>\n",
       "      <td>-0.282954</td>\n",
       "      <td>-0.441011</td>\n",
       "      <td>0.184304</td>\n",
       "      <td>1.661792</td>\n",
       "    </tr>\n",
       "  </tbody>\n",
       "</table>\n",
       "</div>"
      ],
      "text/plain": [
       "          A         B         C         D\n",
       "0 -0.169900  0.289323  0.573236  1.823558\n",
       "1  1.876850  1.270691  0.886132  1.507054\n",
       "2 -0.282954 -0.441011  0.184304  1.661792"
      ]
     },
     "execution_count": 33,
     "metadata": {},
     "output_type": "execute_result"
    }
   ],
   "source": [
    "df[0:3]"
   ]
  },
  {
   "cell_type": "markdown",
   "metadata": {},
   "source": [
    "## Selection by Label"
   ]
  },
  {
   "cell_type": "markdown",
   "metadata": {},
   "source": [
    "df.loc[rows, columns]\n",
    "\n",
    ".loc is primarily label based, but may also be used with a boolean array. .loc will raise KeyError when the items are not found. Allowed inputs are:\n",
    "- A single label, e.g. 5 or 'a', (note that 5 is interpreted as a label of the index. This use is not an integer position along the index)\n",
    "- A list or array of labels ['a', 'b', 'c']\n",
    "- A slice object with labels 'a':'f', (note that contrary to usual python slices, both the start and the stop are included!)\n",
    "- A boolean array\n",
    "- A callable function with one argument (the calling Series, DataFrame or Panel) and that returns valid output for indexing (one of the above)"
   ]
  },
  {
   "cell_type": "code",
   "execution_count": 34,
   "metadata": {
    "collapsed": false
   },
   "outputs": [
    {
     "data": {
      "text/html": [
       "<div>\n",
       "<table border=\"1\" class=\"dataframe\">\n",
       "  <thead>\n",
       "    <tr style=\"text-align: right;\">\n",
       "      <th></th>\n",
       "      <th>A</th>\n",
       "      <th>B</th>\n",
       "      <th>C</th>\n",
       "      <th>D</th>\n",
       "    </tr>\n",
       "  </thead>\n",
       "  <tbody>\n",
       "    <tr>\n",
       "      <th>0</th>\n",
       "      <td>-0.008918</td>\n",
       "      <td>-1.209779</td>\n",
       "      <td>1.830216</td>\n",
       "      <td>-1.031679</td>\n",
       "    </tr>\n",
       "    <tr>\n",
       "      <th>1</th>\n",
       "      <td>-0.418588</td>\n",
       "      <td>0.792097</td>\n",
       "      <td>-2.936405</td>\n",
       "      <td>-1.203708</td>\n",
       "    </tr>\n",
       "    <tr>\n",
       "      <th>2</th>\n",
       "      <td>0.577104</td>\n",
       "      <td>-1.230854</td>\n",
       "      <td>0.214456</td>\n",
       "      <td>0.898157</td>\n",
       "    </tr>\n",
       "    <tr>\n",
       "      <th>3</th>\n",
       "      <td>-0.375449</td>\n",
       "      <td>0.339775</td>\n",
       "      <td>0.551374</td>\n",
       "      <td>-1.198762</td>\n",
       "    </tr>\n",
       "    <tr>\n",
       "      <th>4</th>\n",
       "      <td>-0.104258</td>\n",
       "      <td>-1.646144</td>\n",
       "      <td>-0.202755</td>\n",
       "      <td>-1.118140</td>\n",
       "    </tr>\n",
       "    <tr>\n",
       "      <th>5</th>\n",
       "      <td>0.244080</td>\n",
       "      <td>0.297405</td>\n",
       "      <td>0.080183</td>\n",
       "      <td>-0.080778</td>\n",
       "    </tr>\n",
       "  </tbody>\n",
       "</table>\n",
       "</div>"
      ],
      "text/plain": [
       "          A         B         C         D\n",
       "0 -0.008918 -1.209779  1.830216 -1.031679\n",
       "1 -0.418588  0.792097 -2.936405 -1.203708\n",
       "2  0.577104 -1.230854  0.214456  0.898157\n",
       "3 -0.375449  0.339775  0.551374 -1.198762\n",
       "4 -0.104258 -1.646144 -0.202755 -1.118140\n",
       "5  0.244080  0.297405  0.080183 -0.080778"
      ]
     },
     "execution_count": 34,
     "metadata": {},
     "output_type": "execute_result"
    }
   ],
   "source": [
    "df = pd.DataFrame(np.random.randn(6, 4), columns=list('ABCD'))\n",
    "df"
   ]
  },
  {
   "cell_type": "code",
   "execution_count": 35,
   "metadata": {
    "collapsed": false
   },
   "outputs": [
    {
     "data": {
      "text/html": [
       "<div>\n",
       "<table border=\"1\" class=\"dataframe\">\n",
       "  <thead>\n",
       "    <tr style=\"text-align: right;\">\n",
       "      <th></th>\n",
       "      <th>4</th>\n",
       "      <th>0</th>\n",
       "      <th>1</th>\n",
       "      <th>5</th>\n",
       "      <th>2</th>\n",
       "      <th>3</th>\n",
       "    </tr>\n",
       "  </thead>\n",
       "  <tbody>\n",
       "    <tr>\n",
       "      <th>A</th>\n",
       "      <td>-0.008918</td>\n",
       "      <td>-0.418588</td>\n",
       "      <td>0.577104</td>\n",
       "      <td>-0.375449</td>\n",
       "      <td>-0.104258</td>\n",
       "      <td>0.244080</td>\n",
       "    </tr>\n",
       "    <tr>\n",
       "      <th>B</th>\n",
       "      <td>-1.209779</td>\n",
       "      <td>0.792097</td>\n",
       "      <td>-1.230854</td>\n",
       "      <td>0.339775</td>\n",
       "      <td>-1.646144</td>\n",
       "      <td>0.297405</td>\n",
       "    </tr>\n",
       "    <tr>\n",
       "      <th>C</th>\n",
       "      <td>1.830216</td>\n",
       "      <td>-2.936405</td>\n",
       "      <td>0.214456</td>\n",
       "      <td>0.551374</td>\n",
       "      <td>-0.202755</td>\n",
       "      <td>0.080183</td>\n",
       "    </tr>\n",
       "    <tr>\n",
       "      <th>D</th>\n",
       "      <td>-1.031679</td>\n",
       "      <td>-1.203708</td>\n",
       "      <td>0.898157</td>\n",
       "      <td>-1.198762</td>\n",
       "      <td>-1.118140</td>\n",
       "      <td>-0.080778</td>\n",
       "    </tr>\n",
       "  </tbody>\n",
       "</table>\n",
       "</div>"
      ],
      "text/plain": [
       "          4         0         1         5         2         3\n",
       "A -0.008918 -0.418588  0.577104 -0.375449 -0.104258  0.244080\n",
       "B -1.209779  0.792097 -1.230854  0.339775 -1.646144  0.297405\n",
       "C  1.830216 -2.936405  0.214456  0.551374 -0.202755  0.080183\n",
       "D -1.031679 -1.203708  0.898157 -1.198762 -1.118140 -0.080778"
      ]
     },
     "execution_count": 35,
     "metadata": {},
     "output_type": "execute_result"
    }
   ],
   "source": [
    "# Let's transpose the DataFrame and change the order of the columns (to force us to the string labels of the novel row index).\n",
    "# row-index: Strings, columns: Integers\n",
    "dfx = df.T\n",
    "import random\n",
    "columns = dfx.columns.tolist()\n",
    "random.shuffle(columns)\n",
    "dfx.columns = columns\n",
    "dfx"
   ]
  },
  {
   "cell_type": "code",
   "execution_count": 36,
   "metadata": {
    "collapsed": false
   },
   "outputs": [
    {
     "data": {
      "text/html": [
       "<div>\n",
       "<table border=\"1\" class=\"dataframe\">\n",
       "  <thead>\n",
       "    <tr style=\"text-align: right;\">\n",
       "      <th></th>\n",
       "      <th>4</th>\n",
       "      <th>0</th>\n",
       "      <th>1</th>\n",
       "      <th>5</th>\n",
       "      <th>2</th>\n",
       "      <th>3</th>\n",
       "    </tr>\n",
       "  </thead>\n",
       "  <tbody>\n",
       "    <tr>\n",
       "      <th>A</th>\n",
       "      <td>-0.008918</td>\n",
       "      <td>-0.418588</td>\n",
       "      <td>0.577104</td>\n",
       "      <td>-0.375449</td>\n",
       "      <td>-0.104258</td>\n",
       "      <td>0.244080</td>\n",
       "    </tr>\n",
       "    <tr>\n",
       "      <th>B</th>\n",
       "      <td>-1.209779</td>\n",
       "      <td>0.792097</td>\n",
       "      <td>-1.230854</td>\n",
       "      <td>0.339775</td>\n",
       "      <td>-1.646144</td>\n",
       "      <td>0.297405</td>\n",
       "    </tr>\n",
       "    <tr>\n",
       "      <th>C</th>\n",
       "      <td>1.830216</td>\n",
       "      <td>-2.936405</td>\n",
       "      <td>0.214456</td>\n",
       "      <td>0.551374</td>\n",
       "      <td>-0.202755</td>\n",
       "      <td>0.080183</td>\n",
       "    </tr>\n",
       "  </tbody>\n",
       "</table>\n",
       "</div>"
      ],
      "text/plain": [
       "          4         0         1         5         2         3\n",
       "A -0.008918 -0.418588  0.577104 -0.375449 -0.104258  0.244080\n",
       "B -1.209779  0.792097 -1.230854  0.339775 -1.646144  0.297405\n",
       "C  1.830216 -2.936405  0.214456  0.551374 -0.202755  0.080183"
      ]
     },
     "execution_count": 36,
     "metadata": {},
     "output_type": "execute_result"
    }
   ],
   "source": [
    "dfx.loc[\"A\":\"C\", ]"
   ]
  },
  {
   "cell_type": "code",
   "execution_count": 37,
   "metadata": {
    "collapsed": false
   },
   "outputs": [
    {
     "data": {
      "text/html": [
       "<div>\n",
       "<table border=\"1\" class=\"dataframe\">\n",
       "  <thead>\n",
       "    <tr style=\"text-align: right;\">\n",
       "      <th></th>\n",
       "      <th>4</th>\n",
       "      <th>0</th>\n",
       "      <th>1</th>\n",
       "      <th>5</th>\n",
       "      <th>2</th>\n",
       "      <th>3</th>\n",
       "    </tr>\n",
       "  </thead>\n",
       "  <tbody>\n",
       "    <tr>\n",
       "      <th>C</th>\n",
       "      <td>1.830216</td>\n",
       "      <td>-2.936405</td>\n",
       "      <td>0.214456</td>\n",
       "      <td>0.551374</td>\n",
       "      <td>-0.202755</td>\n",
       "      <td>0.080183</td>\n",
       "    </tr>\n",
       "    <tr>\n",
       "      <th>A</th>\n",
       "      <td>-0.008918</td>\n",
       "      <td>-0.418588</td>\n",
       "      <td>0.577104</td>\n",
       "      <td>-0.375449</td>\n",
       "      <td>-0.104258</td>\n",
       "      <td>0.244080</td>\n",
       "    </tr>\n",
       "    <tr>\n",
       "      <th>D</th>\n",
       "      <td>-1.031679</td>\n",
       "      <td>-1.203708</td>\n",
       "      <td>0.898157</td>\n",
       "      <td>-1.198762</td>\n",
       "      <td>-1.118140</td>\n",
       "      <td>-0.080778</td>\n",
       "    </tr>\n",
       "  </tbody>\n",
       "</table>\n",
       "</div>"
      ],
      "text/plain": [
       "          4         0         1         5         2         3\n",
       "C  1.830216 -2.936405  0.214456  0.551374 -0.202755  0.080183\n",
       "A -0.008918 -0.418588  0.577104 -0.375449 -0.104258  0.244080\n",
       "D -1.031679 -1.203708  0.898157 -1.198762 -1.118140 -0.080778"
      ]
     },
     "execution_count": 37,
     "metadata": {},
     "output_type": "execute_result"
    }
   ],
   "source": [
    "dfx.loc[[\"C\", \"A\", \"D\"], ]"
   ]
  },
  {
   "cell_type": "code",
   "execution_count": 38,
   "metadata": {
    "collapsed": false
   },
   "outputs": [
    {
     "data": {
      "text/html": [
       "<div>\n",
       "<table border=\"1\" class=\"dataframe\">\n",
       "  <thead>\n",
       "    <tr style=\"text-align: right;\">\n",
       "      <th></th>\n",
       "      <th>0</th>\n",
       "      <th>1</th>\n",
       "      <th>5</th>\n",
       "      <th>2</th>\n",
       "    </tr>\n",
       "  </thead>\n",
       "  <tbody>\n",
       "    <tr>\n",
       "      <th>A</th>\n",
       "      <td>-0.418588</td>\n",
       "      <td>0.577104</td>\n",
       "      <td>-0.375449</td>\n",
       "      <td>-0.104258</td>\n",
       "    </tr>\n",
       "    <tr>\n",
       "      <th>D</th>\n",
       "      <td>-1.203708</td>\n",
       "      <td>0.898157</td>\n",
       "      <td>-1.198762</td>\n",
       "      <td>-1.118140</td>\n",
       "    </tr>\n",
       "  </tbody>\n",
       "</table>\n",
       "</div>"
      ],
      "text/plain": [
       "          0         1         5         2\n",
       "A -0.418588  0.577104 -0.375449 -0.104258\n",
       "D -1.203708  0.898157 -1.198762 -1.118140"
      ]
     },
     "execution_count": 38,
     "metadata": {},
     "output_type": "execute_result"
    }
   ],
   "source": [
    "dfx.loc[[\"A\", \"D\"], 0:2]"
   ]
  },
  {
   "cell_type": "markdown",
   "metadata": {},
   "source": [
    "# Selection by Position"
   ]
  },
  {
   "cell_type": "markdown",
   "metadata": {},
   "source": [
    "df.iloc[rows, columns]\n",
    "\n",
    ".iloc is primarily integer position based (from 0 to length-1 of the axis), but may also be used with a boolean array. .iloc will raise IndexError if a requested indexer is out-of-bounds, except slice indexers which allow out-of-bounds indexing. (this conforms with python/numpy slice semantics). Allowed inputs are:\n",
    "- An integer e.g. 5\n",
    "- A list or array of integers [4, 3, 0]\n",
    "- A slice object with ints 1:7\n",
    "- A boolean array\n",
    "- A callable function with one argument (the calling Series, DataFrame or Panel) and that returns valid output for indexing (one of the above)"
   ]
  },
  {
   "cell_type": "code",
   "execution_count": 39,
   "metadata": {
    "collapsed": false
   },
   "outputs": [
    {
     "data": {
      "text/html": [
       "<div>\n",
       "<table border=\"1\" class=\"dataframe\">\n",
       "  <thead>\n",
       "    <tr style=\"text-align: right;\">\n",
       "      <th></th>\n",
       "      <th>A</th>\n",
       "      <th>B</th>\n",
       "      <th>C</th>\n",
       "      <th>D</th>\n",
       "    </tr>\n",
       "  </thead>\n",
       "  <tbody>\n",
       "    <tr>\n",
       "      <th>0</th>\n",
       "      <td>1.695964</td>\n",
       "      <td>-2.460150</td>\n",
       "      <td>-2.087428</td>\n",
       "      <td>0.172406</td>\n",
       "    </tr>\n",
       "    <tr>\n",
       "      <th>1</th>\n",
       "      <td>-0.750895</td>\n",
       "      <td>2.017630</td>\n",
       "      <td>-0.725006</td>\n",
       "      <td>1.508415</td>\n",
       "    </tr>\n",
       "    <tr>\n",
       "      <th>2</th>\n",
       "      <td>-0.602350</td>\n",
       "      <td>2.511633</td>\n",
       "      <td>-0.181661</td>\n",
       "      <td>-0.463247</td>\n",
       "    </tr>\n",
       "    <tr>\n",
       "      <th>3</th>\n",
       "      <td>-0.615276</td>\n",
       "      <td>1.317014</td>\n",
       "      <td>-0.902506</td>\n",
       "      <td>0.125343</td>\n",
       "    </tr>\n",
       "    <tr>\n",
       "      <th>4</th>\n",
       "      <td>-1.099925</td>\n",
       "      <td>0.316938</td>\n",
       "      <td>1.285934</td>\n",
       "      <td>2.671944</td>\n",
       "    </tr>\n",
       "    <tr>\n",
       "      <th>5</th>\n",
       "      <td>-0.379311</td>\n",
       "      <td>0.610271</td>\n",
       "      <td>-1.756487</td>\n",
       "      <td>-0.195240</td>\n",
       "    </tr>\n",
       "  </tbody>\n",
       "</table>\n",
       "</div>"
      ],
      "text/plain": [
       "          A         B         C         D\n",
       "0  1.695964 -2.460150 -2.087428  0.172406\n",
       "1 -0.750895  2.017630 -0.725006  1.508415\n",
       "2 -0.602350  2.511633 -0.181661 -0.463247\n",
       "3 -0.615276  1.317014 -0.902506  0.125343\n",
       "4 -1.099925  0.316938  1.285934  2.671944\n",
       "5 -0.379311  0.610271 -1.756487 -0.195240"
      ]
     },
     "execution_count": 39,
     "metadata": {},
     "output_type": "execute_result"
    }
   ],
   "source": [
    "df = pd.DataFrame(np.random.randn(6, 4), columns=list('ABCD'))\n",
    "df"
   ]
  },
  {
   "cell_type": "code",
   "execution_count": 40,
   "metadata": {
    "collapsed": false
   },
   "outputs": [],
   "source": [
    "### transpose\n",
    "# df = df.T\n",
    "# df"
   ]
  },
  {
   "cell_type": "code",
   "execution_count": 41,
   "metadata": {
    "collapsed": false,
    "scrolled": true
   },
   "outputs": [
    {
     "data": {
      "text/html": [
       "<div>\n",
       "<table border=\"1\" class=\"dataframe\">\n",
       "  <thead>\n",
       "    <tr style=\"text-align: right;\">\n",
       "      <th></th>\n",
       "      <th>A</th>\n",
       "      <th>B</th>\n",
       "      <th>C</th>\n",
       "      <th>D</th>\n",
       "    </tr>\n",
       "  </thead>\n",
       "  <tbody>\n",
       "    <tr>\n",
       "      <th>0</th>\n",
       "      <td>1.695964</td>\n",
       "      <td>-2.460150</td>\n",
       "      <td>-2.087428</td>\n",
       "      <td>0.172406</td>\n",
       "    </tr>\n",
       "    <tr>\n",
       "      <th>1</th>\n",
       "      <td>-0.750895</td>\n",
       "      <td>2.017630</td>\n",
       "      <td>-0.725006</td>\n",
       "      <td>1.508415</td>\n",
       "    </tr>\n",
       "    <tr>\n",
       "      <th>2</th>\n",
       "      <td>-0.602350</td>\n",
       "      <td>2.511633</td>\n",
       "      <td>-0.181661</td>\n",
       "      <td>-0.463247</td>\n",
       "    </tr>\n",
       "  </tbody>\n",
       "</table>\n",
       "</div>"
      ],
      "text/plain": [
       "          A         B         C         D\n",
       "0  1.695964 -2.460150 -2.087428  0.172406\n",
       "1 -0.750895  2.017630 -0.725006  1.508415\n",
       "2 -0.602350  2.511633 -0.181661 -0.463247"
      ]
     },
     "execution_count": 41,
     "metadata": {},
     "output_type": "execute_result"
    }
   ],
   "source": [
    "df.iloc[0:3, :]"
   ]
  },
  {
   "cell_type": "markdown",
   "metadata": {},
   "source": [
    "uncomment the transpose and execute the two cells above again and notice that this doesn't raise an Error compared to label based indexing."
   ]
  },
  {
   "cell_type": "code",
   "execution_count": 42,
   "metadata": {
    "collapsed": false
   },
   "outputs": [
    {
     "data": {
      "text/html": [
       "<div>\n",
       "<table border=\"1\" class=\"dataframe\">\n",
       "  <thead>\n",
       "    <tr style=\"text-align: right;\">\n",
       "      <th></th>\n",
       "      <th>B</th>\n",
       "      <th>C</th>\n",
       "    </tr>\n",
       "  </thead>\n",
       "  <tbody>\n",
       "    <tr>\n",
       "      <th>1</th>\n",
       "      <td>2.017630</td>\n",
       "      <td>-0.725006</td>\n",
       "    </tr>\n",
       "    <tr>\n",
       "      <th>3</th>\n",
       "      <td>1.317014</td>\n",
       "      <td>-0.902506</td>\n",
       "    </tr>\n",
       "    <tr>\n",
       "      <th>5</th>\n",
       "      <td>0.610271</td>\n",
       "      <td>-1.756487</td>\n",
       "    </tr>\n",
       "  </tbody>\n",
       "</table>\n",
       "</div>"
      ],
      "text/plain": [
       "          B         C\n",
       "1  2.017630 -0.725006\n",
       "3  1.317014 -0.902506\n",
       "5  0.610271 -1.756487"
      ]
     },
     "execution_count": 42,
     "metadata": {},
     "output_type": "execute_result"
    }
   ],
   "source": [
    "df.iloc[[1, 3, 5], 1:3] "
   ]
  },
  {
   "cell_type": "markdown",
   "metadata": {},
   "source": [
    "# Boolean indexing"
   ]
  },
  {
   "cell_type": "code",
   "execution_count": 43,
   "metadata": {
    "collapsed": false
   },
   "outputs": [
    {
     "data": {
      "text/html": [
       "<div>\n",
       "<table border=\"1\" class=\"dataframe\">\n",
       "  <thead>\n",
       "    <tr style=\"text-align: right;\">\n",
       "      <th></th>\n",
       "      <th>A</th>\n",
       "      <th>B</th>\n",
       "      <th>C</th>\n",
       "      <th>D</th>\n",
       "    </tr>\n",
       "  </thead>\n",
       "  <tbody>\n",
       "    <tr>\n",
       "      <th>0</th>\n",
       "      <td>-0.025316</td>\n",
       "      <td>0.576631</td>\n",
       "      <td>-0.097271</td>\n",
       "      <td>-0.830734</td>\n",
       "    </tr>\n",
       "    <tr>\n",
       "      <th>1</th>\n",
       "      <td>-0.216126</td>\n",
       "      <td>1.393101</td>\n",
       "      <td>-1.100897</td>\n",
       "      <td>0.252488</td>\n",
       "    </tr>\n",
       "    <tr>\n",
       "      <th>2</th>\n",
       "      <td>-0.519939</td>\n",
       "      <td>0.459839</td>\n",
       "      <td>0.446857</td>\n",
       "      <td>0.165097</td>\n",
       "    </tr>\n",
       "    <tr>\n",
       "      <th>3</th>\n",
       "      <td>-0.213917</td>\n",
       "      <td>0.011958</td>\n",
       "      <td>0.156027</td>\n",
       "      <td>1.678674</td>\n",
       "    </tr>\n",
       "    <tr>\n",
       "      <th>4</th>\n",
       "      <td>0.919606</td>\n",
       "      <td>0.556492</td>\n",
       "      <td>-1.089998</td>\n",
       "      <td>0.681550</td>\n",
       "    </tr>\n",
       "    <tr>\n",
       "      <th>5</th>\n",
       "      <td>0.390535</td>\n",
       "      <td>-1.825435</td>\n",
       "      <td>0.009902</td>\n",
       "      <td>-0.558049</td>\n",
       "    </tr>\n",
       "  </tbody>\n",
       "</table>\n",
       "</div>"
      ],
      "text/plain": [
       "          A         B         C         D\n",
       "0 -0.025316  0.576631 -0.097271 -0.830734\n",
       "1 -0.216126  1.393101 -1.100897  0.252488\n",
       "2 -0.519939  0.459839  0.446857  0.165097\n",
       "3 -0.213917  0.011958  0.156027  1.678674\n",
       "4  0.919606  0.556492 -1.089998  0.681550\n",
       "5  0.390535 -1.825435  0.009902 -0.558049"
      ]
     },
     "execution_count": 43,
     "metadata": {},
     "output_type": "execute_result"
    }
   ],
   "source": [
    "df = pd.DataFrame(np.random.randn(6, 4), columns=list('ABCD'))\n",
    "df"
   ]
  },
  {
   "cell_type": "markdown",
   "metadata": {},
   "source": [
    "Using a single column’s values to select data."
   ]
  },
  {
   "cell_type": "code",
   "execution_count": 44,
   "metadata": {
    "collapsed": false
   },
   "outputs": [
    {
     "data": {
      "text/html": [
       "<div>\n",
       "<table border=\"1\" class=\"dataframe\">\n",
       "  <thead>\n",
       "    <tr style=\"text-align: right;\">\n",
       "      <th></th>\n",
       "      <th>A</th>\n",
       "      <th>B</th>\n",
       "      <th>C</th>\n",
       "      <th>D</th>\n",
       "    </tr>\n",
       "  </thead>\n",
       "  <tbody>\n",
       "    <tr>\n",
       "      <th>4</th>\n",
       "      <td>0.919606</td>\n",
       "      <td>0.556492</td>\n",
       "      <td>-1.089998</td>\n",
       "      <td>0.681550</td>\n",
       "    </tr>\n",
       "    <tr>\n",
       "      <th>5</th>\n",
       "      <td>0.390535</td>\n",
       "      <td>-1.825435</td>\n",
       "      <td>0.009902</td>\n",
       "      <td>-0.558049</td>\n",
       "    </tr>\n",
       "  </tbody>\n",
       "</table>\n",
       "</div>"
      ],
      "text/plain": [
       "          A         B         C         D\n",
       "4  0.919606  0.556492 -1.089998  0.681550\n",
       "5  0.390535 -1.825435  0.009902 -0.558049"
      ]
     },
     "execution_count": 44,
     "metadata": {},
     "output_type": "execute_result"
    }
   ],
   "source": [
    "df[df[\"A\"] > 0]"
   ]
  },
  {
   "cell_type": "markdown",
   "metadata": {},
   "source": [
    "A where operation for getting."
   ]
  },
  {
   "cell_type": "code",
   "execution_count": 45,
   "metadata": {
    "collapsed": false
   },
   "outputs": [
    {
     "data": {
      "text/html": [
       "<div>\n",
       "<table border=\"1\" class=\"dataframe\">\n",
       "  <thead>\n",
       "    <tr style=\"text-align: right;\">\n",
       "      <th></th>\n",
       "      <th>A</th>\n",
       "      <th>B</th>\n",
       "      <th>C</th>\n",
       "      <th>D</th>\n",
       "    </tr>\n",
       "  </thead>\n",
       "  <tbody>\n",
       "    <tr>\n",
       "      <th>0</th>\n",
       "      <td>NaN</td>\n",
       "      <td>0.576631</td>\n",
       "      <td>NaN</td>\n",
       "      <td>NaN</td>\n",
       "    </tr>\n",
       "    <tr>\n",
       "      <th>1</th>\n",
       "      <td>NaN</td>\n",
       "      <td>1.393101</td>\n",
       "      <td>NaN</td>\n",
       "      <td>0.252488</td>\n",
       "    </tr>\n",
       "    <tr>\n",
       "      <th>2</th>\n",
       "      <td>NaN</td>\n",
       "      <td>0.459839</td>\n",
       "      <td>0.446857</td>\n",
       "      <td>0.165097</td>\n",
       "    </tr>\n",
       "    <tr>\n",
       "      <th>3</th>\n",
       "      <td>NaN</td>\n",
       "      <td>0.011958</td>\n",
       "      <td>0.156027</td>\n",
       "      <td>1.678674</td>\n",
       "    </tr>\n",
       "    <tr>\n",
       "      <th>4</th>\n",
       "      <td>0.919606</td>\n",
       "      <td>0.556492</td>\n",
       "      <td>NaN</td>\n",
       "      <td>0.681550</td>\n",
       "    </tr>\n",
       "    <tr>\n",
       "      <th>5</th>\n",
       "      <td>0.390535</td>\n",
       "      <td>NaN</td>\n",
       "      <td>0.009902</td>\n",
       "      <td>NaN</td>\n",
       "    </tr>\n",
       "  </tbody>\n",
       "</table>\n",
       "</div>"
      ],
      "text/plain": [
       "          A         B         C         D\n",
       "0       NaN  0.576631       NaN       NaN\n",
       "1       NaN  1.393101       NaN  0.252488\n",
       "2       NaN  0.459839  0.446857  0.165097\n",
       "3       NaN  0.011958  0.156027  1.678674\n",
       "4  0.919606  0.556492       NaN  0.681550\n",
       "5  0.390535       NaN  0.009902       NaN"
      ]
     },
     "execution_count": 45,
     "metadata": {},
     "output_type": "execute_result"
    }
   ],
   "source": [
    "df[df > 0]"
   ]
  },
  {
   "cell_type": "markdown",
   "metadata": {},
   "source": [
    "This comparison yields a Pandas.Series of Booleans."
   ]
  },
  {
   "cell_type": "code",
   "execution_count": 46,
   "metadata": {
    "collapsed": false
   },
   "outputs": [
    {
     "name": "stdout",
     "output_type": "stream",
     "text": [
      "<class 'pandas.core.series.Series'>\n"
     ]
    },
    {
     "data": {
      "text/plain": [
       "0    False\n",
       "1    False\n",
       "2    False\n",
       "3    False\n",
       "4     True\n",
       "5     True\n",
       "Name: A, dtype: bool"
      ]
     },
     "execution_count": 46,
     "metadata": {},
     "output_type": "execute_result"
    }
   ],
   "source": [
    "cond = df[\"A\"] > 0\n",
    "print type(cond)\n",
    "cond"
   ]
  },
  {
   "cell_type": "markdown",
   "metadata": {},
   "source": [
    "Summing boolean arrays can come in handy (True=1, False=0)"
   ]
  },
  {
   "cell_type": "code",
   "execution_count": 47,
   "metadata": {
    "collapsed": false
   },
   "outputs": [
    {
     "data": {
      "text/plain": [
       "(2, 6)"
      ]
     },
     "execution_count": 47,
     "metadata": {},
     "output_type": "execute_result"
    }
   ],
   "source": [
    "sum(cond), len(cond) # or cond.sum(), cond.shape[0]"
   ]
  },
  {
   "cell_type": "markdown",
   "metadata": {},
   "source": [
    "**Frequent use case**: combining a Series of Bools with specific column names to select data."
   ]
  },
  {
   "cell_type": "code",
   "execution_count": 48,
   "metadata": {
    "collapsed": false
   },
   "outputs": [
    {
     "data": {
      "text/html": [
       "<div>\n",
       "<table border=\"1\" class=\"dataframe\">\n",
       "  <thead>\n",
       "    <tr style=\"text-align: right;\">\n",
       "      <th></th>\n",
       "      <th>A</th>\n",
       "      <th>C</th>\n",
       "    </tr>\n",
       "  </thead>\n",
       "  <tbody>\n",
       "    <tr>\n",
       "      <th>4</th>\n",
       "      <td>0.919606</td>\n",
       "      <td>-1.089998</td>\n",
       "    </tr>\n",
       "    <tr>\n",
       "      <th>5</th>\n",
       "      <td>0.390535</td>\n",
       "      <td>0.009902</td>\n",
       "    </tr>\n",
       "  </tbody>\n",
       "</table>\n",
       "</div>"
      ],
      "text/plain": [
       "          A         C\n",
       "4  0.919606 -1.089998\n",
       "5  0.390535  0.009902"
      ]
     },
     "execution_count": 48,
     "metadata": {},
     "output_type": "execute_result"
    }
   ],
   "source": [
    "df.loc[cond, [\"A\", \"C\"]]"
   ]
  },
  {
   "cell_type": "markdown",
   "metadata": {},
   "source": [
    "Let's add a column to the DataFrame"
   ]
  },
  {
   "cell_type": "code",
   "execution_count": 49,
   "metadata": {
    "collapsed": true
   },
   "outputs": [],
   "source": [
    "df['E'] = ['one', 'one','two','three','four','three']"
   ]
  },
  {
   "cell_type": "code",
   "execution_count": 50,
   "metadata": {
    "collapsed": false
   },
   "outputs": [
    {
     "data": {
      "text/html": [
       "<div>\n",
       "<table border=\"1\" class=\"dataframe\">\n",
       "  <thead>\n",
       "    <tr style=\"text-align: right;\">\n",
       "      <th></th>\n",
       "      <th>A</th>\n",
       "      <th>B</th>\n",
       "      <th>C</th>\n",
       "      <th>D</th>\n",
       "      <th>E</th>\n",
       "    </tr>\n",
       "  </thead>\n",
       "  <tbody>\n",
       "    <tr>\n",
       "      <th>0</th>\n",
       "      <td>-0.025316</td>\n",
       "      <td>0.576631</td>\n",
       "      <td>-0.097271</td>\n",
       "      <td>-0.830734</td>\n",
       "      <td>one</td>\n",
       "    </tr>\n",
       "    <tr>\n",
       "      <th>1</th>\n",
       "      <td>-0.216126</td>\n",
       "      <td>1.393101</td>\n",
       "      <td>-1.100897</td>\n",
       "      <td>0.252488</td>\n",
       "      <td>one</td>\n",
       "    </tr>\n",
       "    <tr>\n",
       "      <th>2</th>\n",
       "      <td>-0.519939</td>\n",
       "      <td>0.459839</td>\n",
       "      <td>0.446857</td>\n",
       "      <td>0.165097</td>\n",
       "      <td>two</td>\n",
       "    </tr>\n",
       "    <tr>\n",
       "      <th>3</th>\n",
       "      <td>-0.213917</td>\n",
       "      <td>0.011958</td>\n",
       "      <td>0.156027</td>\n",
       "      <td>1.678674</td>\n",
       "      <td>three</td>\n",
       "    </tr>\n",
       "    <tr>\n",
       "      <th>4</th>\n",
       "      <td>0.919606</td>\n",
       "      <td>0.556492</td>\n",
       "      <td>-1.089998</td>\n",
       "      <td>0.681550</td>\n",
       "      <td>four</td>\n",
       "    </tr>\n",
       "    <tr>\n",
       "      <th>5</th>\n",
       "      <td>0.390535</td>\n",
       "      <td>-1.825435</td>\n",
       "      <td>0.009902</td>\n",
       "      <td>-0.558049</td>\n",
       "      <td>three</td>\n",
       "    </tr>\n",
       "  </tbody>\n",
       "</table>\n",
       "</div>"
      ],
      "text/plain": [
       "          A         B         C         D      E\n",
       "0 -0.025316  0.576631 -0.097271 -0.830734    one\n",
       "1 -0.216126  1.393101 -1.100897  0.252488    one\n",
       "2 -0.519939  0.459839  0.446857  0.165097    two\n",
       "3 -0.213917  0.011958  0.156027  1.678674  three\n",
       "4  0.919606  0.556492 -1.089998  0.681550   four\n",
       "5  0.390535 -1.825435  0.009902 -0.558049  three"
      ]
     },
     "execution_count": 50,
     "metadata": {},
     "output_type": "execute_result"
    }
   ],
   "source": [
    "df"
   ]
  },
  {
   "cell_type": "markdown",
   "metadata": {},
   "source": [
    "Using the isin() method for filtering:"
   ]
  },
  {
   "cell_type": "code",
   "execution_count": 51,
   "metadata": {
    "collapsed": false
   },
   "outputs": [
    {
     "data": {
      "text/html": [
       "<div>\n",
       "<table border=\"1\" class=\"dataframe\">\n",
       "  <thead>\n",
       "    <tr style=\"text-align: right;\">\n",
       "      <th></th>\n",
       "      <th>A</th>\n",
       "      <th>B</th>\n",
       "      <th>C</th>\n",
       "      <th>D</th>\n",
       "      <th>E</th>\n",
       "    </tr>\n",
       "  </thead>\n",
       "  <tbody>\n",
       "    <tr>\n",
       "      <th>2</th>\n",
       "      <td>-0.519939</td>\n",
       "      <td>0.459839</td>\n",
       "      <td>0.446857</td>\n",
       "      <td>0.165097</td>\n",
       "      <td>two</td>\n",
       "    </tr>\n",
       "    <tr>\n",
       "      <th>4</th>\n",
       "      <td>0.919606</td>\n",
       "      <td>0.556492</td>\n",
       "      <td>-1.089998</td>\n",
       "      <td>0.681550</td>\n",
       "      <td>four</td>\n",
       "    </tr>\n",
       "  </tbody>\n",
       "</table>\n",
       "</div>"
      ],
      "text/plain": [
       "          A         B         C         D     E\n",
       "2 -0.519939  0.459839  0.446857  0.165097   two\n",
       "4  0.919606  0.556492 -1.089998  0.681550  four"
      ]
     },
     "execution_count": 51,
     "metadata": {},
     "output_type": "execute_result"
    }
   ],
   "source": [
    "df[df['E'].isin(['two','four'])]"
   ]
  },
  {
   "cell_type": "markdown",
   "metadata": {},
   "source": [
    "# Setting"
   ]
  },
  {
   "cell_type": "markdown",
   "metadata": {},
   "source": [
    "**Setting a new column automatically aligns the data by the indexes**"
   ]
  },
  {
   "cell_type": "code",
   "execution_count": 52,
   "metadata": {
    "collapsed": false
   },
   "outputs": [
    {
     "data": {
      "text/html": [
       "<div>\n",
       "<table border=\"1\" class=\"dataframe\">\n",
       "  <thead>\n",
       "    <tr style=\"text-align: right;\">\n",
       "      <th></th>\n",
       "      <th>A</th>\n",
       "      <th>B</th>\n",
       "      <th>C</th>\n",
       "      <th>D</th>\n",
       "    </tr>\n",
       "  </thead>\n",
       "  <tbody>\n",
       "    <tr>\n",
       "      <th>2013-01-01</th>\n",
       "      <td>0.718354</td>\n",
       "      <td>-0.365003</td>\n",
       "      <td>-0.000459</td>\n",
       "      <td>1.352737</td>\n",
       "    </tr>\n",
       "    <tr>\n",
       "      <th>2013-01-02</th>\n",
       "      <td>-0.319766</td>\n",
       "      <td>-0.789105</td>\n",
       "      <td>0.011944</td>\n",
       "      <td>-0.096405</td>\n",
       "    </tr>\n",
       "    <tr>\n",
       "      <th>2013-01-03</th>\n",
       "      <td>-1.240610</td>\n",
       "      <td>1.632686</td>\n",
       "      <td>-0.356929</td>\n",
       "      <td>-0.272638</td>\n",
       "    </tr>\n",
       "    <tr>\n",
       "      <th>2013-01-04</th>\n",
       "      <td>-2.367895</td>\n",
       "      <td>-0.407514</td>\n",
       "      <td>0.725953</td>\n",
       "      <td>-0.658410</td>\n",
       "    </tr>\n",
       "    <tr>\n",
       "      <th>2013-01-05</th>\n",
       "      <td>-1.267723</td>\n",
       "      <td>0.004515</td>\n",
       "      <td>-0.893457</td>\n",
       "      <td>0.087957</td>\n",
       "    </tr>\n",
       "    <tr>\n",
       "      <th>2013-01-06</th>\n",
       "      <td>-1.475928</td>\n",
       "      <td>-0.788952</td>\n",
       "      <td>-0.431096</td>\n",
       "      <td>-0.456979</td>\n",
       "    </tr>\n",
       "  </tbody>\n",
       "</table>\n",
       "</div>"
      ],
      "text/plain": [
       "                   A         B         C         D\n",
       "2013-01-01  0.718354 -0.365003 -0.000459  1.352737\n",
       "2013-01-02 -0.319766 -0.789105  0.011944 -0.096405\n",
       "2013-01-03 -1.240610  1.632686 -0.356929 -0.272638\n",
       "2013-01-04 -2.367895 -0.407514  0.725953 -0.658410\n",
       "2013-01-05 -1.267723  0.004515 -0.893457  0.087957\n",
       "2013-01-06 -1.475928 -0.788952 -0.431096 -0.456979"
      ]
     },
     "execution_count": 52,
     "metadata": {},
     "output_type": "execute_result"
    }
   ],
   "source": [
    "dates = pd.date_range('20130101', periods=6)\n",
    "dfx = pd.DataFrame(np.random.randn(6,4), index=dates, columns=list('ABCD'))\n",
    "dfx"
   ]
  },
  {
   "cell_type": "code",
   "execution_count": 53,
   "metadata": {
    "collapsed": false
   },
   "outputs": [
    {
     "data": {
      "text/plain": [
       "2013-01-07    6\n",
       "2013-01-06    5\n",
       "2013-01-05    4\n",
       "2013-01-04    3\n",
       "2013-01-03    2\n",
       "2013-01-02    1\n",
       "dtype: int64"
      ]
     },
     "execution_count": 53,
     "metadata": {},
     "output_type": "execute_result"
    }
   ],
   "source": [
    "s1 = pd.Series([1,2,3,4,5,6], index=pd.date_range('20130102', periods=6))\n",
    "s1 = s1.sort_values(ascending=False)\n",
    "s1"
   ]
  },
  {
   "cell_type": "code",
   "execution_count": 54,
   "metadata": {
    "collapsed": false
   },
   "outputs": [
    {
     "data": {
      "text/html": [
       "<div>\n",
       "<table border=\"1\" class=\"dataframe\">\n",
       "  <thead>\n",
       "    <tr style=\"text-align: right;\">\n",
       "      <th></th>\n",
       "      <th>A</th>\n",
       "      <th>B</th>\n",
       "      <th>C</th>\n",
       "      <th>D</th>\n",
       "      <th>F</th>\n",
       "    </tr>\n",
       "  </thead>\n",
       "  <tbody>\n",
       "    <tr>\n",
       "      <th>2013-01-01</th>\n",
       "      <td>0.718354</td>\n",
       "      <td>-0.365003</td>\n",
       "      <td>-0.000459</td>\n",
       "      <td>1.352737</td>\n",
       "      <td>NaN</td>\n",
       "    </tr>\n",
       "    <tr>\n",
       "      <th>2013-01-02</th>\n",
       "      <td>-0.319766</td>\n",
       "      <td>-0.789105</td>\n",
       "      <td>0.011944</td>\n",
       "      <td>-0.096405</td>\n",
       "      <td>1.0</td>\n",
       "    </tr>\n",
       "    <tr>\n",
       "      <th>2013-01-03</th>\n",
       "      <td>-1.240610</td>\n",
       "      <td>1.632686</td>\n",
       "      <td>-0.356929</td>\n",
       "      <td>-0.272638</td>\n",
       "      <td>2.0</td>\n",
       "    </tr>\n",
       "    <tr>\n",
       "      <th>2013-01-04</th>\n",
       "      <td>-2.367895</td>\n",
       "      <td>-0.407514</td>\n",
       "      <td>0.725953</td>\n",
       "      <td>-0.658410</td>\n",
       "      <td>3.0</td>\n",
       "    </tr>\n",
       "    <tr>\n",
       "      <th>2013-01-05</th>\n",
       "      <td>-1.267723</td>\n",
       "      <td>0.004515</td>\n",
       "      <td>-0.893457</td>\n",
       "      <td>0.087957</td>\n",
       "      <td>4.0</td>\n",
       "    </tr>\n",
       "    <tr>\n",
       "      <th>2013-01-06</th>\n",
       "      <td>-1.475928</td>\n",
       "      <td>-0.788952</td>\n",
       "      <td>-0.431096</td>\n",
       "      <td>-0.456979</td>\n",
       "      <td>5.0</td>\n",
       "    </tr>\n",
       "  </tbody>\n",
       "</table>\n",
       "</div>"
      ],
      "text/plain": [
       "                   A         B         C         D    F\n",
       "2013-01-01  0.718354 -0.365003 -0.000459  1.352737  NaN\n",
       "2013-01-02 -0.319766 -0.789105  0.011944 -0.096405  1.0\n",
       "2013-01-03 -1.240610  1.632686 -0.356929 -0.272638  2.0\n",
       "2013-01-04 -2.367895 -0.407514  0.725953 -0.658410  3.0\n",
       "2013-01-05 -1.267723  0.004515 -0.893457  0.087957  4.0\n",
       "2013-01-06 -1.475928 -0.788952 -0.431096 -0.456979  5.0"
      ]
     },
     "execution_count": 54,
     "metadata": {},
     "output_type": "execute_result"
    }
   ],
   "source": [
    "dfx[\"F\"] = s1\n",
    "dfx"
   ]
  },
  {
   "cell_type": "markdown",
   "metadata": {},
   "source": [
    "Setting values by label"
   ]
  },
  {
   "cell_type": "code",
   "execution_count": 55,
   "metadata": {
    "collapsed": false
   },
   "outputs": [
    {
     "data": {
      "text/html": [
       "<div>\n",
       "<table border=\"1\" class=\"dataframe\">\n",
       "  <thead>\n",
       "    <tr style=\"text-align: right;\">\n",
       "      <th></th>\n",
       "      <th>A</th>\n",
       "      <th>B</th>\n",
       "      <th>C</th>\n",
       "      <th>D</th>\n",
       "      <th>E</th>\n",
       "    </tr>\n",
       "  </thead>\n",
       "  <tbody>\n",
       "    <tr>\n",
       "      <th>0</th>\n",
       "      <td>-1.693542</td>\n",
       "      <td>0.091828</td>\n",
       "      <td>-1.580609</td>\n",
       "      <td>0.594735</td>\n",
       "      <td>one</td>\n",
       "    </tr>\n",
       "    <tr>\n",
       "      <th>1</th>\n",
       "      <td>0.914928</td>\n",
       "      <td>1.528036</td>\n",
       "      <td>-1.870334</td>\n",
       "      <td>0.285952</td>\n",
       "      <td>one</td>\n",
       "    </tr>\n",
       "    <tr>\n",
       "      <th>2</th>\n",
       "      <td>0.731091</td>\n",
       "      <td>0.546496</td>\n",
       "      <td>-0.073345</td>\n",
       "      <td>0.063040</td>\n",
       "      <td>two</td>\n",
       "    </tr>\n",
       "    <tr>\n",
       "      <th>3</th>\n",
       "      <td>-0.804229</td>\n",
       "      <td>-0.351444</td>\n",
       "      <td>1.222302</td>\n",
       "      <td>-1.663926</td>\n",
       "      <td>three</td>\n",
       "    </tr>\n",
       "    <tr>\n",
       "      <th>4</th>\n",
       "      <td>0.404843</td>\n",
       "      <td>-0.471565</td>\n",
       "      <td>0.748519</td>\n",
       "      <td>-0.597049</td>\n",
       "      <td>four</td>\n",
       "    </tr>\n",
       "    <tr>\n",
       "      <th>5</th>\n",
       "      <td>0.238829</td>\n",
       "      <td>1.206530</td>\n",
       "      <td>0.137581</td>\n",
       "      <td>-0.188514</td>\n",
       "      <td>three</td>\n",
       "    </tr>\n",
       "  </tbody>\n",
       "</table>\n",
       "</div>"
      ],
      "text/plain": [
       "          A         B         C         D      E\n",
       "0 -1.693542  0.091828 -1.580609  0.594735    one\n",
       "1  0.914928  1.528036 -1.870334  0.285952    one\n",
       "2  0.731091  0.546496 -0.073345  0.063040    two\n",
       "3 -0.804229 -0.351444  1.222302 -1.663926  three\n",
       "4  0.404843 -0.471565  0.748519 -0.597049   four\n",
       "5  0.238829  1.206530  0.137581 -0.188514  three"
      ]
     },
     "execution_count": 55,
     "metadata": {},
     "output_type": "execute_result"
    }
   ],
   "source": [
    "df = pd.DataFrame(np.random.randn(6, 4), columns=list('ABCD'))\n",
    "df['E'] = ['one', 'one','two','three','four','three']\n",
    "df"
   ]
  },
  {
   "cell_type": "code",
   "execution_count": 56,
   "metadata": {
    "collapsed": false
   },
   "outputs": [],
   "source": [
    "df.loc[5, \"A\"] = 0.815"
   ]
  },
  {
   "cell_type": "markdown",
   "metadata": {},
   "source": [
    "Setting values by position"
   ]
  },
  {
   "cell_type": "code",
   "execution_count": 57,
   "metadata": {
    "collapsed": false
   },
   "outputs": [],
   "source": [
    "df.iloc[0, 4] = \"zero\""
   ]
  },
  {
   "cell_type": "markdown",
   "metadata": {},
   "source": [
    "delete (drop) some rows"
   ]
  },
  {
   "cell_type": "code",
   "execution_count": 58,
   "metadata": {
    "collapsed": false
   },
   "outputs": [
    {
     "data": {
      "text/html": [
       "<div>\n",
       "<table border=\"1\" class=\"dataframe\">\n",
       "  <thead>\n",
       "    <tr style=\"text-align: right;\">\n",
       "      <th></th>\n",
       "      <th>A</th>\n",
       "      <th>B</th>\n",
       "      <th>C</th>\n",
       "      <th>D</th>\n",
       "      <th>E</th>\n",
       "    </tr>\n",
       "  </thead>\n",
       "  <tbody>\n",
       "    <tr>\n",
       "      <th>0</th>\n",
       "      <td>-1.693542</td>\n",
       "      <td>0.091828</td>\n",
       "      <td>-1.580609</td>\n",
       "      <td>0.594735</td>\n",
       "      <td>zero</td>\n",
       "    </tr>\n",
       "    <tr>\n",
       "      <th>1</th>\n",
       "      <td>0.914928</td>\n",
       "      <td>1.528036</td>\n",
       "      <td>-1.870334</td>\n",
       "      <td>0.285952</td>\n",
       "      <td>one</td>\n",
       "    </tr>\n",
       "    <tr>\n",
       "      <th>2</th>\n",
       "      <td>0.731091</td>\n",
       "      <td>0.546496</td>\n",
       "      <td>-0.073345</td>\n",
       "      <td>0.063040</td>\n",
       "      <td>two</td>\n",
       "    </tr>\n",
       "    <tr>\n",
       "      <th>4</th>\n",
       "      <td>0.404843</td>\n",
       "      <td>-0.471565</td>\n",
       "      <td>0.748519</td>\n",
       "      <td>-0.597049</td>\n",
       "      <td>four</td>\n",
       "    </tr>\n",
       "  </tbody>\n",
       "</table>\n",
       "</div>"
      ],
      "text/plain": [
       "          A         B         C         D     E\n",
       "0 -1.693542  0.091828 -1.580609  0.594735  zero\n",
       "1  0.914928  1.528036 -1.870334  0.285952   one\n",
       "2  0.731091  0.546496 -0.073345  0.063040   two\n",
       "4  0.404843 -0.471565  0.748519 -0.597049  four"
      ]
     },
     "execution_count": 58,
     "metadata": {},
     "output_type": "execute_result"
    }
   ],
   "source": [
    "df.drop([3, 5])"
   ]
  },
  {
   "cell_type": "markdown",
   "metadata": {},
   "source": [
    "delete (drop) a column"
   ]
  },
  {
   "cell_type": "code",
   "execution_count": 59,
   "metadata": {
    "collapsed": false
   },
   "outputs": [
    {
     "data": {
      "text/html": [
       "<div>\n",
       "<table border=\"1\" class=\"dataframe\">\n",
       "  <thead>\n",
       "    <tr style=\"text-align: right;\">\n",
       "      <th></th>\n",
       "      <th>A</th>\n",
       "      <th>B</th>\n",
       "      <th>C</th>\n",
       "      <th>D</th>\n",
       "    </tr>\n",
       "  </thead>\n",
       "  <tbody>\n",
       "    <tr>\n",
       "      <th>0</th>\n",
       "      <td>-1.693542</td>\n",
       "      <td>0.091828</td>\n",
       "      <td>-1.580609</td>\n",
       "      <td>0.594735</td>\n",
       "    </tr>\n",
       "    <tr>\n",
       "      <th>1</th>\n",
       "      <td>0.914928</td>\n",
       "      <td>1.528036</td>\n",
       "      <td>-1.870334</td>\n",
       "      <td>0.285952</td>\n",
       "    </tr>\n",
       "    <tr>\n",
       "      <th>2</th>\n",
       "      <td>0.731091</td>\n",
       "      <td>0.546496</td>\n",
       "      <td>-0.073345</td>\n",
       "      <td>0.063040</td>\n",
       "    </tr>\n",
       "    <tr>\n",
       "      <th>3</th>\n",
       "      <td>-0.804229</td>\n",
       "      <td>-0.351444</td>\n",
       "      <td>1.222302</td>\n",
       "      <td>-1.663926</td>\n",
       "    </tr>\n",
       "    <tr>\n",
       "      <th>4</th>\n",
       "      <td>0.404843</td>\n",
       "      <td>-0.471565</td>\n",
       "      <td>0.748519</td>\n",
       "      <td>-0.597049</td>\n",
       "    </tr>\n",
       "    <tr>\n",
       "      <th>5</th>\n",
       "      <td>0.815000</td>\n",
       "      <td>1.206530</td>\n",
       "      <td>0.137581</td>\n",
       "      <td>-0.188514</td>\n",
       "    </tr>\n",
       "  </tbody>\n",
       "</table>\n",
       "</div>"
      ],
      "text/plain": [
       "          A         B         C         D\n",
       "0 -1.693542  0.091828 -1.580609  0.594735\n",
       "1  0.914928  1.528036 -1.870334  0.285952\n",
       "2  0.731091  0.546496 -0.073345  0.063040\n",
       "3 -0.804229 -0.351444  1.222302 -1.663926\n",
       "4  0.404843 -0.471565  0.748519 -0.597049\n",
       "5  0.815000  1.206530  0.137581 -0.188514"
      ]
     },
     "execution_count": 59,
     "metadata": {},
     "output_type": "execute_result"
    }
   ],
   "source": [
    "df = df.drop(\"E\", axis=1)\n",
    "df"
   ]
  },
  {
   "cell_type": "markdown",
   "metadata": {},
   "source": [
    "## Axis"
   ]
  },
  {
   "cell_type": "markdown",
   "metadata": {},
   "source": [
    "- default: axis=0\n",
    "- axis=0 is \"column-wise\", for each column along the rows, horizontal\n",
    "- axis=1 is \"row-wise\", for each row along the columns, vertical"
   ]
  },
  {
   "cell_type": "code",
   "execution_count": 60,
   "metadata": {
    "collapsed": false
   },
   "outputs": [
    {
     "data": {
      "text/html": [
       "<div>\n",
       "<table border=\"1\" class=\"dataframe\">\n",
       "  <thead>\n",
       "    <tr style=\"text-align: right;\">\n",
       "      <th></th>\n",
       "      <th>A</th>\n",
       "      <th>B</th>\n",
       "      <th>C</th>\n",
       "      <th>D</th>\n",
       "    </tr>\n",
       "  </thead>\n",
       "  <tbody>\n",
       "    <tr>\n",
       "      <th>0</th>\n",
       "      <td>-3.483162</td>\n",
       "      <td>0.674215</td>\n",
       "      <td>-0.863999</td>\n",
       "      <td>-0.921991</td>\n",
       "    </tr>\n",
       "    <tr>\n",
       "      <th>1</th>\n",
       "      <td>-1.089165</td>\n",
       "      <td>0.215477</td>\n",
       "      <td>1.594555</td>\n",
       "      <td>0.613976</td>\n",
       "    </tr>\n",
       "    <tr>\n",
       "      <th>2</th>\n",
       "      <td>0.443881</td>\n",
       "      <td>-1.100082</td>\n",
       "      <td>1.185749</td>\n",
       "      <td>0.137363</td>\n",
       "    </tr>\n",
       "    <tr>\n",
       "      <th>3</th>\n",
       "      <td>1.382410</td>\n",
       "      <td>-0.396501</td>\n",
       "      <td>-0.025471</td>\n",
       "      <td>-1.714747</td>\n",
       "    </tr>\n",
       "    <tr>\n",
       "      <th>4</th>\n",
       "      <td>1.498364</td>\n",
       "      <td>1.264864</td>\n",
       "      <td>0.242646</td>\n",
       "      <td>-0.432940</td>\n",
       "    </tr>\n",
       "    <tr>\n",
       "      <th>5</th>\n",
       "      <td>-1.124187</td>\n",
       "      <td>-0.304343</td>\n",
       "      <td>0.030233</td>\n",
       "      <td>0.093802</td>\n",
       "    </tr>\n",
       "  </tbody>\n",
       "</table>\n",
       "</div>"
      ],
      "text/plain": [
       "          A         B         C         D\n",
       "0 -3.483162  0.674215 -0.863999 -0.921991\n",
       "1 -1.089165  0.215477  1.594555  0.613976\n",
       "2  0.443881 -1.100082  1.185749  0.137363\n",
       "3  1.382410 -0.396501 -0.025471 -1.714747\n",
       "4  1.498364  1.264864  0.242646 -0.432940\n",
       "5 -1.124187 -0.304343  0.030233  0.093802"
      ]
     },
     "execution_count": 60,
     "metadata": {},
     "output_type": "execute_result"
    }
   ],
   "source": [
    "df = pd.DataFrame(np.random.randn(6, 4), columns=list('ABCD'))\n",
    "df"
   ]
  },
  {
   "cell_type": "markdown",
   "metadata": {},
   "source": [
    "A where operation with setting."
   ]
  },
  {
   "cell_type": "code",
   "execution_count": 61,
   "metadata": {
    "collapsed": false
   },
   "outputs": [
    {
     "data": {
      "text/html": [
       "<div>\n",
       "<table border=\"1\" class=\"dataframe\">\n",
       "  <thead>\n",
       "    <tr style=\"text-align: right;\">\n",
       "      <th></th>\n",
       "      <th>A</th>\n",
       "      <th>B</th>\n",
       "      <th>C</th>\n",
       "      <th>D</th>\n",
       "    </tr>\n",
       "  </thead>\n",
       "  <tbody>\n",
       "    <tr>\n",
       "      <th>0</th>\n",
       "      <td>-3.483162</td>\n",
       "      <td>-0.674215</td>\n",
       "      <td>-0.863999</td>\n",
       "      <td>-0.921991</td>\n",
       "    </tr>\n",
       "    <tr>\n",
       "      <th>1</th>\n",
       "      <td>-1.089165</td>\n",
       "      <td>-0.215477</td>\n",
       "      <td>-1.594555</td>\n",
       "      <td>-0.613976</td>\n",
       "    </tr>\n",
       "    <tr>\n",
       "      <th>2</th>\n",
       "      <td>-0.443881</td>\n",
       "      <td>-1.100082</td>\n",
       "      <td>-1.185749</td>\n",
       "      <td>-0.137363</td>\n",
       "    </tr>\n",
       "    <tr>\n",
       "      <th>3</th>\n",
       "      <td>-1.382410</td>\n",
       "      <td>-0.396501</td>\n",
       "      <td>-0.025471</td>\n",
       "      <td>-1.714747</td>\n",
       "    </tr>\n",
       "    <tr>\n",
       "      <th>4</th>\n",
       "      <td>-1.498364</td>\n",
       "      <td>-1.264864</td>\n",
       "      <td>-0.242646</td>\n",
       "      <td>-0.432940</td>\n",
       "    </tr>\n",
       "    <tr>\n",
       "      <th>5</th>\n",
       "      <td>-1.124187</td>\n",
       "      <td>-0.304343</td>\n",
       "      <td>-0.030233</td>\n",
       "      <td>-0.093802</td>\n",
       "    </tr>\n",
       "  </tbody>\n",
       "</table>\n",
       "</div>"
      ],
      "text/plain": [
       "          A         B         C         D\n",
       "0 -3.483162 -0.674215 -0.863999 -0.921991\n",
       "1 -1.089165 -0.215477 -1.594555 -0.613976\n",
       "2 -0.443881 -1.100082 -1.185749 -0.137363\n",
       "3 -1.382410 -0.396501 -0.025471 -1.714747\n",
       "4 -1.498364 -1.264864 -0.242646 -0.432940\n",
       "5 -1.124187 -0.304343 -0.030233 -0.093802"
      ]
     },
     "execution_count": 61,
     "metadata": {},
     "output_type": "execute_result"
    }
   ],
   "source": [
    "df[df > 0] = -df\n",
    "df"
   ]
  },
  {
   "cell_type": "markdown",
   "metadata": {},
   "source": [
    "Multiply with a scalar."
   ]
  },
  {
   "cell_type": "code",
   "execution_count": 62,
   "metadata": {
    "collapsed": false
   },
   "outputs": [
    {
     "data": {
      "text/html": [
       "<div>\n",
       "<table border=\"1\" class=\"dataframe\">\n",
       "  <thead>\n",
       "    <tr style=\"text-align: right;\">\n",
       "      <th></th>\n",
       "      <th>A</th>\n",
       "      <th>B</th>\n",
       "      <th>C</th>\n",
       "      <th>D</th>\n",
       "    </tr>\n",
       "  </thead>\n",
       "  <tbody>\n",
       "    <tr>\n",
       "      <th>0</th>\n",
       "      <td>3.483162</td>\n",
       "      <td>0.674215</td>\n",
       "      <td>0.863999</td>\n",
       "      <td>0.921991</td>\n",
       "    </tr>\n",
       "    <tr>\n",
       "      <th>1</th>\n",
       "      <td>1.089165</td>\n",
       "      <td>0.215477</td>\n",
       "      <td>1.594555</td>\n",
       "      <td>0.613976</td>\n",
       "    </tr>\n",
       "    <tr>\n",
       "      <th>2</th>\n",
       "      <td>0.443881</td>\n",
       "      <td>1.100082</td>\n",
       "      <td>1.185749</td>\n",
       "      <td>0.137363</td>\n",
       "    </tr>\n",
       "    <tr>\n",
       "      <th>3</th>\n",
       "      <td>1.382410</td>\n",
       "      <td>0.396501</td>\n",
       "      <td>0.025471</td>\n",
       "      <td>1.714747</td>\n",
       "    </tr>\n",
       "    <tr>\n",
       "      <th>4</th>\n",
       "      <td>1.498364</td>\n",
       "      <td>1.264864</td>\n",
       "      <td>0.242646</td>\n",
       "      <td>0.432940</td>\n",
       "    </tr>\n",
       "    <tr>\n",
       "      <th>5</th>\n",
       "      <td>1.124187</td>\n",
       "      <td>0.304343</td>\n",
       "      <td>0.030233</td>\n",
       "      <td>0.093802</td>\n",
       "    </tr>\n",
       "  </tbody>\n",
       "</table>\n",
       "</div>"
      ],
      "text/plain": [
       "          A         B         C         D\n",
       "0  3.483162  0.674215  0.863999  0.921991\n",
       "1  1.089165  0.215477  1.594555  0.613976\n",
       "2  0.443881  1.100082  1.185749  0.137363\n",
       "3  1.382410  0.396501  0.025471  1.714747\n",
       "4  1.498364  1.264864  0.242646  0.432940\n",
       "5  1.124187  0.304343  0.030233  0.093802"
      ]
     },
     "execution_count": 62,
     "metadata": {},
     "output_type": "execute_result"
    }
   ],
   "source": [
    "df = df * -1\n",
    "df"
   ]
  },
  {
   "cell_type": "markdown",
   "metadata": {},
   "source": [
    "Row wise division"
   ]
  },
  {
   "cell_type": "code",
   "execution_count": 63,
   "metadata": {
    "collapsed": false
   },
   "outputs": [
    {
     "data": {
      "text/html": [
       "<div>\n",
       "<table border=\"1\" class=\"dataframe\">\n",
       "  <thead>\n",
       "    <tr style=\"text-align: right;\">\n",
       "      <th></th>\n",
       "      <th>A</th>\n",
       "      <th>B</th>\n",
       "      <th>C</th>\n",
       "      <th>D</th>\n",
       "      <th>F</th>\n",
       "    </tr>\n",
       "  </thead>\n",
       "  <tbody>\n",
       "    <tr>\n",
       "      <th>0</th>\n",
       "      <td>3.483162</td>\n",
       "      <td>0.674215</td>\n",
       "      <td>0.863999</td>\n",
       "      <td>0.921991</td>\n",
       "      <td>5.166246</td>\n",
       "    </tr>\n",
       "    <tr>\n",
       "      <th>1</th>\n",
       "      <td>1.089165</td>\n",
       "      <td>0.215477</td>\n",
       "      <td>1.594555</td>\n",
       "      <td>0.613976</td>\n",
       "      <td>5.054672</td>\n",
       "    </tr>\n",
       "    <tr>\n",
       "      <th>2</th>\n",
       "      <td>0.443881</td>\n",
       "      <td>1.100082</td>\n",
       "      <td>1.185749</td>\n",
       "      <td>0.137363</td>\n",
       "      <td>0.403498</td>\n",
       "    </tr>\n",
       "    <tr>\n",
       "      <th>3</th>\n",
       "      <td>1.382410</td>\n",
       "      <td>0.396501</td>\n",
       "      <td>0.025471</td>\n",
       "      <td>1.714747</td>\n",
       "      <td>3.486522</td>\n",
       "    </tr>\n",
       "    <tr>\n",
       "      <th>4</th>\n",
       "      <td>1.498364</td>\n",
       "      <td>1.264864</td>\n",
       "      <td>0.242646</td>\n",
       "      <td>0.432940</td>\n",
       "      <td>1.184605</td>\n",
       "    </tr>\n",
       "    <tr>\n",
       "      <th>5</th>\n",
       "      <td>1.124187</td>\n",
       "      <td>0.304343</td>\n",
       "      <td>0.030233</td>\n",
       "      <td>0.093802</td>\n",
       "      <td>3.693813</td>\n",
       "    </tr>\n",
       "  </tbody>\n",
       "</table>\n",
       "</div>"
      ],
      "text/plain": [
       "          A         B         C         D         F\n",
       "0  3.483162  0.674215  0.863999  0.921991  5.166246\n",
       "1  1.089165  0.215477  1.594555  0.613976  5.054672\n",
       "2  0.443881  1.100082  1.185749  0.137363  0.403498\n",
       "3  1.382410  0.396501  0.025471  1.714747  3.486522\n",
       "4  1.498364  1.264864  0.242646  0.432940  1.184605\n",
       "5  1.124187  0.304343  0.030233  0.093802  3.693813"
      ]
     },
     "execution_count": 63,
     "metadata": {},
     "output_type": "execute_result"
    }
   ],
   "source": [
    "df[\"F\"] = df[\"A\"] / df[\"B\"]\n",
    "df"
   ]
  },
  {
   "cell_type": "markdown",
   "metadata": {},
   "source": [
    "# Missing Data"
   ]
  },
  {
   "cell_type": "markdown",
   "metadata": {
    "collapsed": true
   },
   "source": [
    "pandas primarily uses the value np.nan to represent missing data."
   ]
  },
  {
   "cell_type": "code",
   "execution_count": 64,
   "metadata": {
    "collapsed": false
   },
   "outputs": [
    {
     "data": {
      "text/html": [
       "<div>\n",
       "<table border=\"1\" class=\"dataframe\">\n",
       "  <thead>\n",
       "    <tr style=\"text-align: right;\">\n",
       "      <th></th>\n",
       "      <th>A</th>\n",
       "      <th>B</th>\n",
       "      <th>C</th>\n",
       "      <th>D</th>\n",
       "      <th>F</th>\n",
       "    </tr>\n",
       "  </thead>\n",
       "  <tbody>\n",
       "    <tr>\n",
       "      <th>0</th>\n",
       "      <td>NaN</td>\n",
       "      <td>NaN</td>\n",
       "      <td>NaN</td>\n",
       "      <td>NaN</td>\n",
       "      <td>NaN</td>\n",
       "    </tr>\n",
       "    <tr>\n",
       "      <th>1</th>\n",
       "      <td>1.089165</td>\n",
       "      <td>0.215477</td>\n",
       "      <td>1.594555</td>\n",
       "      <td>0.613976</td>\n",
       "      <td>5.054672</td>\n",
       "    </tr>\n",
       "    <tr>\n",
       "      <th>2</th>\n",
       "      <td>NaN</td>\n",
       "      <td>1.100082</td>\n",
       "      <td>NaN</td>\n",
       "      <td>0.137363</td>\n",
       "      <td>0.403498</td>\n",
       "    </tr>\n",
       "    <tr>\n",
       "      <th>3</th>\n",
       "      <td>1.382410</td>\n",
       "      <td>0.396501</td>\n",
       "      <td>0.025471</td>\n",
       "      <td>1.714747</td>\n",
       "      <td>3.486522</td>\n",
       "    </tr>\n",
       "    <tr>\n",
       "      <th>4</th>\n",
       "      <td>1.498364</td>\n",
       "      <td>1.264864</td>\n",
       "      <td>0.242646</td>\n",
       "      <td>0.432940</td>\n",
       "      <td>1.184605</td>\n",
       "    </tr>\n",
       "    <tr>\n",
       "      <th>5</th>\n",
       "      <td>1.124187</td>\n",
       "      <td>0.304343</td>\n",
       "      <td>0.030233</td>\n",
       "      <td>0.093802</td>\n",
       "      <td>3.693813</td>\n",
       "    </tr>\n",
       "  </tbody>\n",
       "</table>\n",
       "</div>"
      ],
      "text/plain": [
       "          A         B         C         D         F\n",
       "0       NaN       NaN       NaN       NaN       NaN\n",
       "1  1.089165  0.215477  1.594555  0.613976  5.054672\n",
       "2       NaN  1.100082       NaN  0.137363  0.403498\n",
       "3  1.382410  0.396501  0.025471  1.714747  3.486522\n",
       "4  1.498364  1.264864  0.242646  0.432940  1.184605\n",
       "5  1.124187  0.304343  0.030233  0.093802  3.693813"
      ]
     },
     "execution_count": 64,
     "metadata": {},
     "output_type": "execute_result"
    }
   ],
   "source": [
    "df.loc[0, ] = np.nan\n",
    "df.loc[2, [\"A\", \"C\"]] = np.nan\n",
    "df"
   ]
  },
  {
   "cell_type": "markdown",
   "metadata": {},
   "source": [
    "To drop any rows that have missing data."
   ]
  },
  {
   "cell_type": "code",
   "execution_count": 65,
   "metadata": {
    "collapsed": false
   },
   "outputs": [
    {
     "data": {
      "text/html": [
       "<div>\n",
       "<table border=\"1\" class=\"dataframe\">\n",
       "  <thead>\n",
       "    <tr style=\"text-align: right;\">\n",
       "      <th></th>\n",
       "      <th>A</th>\n",
       "      <th>B</th>\n",
       "      <th>C</th>\n",
       "      <th>D</th>\n",
       "      <th>F</th>\n",
       "    </tr>\n",
       "  </thead>\n",
       "  <tbody>\n",
       "    <tr>\n",
       "      <th>1</th>\n",
       "      <td>1.089165</td>\n",
       "      <td>0.215477</td>\n",
       "      <td>1.594555</td>\n",
       "      <td>0.613976</td>\n",
       "      <td>5.054672</td>\n",
       "    </tr>\n",
       "    <tr>\n",
       "      <th>3</th>\n",
       "      <td>1.382410</td>\n",
       "      <td>0.396501</td>\n",
       "      <td>0.025471</td>\n",
       "      <td>1.714747</td>\n",
       "      <td>3.486522</td>\n",
       "    </tr>\n",
       "    <tr>\n",
       "      <th>4</th>\n",
       "      <td>1.498364</td>\n",
       "      <td>1.264864</td>\n",
       "      <td>0.242646</td>\n",
       "      <td>0.432940</td>\n",
       "      <td>1.184605</td>\n",
       "    </tr>\n",
       "    <tr>\n",
       "      <th>5</th>\n",
       "      <td>1.124187</td>\n",
       "      <td>0.304343</td>\n",
       "      <td>0.030233</td>\n",
       "      <td>0.093802</td>\n",
       "      <td>3.693813</td>\n",
       "    </tr>\n",
       "  </tbody>\n",
       "</table>\n",
       "</div>"
      ],
      "text/plain": [
       "          A         B         C         D         F\n",
       "1  1.089165  0.215477  1.594555  0.613976  5.054672\n",
       "3  1.382410  0.396501  0.025471  1.714747  3.486522\n",
       "4  1.498364  1.264864  0.242646  0.432940  1.184605\n",
       "5  1.124187  0.304343  0.030233  0.093802  3.693813"
      ]
     },
     "execution_count": 65,
     "metadata": {},
     "output_type": "execute_result"
    }
   ],
   "source": [
    "df.dropna()"
   ]
  },
  {
   "cell_type": "markdown",
   "metadata": {},
   "source": [
    "Drop only rows where `all` values are missing."
   ]
  },
  {
   "cell_type": "code",
   "execution_count": 66,
   "metadata": {
    "collapsed": false
   },
   "outputs": [
    {
     "data": {
      "text/html": [
       "<div>\n",
       "<table border=\"1\" class=\"dataframe\">\n",
       "  <thead>\n",
       "    <tr style=\"text-align: right;\">\n",
       "      <th></th>\n",
       "      <th>A</th>\n",
       "      <th>B</th>\n",
       "      <th>C</th>\n",
       "      <th>D</th>\n",
       "      <th>F</th>\n",
       "    </tr>\n",
       "  </thead>\n",
       "  <tbody>\n",
       "    <tr>\n",
       "      <th>1</th>\n",
       "      <td>1.089165</td>\n",
       "      <td>0.215477</td>\n",
       "      <td>1.594555</td>\n",
       "      <td>0.613976</td>\n",
       "      <td>5.054672</td>\n",
       "    </tr>\n",
       "    <tr>\n",
       "      <th>2</th>\n",
       "      <td>NaN</td>\n",
       "      <td>1.100082</td>\n",
       "      <td>NaN</td>\n",
       "      <td>0.137363</td>\n",
       "      <td>0.403498</td>\n",
       "    </tr>\n",
       "    <tr>\n",
       "      <th>3</th>\n",
       "      <td>1.382410</td>\n",
       "      <td>0.396501</td>\n",
       "      <td>0.025471</td>\n",
       "      <td>1.714747</td>\n",
       "      <td>3.486522</td>\n",
       "    </tr>\n",
       "    <tr>\n",
       "      <th>4</th>\n",
       "      <td>1.498364</td>\n",
       "      <td>1.264864</td>\n",
       "      <td>0.242646</td>\n",
       "      <td>0.432940</td>\n",
       "      <td>1.184605</td>\n",
       "    </tr>\n",
       "    <tr>\n",
       "      <th>5</th>\n",
       "      <td>1.124187</td>\n",
       "      <td>0.304343</td>\n",
       "      <td>0.030233</td>\n",
       "      <td>0.093802</td>\n",
       "      <td>3.693813</td>\n",
       "    </tr>\n",
       "  </tbody>\n",
       "</table>\n",
       "</div>"
      ],
      "text/plain": [
       "          A         B         C         D         F\n",
       "1  1.089165  0.215477  1.594555  0.613976  5.054672\n",
       "2       NaN  1.100082       NaN  0.137363  0.403498\n",
       "3  1.382410  0.396501  0.025471  1.714747  3.486522\n",
       "4  1.498364  1.264864  0.242646  0.432940  1.184605\n",
       "5  1.124187  0.304343  0.030233  0.093802  3.693813"
      ]
     },
     "execution_count": 66,
     "metadata": {},
     "output_type": "execute_result"
    }
   ],
   "source": [
    "df.dropna(how='all')"
   ]
  },
  {
   "cell_type": "markdown",
   "metadata": {},
   "source": [
    "Fill missing values"
   ]
  },
  {
   "cell_type": "code",
   "execution_count": 67,
   "metadata": {
    "collapsed": false
   },
   "outputs": [
    {
     "data": {
      "text/html": [
       "<div>\n",
       "<table border=\"1\" class=\"dataframe\">\n",
       "  <thead>\n",
       "    <tr style=\"text-align: right;\">\n",
       "      <th></th>\n",
       "      <th>A</th>\n",
       "      <th>B</th>\n",
       "      <th>C</th>\n",
       "      <th>D</th>\n",
       "      <th>F</th>\n",
       "    </tr>\n",
       "  </thead>\n",
       "  <tbody>\n",
       "    <tr>\n",
       "      <th>0</th>\n",
       "      <td>5.000000</td>\n",
       "      <td>5.000000</td>\n",
       "      <td>5.000000</td>\n",
       "      <td>5.000000</td>\n",
       "      <td>5.000000</td>\n",
       "    </tr>\n",
       "    <tr>\n",
       "      <th>1</th>\n",
       "      <td>1.089165</td>\n",
       "      <td>0.215477</td>\n",
       "      <td>1.594555</td>\n",
       "      <td>0.613976</td>\n",
       "      <td>5.054672</td>\n",
       "    </tr>\n",
       "    <tr>\n",
       "      <th>2</th>\n",
       "      <td>5.000000</td>\n",
       "      <td>1.100082</td>\n",
       "      <td>5.000000</td>\n",
       "      <td>0.137363</td>\n",
       "      <td>0.403498</td>\n",
       "    </tr>\n",
       "    <tr>\n",
       "      <th>3</th>\n",
       "      <td>1.382410</td>\n",
       "      <td>0.396501</td>\n",
       "      <td>0.025471</td>\n",
       "      <td>1.714747</td>\n",
       "      <td>3.486522</td>\n",
       "    </tr>\n",
       "    <tr>\n",
       "      <th>4</th>\n",
       "      <td>1.498364</td>\n",
       "      <td>1.264864</td>\n",
       "      <td>0.242646</td>\n",
       "      <td>0.432940</td>\n",
       "      <td>1.184605</td>\n",
       "    </tr>\n",
       "    <tr>\n",
       "      <th>5</th>\n",
       "      <td>1.124187</td>\n",
       "      <td>0.304343</td>\n",
       "      <td>0.030233</td>\n",
       "      <td>0.093802</td>\n",
       "      <td>3.693813</td>\n",
       "    </tr>\n",
       "  </tbody>\n",
       "</table>\n",
       "</div>"
      ],
      "text/plain": [
       "          A         B         C         D         F\n",
       "0  5.000000  5.000000  5.000000  5.000000  5.000000\n",
       "1  1.089165  0.215477  1.594555  0.613976  5.054672\n",
       "2  5.000000  1.100082  5.000000  0.137363  0.403498\n",
       "3  1.382410  0.396501  0.025471  1.714747  3.486522\n",
       "4  1.498364  1.264864  0.242646  0.432940  1.184605\n",
       "5  1.124187  0.304343  0.030233  0.093802  3.693813"
      ]
     },
     "execution_count": 67,
     "metadata": {},
     "output_type": "execute_result"
    }
   ],
   "source": [
    "df.fillna(value=5)"
   ]
  },
  {
   "cell_type": "markdown",
   "metadata": {},
   "source": [
    "see **`replace`** method to replace values given in 'to_replace' with 'value'."
   ]
  },
  {
   "cell_type": "markdown",
   "metadata": {},
   "source": [
    "To get the boolean mask where values are nan"
   ]
  },
  {
   "cell_type": "code",
   "execution_count": 68,
   "metadata": {
    "collapsed": false
   },
   "outputs": [
    {
     "data": {
      "text/html": [
       "<div>\n",
       "<table border=\"1\" class=\"dataframe\">\n",
       "  <thead>\n",
       "    <tr style=\"text-align: right;\">\n",
       "      <th></th>\n",
       "      <th>A</th>\n",
       "      <th>B</th>\n",
       "      <th>C</th>\n",
       "      <th>D</th>\n",
       "      <th>F</th>\n",
       "    </tr>\n",
       "  </thead>\n",
       "  <tbody>\n",
       "    <tr>\n",
       "      <th>0</th>\n",
       "      <td>True</td>\n",
       "      <td>True</td>\n",
       "      <td>True</td>\n",
       "      <td>True</td>\n",
       "      <td>True</td>\n",
       "    </tr>\n",
       "    <tr>\n",
       "      <th>1</th>\n",
       "      <td>False</td>\n",
       "      <td>False</td>\n",
       "      <td>False</td>\n",
       "      <td>False</td>\n",
       "      <td>False</td>\n",
       "    </tr>\n",
       "    <tr>\n",
       "      <th>2</th>\n",
       "      <td>True</td>\n",
       "      <td>False</td>\n",
       "      <td>True</td>\n",
       "      <td>False</td>\n",
       "      <td>False</td>\n",
       "    </tr>\n",
       "    <tr>\n",
       "      <th>3</th>\n",
       "      <td>False</td>\n",
       "      <td>False</td>\n",
       "      <td>False</td>\n",
       "      <td>False</td>\n",
       "      <td>False</td>\n",
       "    </tr>\n",
       "    <tr>\n",
       "      <th>4</th>\n",
       "      <td>False</td>\n",
       "      <td>False</td>\n",
       "      <td>False</td>\n",
       "      <td>False</td>\n",
       "      <td>False</td>\n",
       "    </tr>\n",
       "    <tr>\n",
       "      <th>5</th>\n",
       "      <td>False</td>\n",
       "      <td>False</td>\n",
       "      <td>False</td>\n",
       "      <td>False</td>\n",
       "      <td>False</td>\n",
       "    </tr>\n",
       "  </tbody>\n",
       "</table>\n",
       "</div>"
      ],
      "text/plain": [
       "       A      B      C      D      F\n",
       "0   True   True   True   True   True\n",
       "1  False  False  False  False  False\n",
       "2   True  False   True  False  False\n",
       "3  False  False  False  False  False\n",
       "4  False  False  False  False  False\n",
       "5  False  False  False  False  False"
      ]
     },
     "execution_count": 68,
     "metadata": {},
     "output_type": "execute_result"
    }
   ],
   "source": [
    "df.isnull() # or pd.isnull(df)"
   ]
  },
  {
   "cell_type": "code",
   "execution_count": 69,
   "metadata": {
    "collapsed": false
   },
   "outputs": [
    {
     "data": {
      "text/html": [
       "<div>\n",
       "<table border=\"1\" class=\"dataframe\">\n",
       "  <thead>\n",
       "    <tr style=\"text-align: right;\">\n",
       "      <th></th>\n",
       "      <th>A</th>\n",
       "      <th>B</th>\n",
       "      <th>C</th>\n",
       "      <th>D</th>\n",
       "      <th>F</th>\n",
       "    </tr>\n",
       "  </thead>\n",
       "  <tbody>\n",
       "    <tr>\n",
       "      <th>0</th>\n",
       "      <td>True</td>\n",
       "      <td>True</td>\n",
       "      <td>True</td>\n",
       "      <td>True</td>\n",
       "      <td>True</td>\n",
       "    </tr>\n",
       "    <tr>\n",
       "      <th>1</th>\n",
       "      <td>True</td>\n",
       "      <td>True</td>\n",
       "      <td>True</td>\n",
       "      <td>True</td>\n",
       "      <td>True</td>\n",
       "    </tr>\n",
       "    <tr>\n",
       "      <th>2</th>\n",
       "      <td>True</td>\n",
       "      <td>True</td>\n",
       "      <td>True</td>\n",
       "      <td>True</td>\n",
       "      <td>True</td>\n",
       "    </tr>\n",
       "    <tr>\n",
       "      <th>3</th>\n",
       "      <td>True</td>\n",
       "      <td>True</td>\n",
       "      <td>True</td>\n",
       "      <td>True</td>\n",
       "      <td>True</td>\n",
       "    </tr>\n",
       "    <tr>\n",
       "      <th>4</th>\n",
       "      <td>True</td>\n",
       "      <td>True</td>\n",
       "      <td>True</td>\n",
       "      <td>True</td>\n",
       "      <td>True</td>\n",
       "    </tr>\n",
       "    <tr>\n",
       "      <th>5</th>\n",
       "      <td>True</td>\n",
       "      <td>True</td>\n",
       "      <td>True</td>\n",
       "      <td>True</td>\n",
       "      <td>True</td>\n",
       "    </tr>\n",
       "  </tbody>\n",
       "</table>\n",
       "</div>"
      ],
      "text/plain": [
       "      A     B     C     D     F\n",
       "0  True  True  True  True  True\n",
       "1  True  True  True  True  True\n",
       "2  True  True  True  True  True\n",
       "3  True  True  True  True  True\n",
       "4  True  True  True  True  True\n",
       "5  True  True  True  True  True"
      ]
     },
     "execution_count": 69,
     "metadata": {},
     "output_type": "execute_result"
    }
   ],
   "source": [
    "df.notnull() == -df.isnull()"
   ]
  },
  {
   "cell_type": "markdown",
   "metadata": {},
   "source": [
    "# Duplicates"
   ]
  },
  {
   "cell_type": "code",
   "execution_count": 70,
   "metadata": {
    "collapsed": false
   },
   "outputs": [
    {
     "data": {
      "text/html": [
       "<div>\n",
       "<table border=\"1\" class=\"dataframe\">\n",
       "  <thead>\n",
       "    <tr style=\"text-align: right;\">\n",
       "      <th></th>\n",
       "      <th>A</th>\n",
       "      <th>B</th>\n",
       "      <th>C</th>\n",
       "      <th>D</th>\n",
       "    </tr>\n",
       "  </thead>\n",
       "  <tbody>\n",
       "    <tr>\n",
       "      <th>0</th>\n",
       "      <td>foo</td>\n",
       "      <td>one</td>\n",
       "      <td>0.373508</td>\n",
       "      <td>2.153941</td>\n",
       "    </tr>\n",
       "    <tr>\n",
       "      <th>1</th>\n",
       "      <td>bar</td>\n",
       "      <td>one</td>\n",
       "      <td>0.356375</td>\n",
       "      <td>0.453069</td>\n",
       "    </tr>\n",
       "    <tr>\n",
       "      <th>2</th>\n",
       "      <td>foo</td>\n",
       "      <td>two</td>\n",
       "      <td>-0.491507</td>\n",
       "      <td>0.598356</td>\n",
       "    </tr>\n",
       "    <tr>\n",
       "      <th>3</th>\n",
       "      <td>bar</td>\n",
       "      <td>three</td>\n",
       "      <td>0.710054</td>\n",
       "      <td>-1.016165</td>\n",
       "    </tr>\n",
       "    <tr>\n",
       "      <th>4</th>\n",
       "      <td>foo</td>\n",
       "      <td>two</td>\n",
       "      <td>-0.209080</td>\n",
       "      <td>-1.164680</td>\n",
       "    </tr>\n",
       "    <tr>\n",
       "      <th>5</th>\n",
       "      <td>bar</td>\n",
       "      <td>two</td>\n",
       "      <td>0.028916</td>\n",
       "      <td>1.792031</td>\n",
       "    </tr>\n",
       "    <tr>\n",
       "      <th>6</th>\n",
       "      <td>foo</td>\n",
       "      <td>one</td>\n",
       "      <td>-0.348100</td>\n",
       "      <td>-1.193166</td>\n",
       "    </tr>\n",
       "    <tr>\n",
       "      <th>7</th>\n",
       "      <td>foo</td>\n",
       "      <td>three</td>\n",
       "      <td>0.335917</td>\n",
       "      <td>0.067953</td>\n",
       "    </tr>\n",
       "  </tbody>\n",
       "</table>\n",
       "</div>"
      ],
      "text/plain": [
       "     A      B         C         D\n",
       "0  foo    one  0.373508  2.153941\n",
       "1  bar    one  0.356375  0.453069\n",
       "2  foo    two -0.491507  0.598356\n",
       "3  bar  three  0.710054 -1.016165\n",
       "4  foo    two -0.209080 -1.164680\n",
       "5  bar    two  0.028916  1.792031\n",
       "6  foo    one -0.348100 -1.193166\n",
       "7  foo  three  0.335917  0.067953"
      ]
     },
     "execution_count": 70,
     "metadata": {},
     "output_type": "execute_result"
    }
   ],
   "source": [
    "dfx = pd.DataFrame({'A' : ['foo', 'bar', 'foo', 'bar',\n",
    "                          'foo', 'bar', 'foo', 'foo'],\n",
    "                   'B' : ['one', 'one', 'two', 'three',\n",
    "                          'two', 'two', 'one', 'three'],\n",
    "                   'C' : np.random.randn(8),\n",
    "                   'D' : np.random.randn(8)})\n",
    "dfx"
   ]
  },
  {
   "cell_type": "markdown",
   "metadata": {},
   "source": [
    "Drop duplicates except for the first occurrence, considering only a certain column."
   ]
  },
  {
   "cell_type": "code",
   "execution_count": 71,
   "metadata": {
    "collapsed": false
   },
   "outputs": [
    {
     "data": {
      "text/html": [
       "<div>\n",
       "<table border=\"1\" class=\"dataframe\">\n",
       "  <thead>\n",
       "    <tr style=\"text-align: right;\">\n",
       "      <th></th>\n",
       "      <th>A</th>\n",
       "      <th>B</th>\n",
       "      <th>C</th>\n",
       "      <th>D</th>\n",
       "    </tr>\n",
       "  </thead>\n",
       "  <tbody>\n",
       "    <tr>\n",
       "      <th>0</th>\n",
       "      <td>foo</td>\n",
       "      <td>one</td>\n",
       "      <td>0.373508</td>\n",
       "      <td>2.153941</td>\n",
       "    </tr>\n",
       "    <tr>\n",
       "      <th>1</th>\n",
       "      <td>bar</td>\n",
       "      <td>one</td>\n",
       "      <td>0.356375</td>\n",
       "      <td>0.453069</td>\n",
       "    </tr>\n",
       "  </tbody>\n",
       "</table>\n",
       "</div>"
      ],
      "text/plain": [
       "     A    B         C         D\n",
       "0  foo  one  0.373508  2.153941\n",
       "1  bar  one  0.356375  0.453069"
      ]
     },
     "execution_count": 71,
     "metadata": {},
     "output_type": "execute_result"
    }
   ],
   "source": [
    "dfx.drop_duplicates(subset=\"A\")"
   ]
  },
  {
   "cell_type": "markdown",
   "metadata": {},
   "source": [
    "see also **`duplicated`** method to return boolean Series denoting duplicate rows, optionally only considering certain columns"
   ]
  },
  {
   "cell_type": "code",
   "execution_count": 72,
   "metadata": {
    "collapsed": false
   },
   "outputs": [
    {
     "data": {
      "text/html": [
       "<div>\n",
       "<table border=\"1\" class=\"dataframe\">\n",
       "  <thead>\n",
       "    <tr style=\"text-align: right;\">\n",
       "      <th></th>\n",
       "      <th>A</th>\n",
       "      <th>B</th>\n",
       "      <th>C</th>\n",
       "      <th>D</th>\n",
       "      <th>F</th>\n",
       "    </tr>\n",
       "  </thead>\n",
       "  <tbody>\n",
       "    <tr>\n",
       "      <th>0</th>\n",
       "      <td>NaN</td>\n",
       "      <td>NaN</td>\n",
       "      <td>NaN</td>\n",
       "      <td>NaN</td>\n",
       "      <td>NaN</td>\n",
       "    </tr>\n",
       "    <tr>\n",
       "      <th>1</th>\n",
       "      <td>1.089165</td>\n",
       "      <td>0.215477</td>\n",
       "      <td>1.594555</td>\n",
       "      <td>0.613976</td>\n",
       "      <td>5.054672</td>\n",
       "    </tr>\n",
       "    <tr>\n",
       "      <th>2</th>\n",
       "      <td>NaN</td>\n",
       "      <td>1.100082</td>\n",
       "      <td>NaN</td>\n",
       "      <td>0.137363</td>\n",
       "      <td>0.403498</td>\n",
       "    </tr>\n",
       "    <tr>\n",
       "      <th>3</th>\n",
       "      <td>1.382410</td>\n",
       "      <td>0.396501</td>\n",
       "      <td>0.025471</td>\n",
       "      <td>1.714747</td>\n",
       "      <td>3.486522</td>\n",
       "    </tr>\n",
       "    <tr>\n",
       "      <th>4</th>\n",
       "      <td>1.498364</td>\n",
       "      <td>1.264864</td>\n",
       "      <td>0.242646</td>\n",
       "      <td>0.432940</td>\n",
       "      <td>1.184605</td>\n",
       "    </tr>\n",
       "    <tr>\n",
       "      <th>5</th>\n",
       "      <td>1.124187</td>\n",
       "      <td>0.304343</td>\n",
       "      <td>0.030233</td>\n",
       "      <td>0.093802</td>\n",
       "      <td>3.693813</td>\n",
       "    </tr>\n",
       "  </tbody>\n",
       "</table>\n",
       "</div>"
      ],
      "text/plain": [
       "          A         B         C         D         F\n",
       "0       NaN       NaN       NaN       NaN       NaN\n",
       "1  1.089165  0.215477  1.594555  0.613976  5.054672\n",
       "2       NaN  1.100082       NaN  0.137363  0.403498\n",
       "3  1.382410  0.396501  0.025471  1.714747  3.486522\n",
       "4  1.498364  1.264864  0.242646  0.432940  1.184605\n",
       "5  1.124187  0.304343  0.030233  0.093802  3.693813"
      ]
     },
     "execution_count": 72,
     "metadata": {},
     "output_type": "execute_result"
    }
   ],
   "source": [
    "df"
   ]
  },
  {
   "cell_type": "markdown",
   "metadata": {},
   "source": [
    "# Operations"
   ]
  },
  {
   "cell_type": "markdown",
   "metadata": {},
   "source": [
    "## Stats\n",
    "Operations in general exclude missing data."
   ]
  },
  {
   "cell_type": "markdown",
   "metadata": {},
   "source": [
    "Performing a descriptive statistic"
   ]
  },
  {
   "cell_type": "code",
   "execution_count": 73,
   "metadata": {
    "collapsed": false
   },
   "outputs": [
    {
     "data": {
      "text/plain": [
       "A    1.273531\n",
       "B    0.656253\n",
       "C    0.473226\n",
       "D    0.598566\n",
       "F    2.764622\n",
       "dtype: float64"
      ]
     },
     "execution_count": 73,
     "metadata": {},
     "output_type": "execute_result"
    }
   ],
   "source": [
    "df.mean()"
   ]
  },
  {
   "cell_type": "markdown",
   "metadata": {},
   "source": [
    "On the other axis"
   ]
  },
  {
   "cell_type": "code",
   "execution_count": 74,
   "metadata": {
    "collapsed": false
   },
   "outputs": [
    {
     "data": {
      "text/plain": [
       "0         NaN\n",
       "1    1.089165\n",
       "2    0.403498\n",
       "3    1.382410\n",
       "4    1.184605\n",
       "5    0.304343\n",
       "dtype: float64"
      ]
     },
     "execution_count": 74,
     "metadata": {},
     "output_type": "execute_result"
    }
   ],
   "source": [
    "df.median(axis=1)"
   ]
  },
  {
   "cell_type": "markdown",
   "metadata": {},
   "source": [
    "The full range of basic statistics that are quickly calculable and built into the base Pandas package are:"
   ]
  },
  {
   "cell_type": "markdown",
   "metadata": {},
   "source": [
    "|  Function | Description  |\n",
    "|:---:|:---:|\n",
    "|  count | Number of non-null observations  | \n",
    "|  sum | Sum of values  | \n",
    "|  mean | Mean of values  | \n",
    "|  mad | Mean absolute deviation  | \n",
    "|  median | Arithmetic median of values  | \n",
    "|  min | Minimum  | \n",
    "|  max | Maximum  | \n",
    "|  mode | Mode  | \n",
    "|  abs | Absolute Value  | \n",
    "|  prod | Product of values  | \n",
    "|  std | Bessel-corrected sample standard deviation  | \n",
    "|  var | Unbiased variance  | \n",
    "|  sem | Standard error of the mean  | \n",
    "|  skew | Sample skewness (3rd moment)  | \n",
    "|  kurt | Sample kurtosis (4th moment)  | \n",
    "|  quantile | Sample quantile (value at %)  | \n",
    "|  cumsum | Cumulative sum  | \n",
    "|  cumprod | Cumulative product  | \n",
    "|  cummax | Cumulative maximum  | \n",
    "|  cummin | Cumulative minimum  |"
   ]
  },
  {
   "cell_type": "markdown",
   "metadata": {},
   "source": [
    "The need for custom functions is minimal unless you have very specific requirements. c.f.\n",
    "http://pandas.pydata.org/pandas-docs/stable/basics.html"
   ]
  },
  {
   "cell_type": "markdown",
   "metadata": {},
   "source": [
    "e.g. compute pairwise covariance of columns, excluding NA/null values"
   ]
  },
  {
   "cell_type": "code",
   "execution_count": 75,
   "metadata": {
    "collapsed": false
   },
   "outputs": [
    {
     "data": {
      "text/html": [
       "<div>\n",
       "<table border=\"1\" class=\"dataframe\">\n",
       "  <thead>\n",
       "    <tr style=\"text-align: right;\">\n",
       "      <th></th>\n",
       "      <th>A</th>\n",
       "      <th>B</th>\n",
       "      <th>C</th>\n",
       "      <th>D</th>\n",
       "      <th>F</th>\n",
       "    </tr>\n",
       "  </thead>\n",
       "  <tbody>\n",
       "    <tr>\n",
       "      <th>A</th>\n",
       "      <td>0.039566</td>\n",
       "      <td>0.080791</td>\n",
       "      <td>-0.080390</td>\n",
       "      <td>0.052278</td>\n",
       "      <td>-0.279206</td>\n",
       "    </tr>\n",
       "    <tr>\n",
       "      <th>B</th>\n",
       "      <td>0.080791</td>\n",
       "      <td>0.238247</td>\n",
       "      <td>-0.120797</td>\n",
       "      <td>-0.106147</td>\n",
       "      <td>-0.883364</td>\n",
       "    </tr>\n",
       "    <tr>\n",
       "      <th>C</th>\n",
       "      <td>-0.080390</td>\n",
       "      <td>-0.120797</td>\n",
       "      <td>0.569091</td>\n",
       "      <td>-0.073566</td>\n",
       "      <td>0.732454</td>\n",
       "    </tr>\n",
       "    <tr>\n",
       "      <th>D</th>\n",
       "      <td>0.052278</td>\n",
       "      <td>-0.106147</td>\n",
       "      <td>-0.073566</td>\n",
       "      <td>0.435256</td>\n",
       "      <td>0.430671</td>\n",
       "    </tr>\n",
       "    <tr>\n",
       "      <th>F</th>\n",
       "      <td>-0.279206</td>\n",
       "      <td>-0.883364</td>\n",
       "      <td>0.732454</td>\n",
       "      <td>0.430671</td>\n",
       "      <td>3.675057</td>\n",
       "    </tr>\n",
       "  </tbody>\n",
       "</table>\n",
       "</div>"
      ],
      "text/plain": [
       "          A         B         C         D         F\n",
       "A  0.039566  0.080791 -0.080390  0.052278 -0.279206\n",
       "B  0.080791  0.238247 -0.120797 -0.106147 -0.883364\n",
       "C -0.080390 -0.120797  0.569091 -0.073566  0.732454\n",
       "D  0.052278 -0.106147 -0.073566  0.435256  0.430671\n",
       "F -0.279206 -0.883364  0.732454  0.430671  3.675057"
      ]
     },
     "execution_count": 75,
     "metadata": {},
     "output_type": "execute_result"
    }
   ],
   "source": [
    "df.cov()"
   ]
  },
  {
   "cell_type": "markdown",
   "metadata": {},
   "source": [
    "# Apply"
   ]
  },
  {
   "cell_type": "markdown",
   "metadata": {},
   "source": [
    "Applying functions to the data"
   ]
  },
  {
   "cell_type": "code",
   "execution_count": 76,
   "metadata": {
    "collapsed": false
   },
   "outputs": [
    {
     "data": {
      "text/html": [
       "<div>\n",
       "<table border=\"1\" class=\"dataframe\">\n",
       "  <thead>\n",
       "    <tr style=\"text-align: right;\">\n",
       "      <th></th>\n",
       "      <th>A</th>\n",
       "      <th>B</th>\n",
       "      <th>C</th>\n",
       "      <th>D</th>\n",
       "    </tr>\n",
       "  </thead>\n",
       "  <tbody>\n",
       "    <tr>\n",
       "      <th>0</th>\n",
       "      <td>91</td>\n",
       "      <td>96</td>\n",
       "      <td>38</td>\n",
       "      <td>6</td>\n",
       "    </tr>\n",
       "    <tr>\n",
       "      <th>1</th>\n",
       "      <td>55</td>\n",
       "      <td>58</td>\n",
       "      <td>44</td>\n",
       "      <td>17</td>\n",
       "    </tr>\n",
       "    <tr>\n",
       "      <th>2</th>\n",
       "      <td>59</td>\n",
       "      <td>57</td>\n",
       "      <td>79</td>\n",
       "      <td>80</td>\n",
       "    </tr>\n",
       "    <tr>\n",
       "      <th>3</th>\n",
       "      <td>89</td>\n",
       "      <td>99</td>\n",
       "      <td>66</td>\n",
       "      <td>38</td>\n",
       "    </tr>\n",
       "    <tr>\n",
       "      <th>4</th>\n",
       "      <td>24</td>\n",
       "      <td>36</td>\n",
       "      <td>28</td>\n",
       "      <td>70</td>\n",
       "    </tr>\n",
       "    <tr>\n",
       "      <th>5</th>\n",
       "      <td>8</td>\n",
       "      <td>88</td>\n",
       "      <td>81</td>\n",
       "      <td>1</td>\n",
       "    </tr>\n",
       "  </tbody>\n",
       "</table>\n",
       "</div>"
      ],
      "text/plain": [
       "    A   B   C   D\n",
       "0  91  96  38   6\n",
       "1  55  58  44  17\n",
       "2  59  57  79  80\n",
       "3  89  99  66  38\n",
       "4  24  36  28  70\n",
       "5   8  88  81   1"
      ]
     },
     "execution_count": 76,
     "metadata": {},
     "output_type": "execute_result"
    }
   ],
   "source": [
    "df = pd.DataFrame(np.random.randint(0,100,size=(6, 4)), columns=list('ABCD'))\n",
    "df"
   ]
  },
  {
   "cell_type": "code",
   "execution_count": 77,
   "metadata": {
    "collapsed": false
   },
   "outputs": [
    {
     "data": {
      "text/html": [
       "<div>\n",
       "<table border=\"1\" class=\"dataframe\">\n",
       "  <thead>\n",
       "    <tr style=\"text-align: right;\">\n",
       "      <th></th>\n",
       "      <th>A</th>\n",
       "      <th>B</th>\n",
       "      <th>C</th>\n",
       "      <th>D</th>\n",
       "    </tr>\n",
       "  </thead>\n",
       "  <tbody>\n",
       "    <tr>\n",
       "      <th>0</th>\n",
       "      <td>91</td>\n",
       "      <td>96</td>\n",
       "      <td>38</td>\n",
       "      <td>6</td>\n",
       "    </tr>\n",
       "    <tr>\n",
       "      <th>1</th>\n",
       "      <td>146</td>\n",
       "      <td>154</td>\n",
       "      <td>82</td>\n",
       "      <td>23</td>\n",
       "    </tr>\n",
       "    <tr>\n",
       "      <th>2</th>\n",
       "      <td>205</td>\n",
       "      <td>211</td>\n",
       "      <td>161</td>\n",
       "      <td>103</td>\n",
       "    </tr>\n",
       "    <tr>\n",
       "      <th>3</th>\n",
       "      <td>294</td>\n",
       "      <td>310</td>\n",
       "      <td>227</td>\n",
       "      <td>141</td>\n",
       "    </tr>\n",
       "    <tr>\n",
       "      <th>4</th>\n",
       "      <td>318</td>\n",
       "      <td>346</td>\n",
       "      <td>255</td>\n",
       "      <td>211</td>\n",
       "    </tr>\n",
       "    <tr>\n",
       "      <th>5</th>\n",
       "      <td>326</td>\n",
       "      <td>434</td>\n",
       "      <td>336</td>\n",
       "      <td>212</td>\n",
       "    </tr>\n",
       "  </tbody>\n",
       "</table>\n",
       "</div>"
      ],
      "text/plain": [
       "     A    B    C    D\n",
       "0   91   96   38    6\n",
       "1  146  154   82   23\n",
       "2  205  211  161  103\n",
       "3  294  310  227  141\n",
       "4  318  346  255  211\n",
       "5  326  434  336  212"
      ]
     },
     "execution_count": 77,
     "metadata": {},
     "output_type": "execute_result"
    }
   ],
   "source": [
    "df.apply(np.cumsum, axis=0)"
   ]
  },
  {
   "cell_type": "code",
   "execution_count": 78,
   "metadata": {
    "collapsed": false
   },
   "outputs": [
    {
     "data": {
      "text/plain": [
       "A    83\n",
       "B    63\n",
       "C    53\n",
       "D    79\n",
       "dtype: int64"
      ]
     },
     "execution_count": 78,
     "metadata": {},
     "output_type": "execute_result"
    }
   ],
   "source": [
    "df.apply(lambda x: x.max() - x.min())"
   ]
  },
  {
   "cell_type": "markdown",
   "metadata": {},
   "source": [
    "# Merge"
   ]
  },
  {
   "cell_type": "markdown",
   "metadata": {},
   "source": [
    "pandas provides various facilities for easily combining together Series, DataFrame, and Panel objects with various kinds of set logic for the indexes and relational algebra functionality in the case of join / merge-type operations."
   ]
  },
  {
   "cell_type": "markdown",
   "metadata": {},
   "source": [
    "## Concat"
   ]
  },
  {
   "cell_type": "code",
   "execution_count": 79,
   "metadata": {
    "collapsed": false
   },
   "outputs": [
    {
     "data": {
      "text/html": [
       "<div>\n",
       "<table border=\"1\" class=\"dataframe\">\n",
       "  <thead>\n",
       "    <tr style=\"text-align: right;\">\n",
       "      <th></th>\n",
       "      <th>0</th>\n",
       "      <th>1</th>\n",
       "      <th>2</th>\n",
       "      <th>3</th>\n",
       "    </tr>\n",
       "  </thead>\n",
       "  <tbody>\n",
       "    <tr>\n",
       "      <th>0</th>\n",
       "      <td>0.970496</td>\n",
       "      <td>0.246441</td>\n",
       "      <td>0.844668</td>\n",
       "      <td>0.150986</td>\n",
       "    </tr>\n",
       "    <tr>\n",
       "      <th>1</th>\n",
       "      <td>0.341910</td>\n",
       "      <td>-0.633616</td>\n",
       "      <td>-1.376025</td>\n",
       "      <td>-0.473660</td>\n",
       "    </tr>\n",
       "    <tr>\n",
       "      <th>2</th>\n",
       "      <td>0.792826</td>\n",
       "      <td>-1.636417</td>\n",
       "      <td>-0.346066</td>\n",
       "      <td>-1.565380</td>\n",
       "    </tr>\n",
       "    <tr>\n",
       "      <th>3</th>\n",
       "      <td>-0.216165</td>\n",
       "      <td>0.489109</td>\n",
       "      <td>0.885583</td>\n",
       "      <td>-2.011223</td>\n",
       "    </tr>\n",
       "    <tr>\n",
       "      <th>4</th>\n",
       "      <td>-0.083781</td>\n",
       "      <td>-1.053215</td>\n",
       "      <td>0.693787</td>\n",
       "      <td>0.111576</td>\n",
       "    </tr>\n",
       "    <tr>\n",
       "      <th>5</th>\n",
       "      <td>1.120049</td>\n",
       "      <td>1.054716</td>\n",
       "      <td>-0.910174</td>\n",
       "      <td>-1.367579</td>\n",
       "    </tr>\n",
       "    <tr>\n",
       "      <th>6</th>\n",
       "      <td>-0.075761</td>\n",
       "      <td>-0.222491</td>\n",
       "      <td>0.949213</td>\n",
       "      <td>1.122462</td>\n",
       "    </tr>\n",
       "    <tr>\n",
       "      <th>7</th>\n",
       "      <td>2.151368</td>\n",
       "      <td>1.404117</td>\n",
       "      <td>0.746708</td>\n",
       "      <td>1.288665</td>\n",
       "    </tr>\n",
       "    <tr>\n",
       "      <th>8</th>\n",
       "      <td>1.224616</td>\n",
       "      <td>-0.189300</td>\n",
       "      <td>-1.982512</td>\n",
       "      <td>-0.961140</td>\n",
       "    </tr>\n",
       "    <tr>\n",
       "      <th>9</th>\n",
       "      <td>-1.139796</td>\n",
       "      <td>-1.253938</td>\n",
       "      <td>0.838092</td>\n",
       "      <td>0.869218</td>\n",
       "    </tr>\n",
       "  </tbody>\n",
       "</table>\n",
       "</div>"
      ],
      "text/plain": [
       "          0         1         2         3\n",
       "0  0.970496  0.246441  0.844668  0.150986\n",
       "1  0.341910 -0.633616 -1.376025 -0.473660\n",
       "2  0.792826 -1.636417 -0.346066 -1.565380\n",
       "3 -0.216165  0.489109  0.885583 -2.011223\n",
       "4 -0.083781 -1.053215  0.693787  0.111576\n",
       "5  1.120049  1.054716 -0.910174 -1.367579\n",
       "6 -0.075761 -0.222491  0.949213  1.122462\n",
       "7  2.151368  1.404117  0.746708  1.288665\n",
       "8  1.224616 -0.189300 -1.982512 -0.961140\n",
       "9 -1.139796 -1.253938  0.838092  0.869218"
      ]
     },
     "execution_count": 79,
     "metadata": {},
     "output_type": "execute_result"
    }
   ],
   "source": [
    "df = pd.DataFrame(np.random.randn(10, 4))\n",
    "df"
   ]
  },
  {
   "cell_type": "code",
   "execution_count": 80,
   "metadata": {
    "collapsed": false
   },
   "outputs": [
    {
     "data": {
      "text/html": [
       "<div>\n",
       "<table border=\"1\" class=\"dataframe\">\n",
       "  <thead>\n",
       "    <tr style=\"text-align: right;\">\n",
       "      <th></th>\n",
       "      <th>0</th>\n",
       "      <th>1</th>\n",
       "      <th>2</th>\n",
       "      <th>3</th>\n",
       "    </tr>\n",
       "  </thead>\n",
       "  <tbody>\n",
       "    <tr>\n",
       "      <th>3</th>\n",
       "      <td>-0.216165</td>\n",
       "      <td>0.489109</td>\n",
       "      <td>0.885583</td>\n",
       "      <td>-2.011223</td>\n",
       "    </tr>\n",
       "    <tr>\n",
       "      <th>4</th>\n",
       "      <td>-0.083781</td>\n",
       "      <td>-1.053215</td>\n",
       "      <td>0.693787</td>\n",
       "      <td>0.111576</td>\n",
       "    </tr>\n",
       "    <tr>\n",
       "      <th>5</th>\n",
       "      <td>1.120049</td>\n",
       "      <td>1.054716</td>\n",
       "      <td>-0.910174</td>\n",
       "      <td>-1.367579</td>\n",
       "    </tr>\n",
       "    <tr>\n",
       "      <th>6</th>\n",
       "      <td>-0.075761</td>\n",
       "      <td>-0.222491</td>\n",
       "      <td>0.949213</td>\n",
       "      <td>1.122462</td>\n",
       "    </tr>\n",
       "    <tr>\n",
       "      <th>0</th>\n",
       "      <td>0.970496</td>\n",
       "      <td>0.246441</td>\n",
       "      <td>0.844668</td>\n",
       "      <td>0.150986</td>\n",
       "    </tr>\n",
       "    <tr>\n",
       "      <th>1</th>\n",
       "      <td>0.341910</td>\n",
       "      <td>-0.633616</td>\n",
       "      <td>-1.376025</td>\n",
       "      <td>-0.473660</td>\n",
       "    </tr>\n",
       "    <tr>\n",
       "      <th>2</th>\n",
       "      <td>0.792826</td>\n",
       "      <td>-1.636417</td>\n",
       "      <td>-0.346066</td>\n",
       "      <td>-1.565380</td>\n",
       "    </tr>\n",
       "    <tr>\n",
       "      <th>7</th>\n",
       "      <td>2.151368</td>\n",
       "      <td>1.404117</td>\n",
       "      <td>0.746708</td>\n",
       "      <td>1.288665</td>\n",
       "    </tr>\n",
       "    <tr>\n",
       "      <th>8</th>\n",
       "      <td>1.224616</td>\n",
       "      <td>-0.189300</td>\n",
       "      <td>-1.982512</td>\n",
       "      <td>-0.961140</td>\n",
       "    </tr>\n",
       "    <tr>\n",
       "      <th>9</th>\n",
       "      <td>-1.139796</td>\n",
       "      <td>-1.253938</td>\n",
       "      <td>0.838092</td>\n",
       "      <td>0.869218</td>\n",
       "    </tr>\n",
       "  </tbody>\n",
       "</table>\n",
       "</div>"
      ],
      "text/plain": [
       "          0         1         2         3\n",
       "3 -0.216165  0.489109  0.885583 -2.011223\n",
       "4 -0.083781 -1.053215  0.693787  0.111576\n",
       "5  1.120049  1.054716 -0.910174 -1.367579\n",
       "6 -0.075761 -0.222491  0.949213  1.122462\n",
       "0  0.970496  0.246441  0.844668  0.150986\n",
       "1  0.341910 -0.633616 -1.376025 -0.473660\n",
       "2  0.792826 -1.636417 -0.346066 -1.565380\n",
       "7  2.151368  1.404117  0.746708  1.288665\n",
       "8  1.224616 -0.189300 -1.982512 -0.961140\n",
       "9 -1.139796 -1.253938  0.838092  0.869218"
      ]
     },
     "execution_count": 80,
     "metadata": {},
     "output_type": "execute_result"
    }
   ],
   "source": [
    "# break it into multiple pieces\n",
    "pieces = [df[3:7], df[:3], df[7:]]\n",
    "pd.concat(pieces)"
   ]
  },
  {
   "cell_type": "markdown",
   "metadata": {},
   "source": [
    "## Join"
   ]
  },
  {
   "cell_type": "markdown",
   "metadata": {},
   "source": [
    "SQL style merges."
   ]
  },
  {
   "cell_type": "code",
   "execution_count": 81,
   "metadata": {
    "collapsed": false
   },
   "outputs": [
    {
     "data": {
      "text/html": [
       "<div>\n",
       "<table border=\"1\" class=\"dataframe\">\n",
       "  <thead>\n",
       "    <tr style=\"text-align: right;\">\n",
       "      <th></th>\n",
       "      <th>key</th>\n",
       "      <th>lval</th>\n",
       "    </tr>\n",
       "  </thead>\n",
       "  <tbody>\n",
       "    <tr>\n",
       "      <th>0</th>\n",
       "      <td>foo</td>\n",
       "      <td>1</td>\n",
       "    </tr>\n",
       "    <tr>\n",
       "      <th>1</th>\n",
       "      <td>bar</td>\n",
       "      <td>2</td>\n",
       "    </tr>\n",
       "  </tbody>\n",
       "</table>\n",
       "</div>"
      ],
      "text/plain": [
       "   key  lval\n",
       "0  foo     1\n",
       "1  bar     2"
      ]
     },
     "execution_count": 81,
     "metadata": {},
     "output_type": "execute_result"
    }
   ],
   "source": [
    "left = pd.DataFrame({'key': ['foo', 'bar'], 'lval': [1, 2]})\n",
    "right = pd.DataFrame({'key': ['bar', 'foo'], 'rval': [4, 5]})\n",
    "left"
   ]
  },
  {
   "cell_type": "code",
   "execution_count": 82,
   "metadata": {
    "collapsed": false
   },
   "outputs": [
    {
     "data": {
      "text/html": [
       "<div>\n",
       "<table border=\"1\" class=\"dataframe\">\n",
       "  <thead>\n",
       "    <tr style=\"text-align: right;\">\n",
       "      <th></th>\n",
       "      <th>key</th>\n",
       "      <th>rval</th>\n",
       "    </tr>\n",
       "  </thead>\n",
       "  <tbody>\n",
       "    <tr>\n",
       "      <th>0</th>\n",
       "      <td>bar</td>\n",
       "      <td>4</td>\n",
       "    </tr>\n",
       "    <tr>\n",
       "      <th>1</th>\n",
       "      <td>foo</td>\n",
       "      <td>5</td>\n",
       "    </tr>\n",
       "  </tbody>\n",
       "</table>\n",
       "</div>"
      ],
      "text/plain": [
       "   key  rval\n",
       "0  bar     4\n",
       "1  foo     5"
      ]
     },
     "execution_count": 82,
     "metadata": {},
     "output_type": "execute_result"
    }
   ],
   "source": [
    "right"
   ]
  },
  {
   "cell_type": "code",
   "execution_count": 83,
   "metadata": {
    "collapsed": false
   },
   "outputs": [
    {
     "data": {
      "text/html": [
       "<div>\n",
       "<table border=\"1\" class=\"dataframe\">\n",
       "  <thead>\n",
       "    <tr style=\"text-align: right;\">\n",
       "      <th></th>\n",
       "      <th>key</th>\n",
       "      <th>lval</th>\n",
       "      <th>rval</th>\n",
       "    </tr>\n",
       "  </thead>\n",
       "  <tbody>\n",
       "    <tr>\n",
       "      <th>0</th>\n",
       "      <td>foo</td>\n",
       "      <td>1</td>\n",
       "      <td>5</td>\n",
       "    </tr>\n",
       "    <tr>\n",
       "      <th>1</th>\n",
       "      <td>bar</td>\n",
       "      <td>2</td>\n",
       "      <td>4</td>\n",
       "    </tr>\n",
       "  </tbody>\n",
       "</table>\n",
       "</div>"
      ],
      "text/plain": [
       "   key  lval  rval\n",
       "0  foo     1     5\n",
       "1  bar     2     4"
      ]
     },
     "execution_count": 83,
     "metadata": {},
     "output_type": "execute_result"
    }
   ],
   "source": [
    "pd.merge(left, right, on='key')"
   ]
  },
  {
   "cell_type": "markdown",
   "metadata": {},
   "source": [
    "## Append"
   ]
  },
  {
   "cell_type": "markdown",
   "metadata": {},
   "source": [
    "Append rows to a dataframe."
   ]
  },
  {
   "cell_type": "code",
   "execution_count": 84,
   "metadata": {
    "collapsed": false
   },
   "outputs": [
    {
     "data": {
      "text/html": [
       "<div>\n",
       "<table border=\"1\" class=\"dataframe\">\n",
       "  <thead>\n",
       "    <tr style=\"text-align: right;\">\n",
       "      <th></th>\n",
       "      <th>A</th>\n",
       "      <th>B</th>\n",
       "      <th>C</th>\n",
       "      <th>D</th>\n",
       "    </tr>\n",
       "  </thead>\n",
       "  <tbody>\n",
       "    <tr>\n",
       "      <th>0</th>\n",
       "      <td>0.969489</td>\n",
       "      <td>-1.604153</td>\n",
       "      <td>-0.248921</td>\n",
       "      <td>1.038086</td>\n",
       "    </tr>\n",
       "    <tr>\n",
       "      <th>1</th>\n",
       "      <td>0.412990</td>\n",
       "      <td>-1.012526</td>\n",
       "      <td>0.534236</td>\n",
       "      <td>-1.596054</td>\n",
       "    </tr>\n",
       "    <tr>\n",
       "      <th>2</th>\n",
       "      <td>1.018075</td>\n",
       "      <td>1.128761</td>\n",
       "      <td>1.131470</td>\n",
       "      <td>-0.284683</td>\n",
       "    </tr>\n",
       "    <tr>\n",
       "      <th>3</th>\n",
       "      <td>0.932039</td>\n",
       "      <td>-0.080776</td>\n",
       "      <td>1.309474</td>\n",
       "      <td>-1.010208</td>\n",
       "    </tr>\n",
       "    <tr>\n",
       "      <th>4</th>\n",
       "      <td>0.043121</td>\n",
       "      <td>0.776682</td>\n",
       "      <td>1.384962</td>\n",
       "      <td>-1.658708</td>\n",
       "    </tr>\n",
       "    <tr>\n",
       "      <th>5</th>\n",
       "      <td>-0.114250</td>\n",
       "      <td>-0.229319</td>\n",
       "      <td>0.954087</td>\n",
       "      <td>0.559766</td>\n",
       "    </tr>\n",
       "    <tr>\n",
       "      <th>6</th>\n",
       "      <td>-0.607813</td>\n",
       "      <td>-1.179375</td>\n",
       "      <td>1.980276</td>\n",
       "      <td>-0.360193</td>\n",
       "    </tr>\n",
       "    <tr>\n",
       "      <th>7</th>\n",
       "      <td>-0.468785</td>\n",
       "      <td>0.287706</td>\n",
       "      <td>0.070535</td>\n",
       "      <td>1.491814</td>\n",
       "    </tr>\n",
       "  </tbody>\n",
       "</table>\n",
       "</div>"
      ],
      "text/plain": [
       "          A         B         C         D\n",
       "0  0.969489 -1.604153 -0.248921  1.038086\n",
       "1  0.412990 -1.012526  0.534236 -1.596054\n",
       "2  1.018075  1.128761  1.131470 -0.284683\n",
       "3  0.932039 -0.080776  1.309474 -1.010208\n",
       "4  0.043121  0.776682  1.384962 -1.658708\n",
       "5 -0.114250 -0.229319  0.954087  0.559766\n",
       "6 -0.607813 -1.179375  1.980276 -0.360193\n",
       "7 -0.468785  0.287706  0.070535  1.491814"
      ]
     },
     "execution_count": 84,
     "metadata": {},
     "output_type": "execute_result"
    }
   ],
   "source": [
    "df = pd.DataFrame(np.random.randn(8, 4), columns=['A','B','C','D'])\n",
    "s = df.iloc[3]\n",
    "df"
   ]
  },
  {
   "cell_type": "code",
   "execution_count": 85,
   "metadata": {
    "collapsed": false
   },
   "outputs": [
    {
     "data": {
      "text/html": [
       "<div>\n",
       "<table border=\"1\" class=\"dataframe\">\n",
       "  <thead>\n",
       "    <tr style=\"text-align: right;\">\n",
       "      <th></th>\n",
       "      <th>A</th>\n",
       "      <th>B</th>\n",
       "      <th>C</th>\n",
       "      <th>D</th>\n",
       "    </tr>\n",
       "  </thead>\n",
       "  <tbody>\n",
       "    <tr>\n",
       "      <th>0</th>\n",
       "      <td>0.969489</td>\n",
       "      <td>-1.604153</td>\n",
       "      <td>-0.248921</td>\n",
       "      <td>1.038086</td>\n",
       "    </tr>\n",
       "    <tr>\n",
       "      <th>1</th>\n",
       "      <td>0.412990</td>\n",
       "      <td>-1.012526</td>\n",
       "      <td>0.534236</td>\n",
       "      <td>-1.596054</td>\n",
       "    </tr>\n",
       "    <tr>\n",
       "      <th>2</th>\n",
       "      <td>1.018075</td>\n",
       "      <td>1.128761</td>\n",
       "      <td>1.131470</td>\n",
       "      <td>-0.284683</td>\n",
       "    </tr>\n",
       "    <tr>\n",
       "      <th>3</th>\n",
       "      <td>0.932039</td>\n",
       "      <td>-0.080776</td>\n",
       "      <td>1.309474</td>\n",
       "      <td>-1.010208</td>\n",
       "    </tr>\n",
       "    <tr>\n",
       "      <th>4</th>\n",
       "      <td>0.043121</td>\n",
       "      <td>0.776682</td>\n",
       "      <td>1.384962</td>\n",
       "      <td>-1.658708</td>\n",
       "    </tr>\n",
       "    <tr>\n",
       "      <th>5</th>\n",
       "      <td>-0.114250</td>\n",
       "      <td>-0.229319</td>\n",
       "      <td>0.954087</td>\n",
       "      <td>0.559766</td>\n",
       "    </tr>\n",
       "    <tr>\n",
       "      <th>6</th>\n",
       "      <td>-0.607813</td>\n",
       "      <td>-1.179375</td>\n",
       "      <td>1.980276</td>\n",
       "      <td>-0.360193</td>\n",
       "    </tr>\n",
       "    <tr>\n",
       "      <th>7</th>\n",
       "      <td>-0.468785</td>\n",
       "      <td>0.287706</td>\n",
       "      <td>0.070535</td>\n",
       "      <td>1.491814</td>\n",
       "    </tr>\n",
       "    <tr>\n",
       "      <th>8</th>\n",
       "      <td>0.932039</td>\n",
       "      <td>-0.080776</td>\n",
       "      <td>1.309474</td>\n",
       "      <td>-1.010208</td>\n",
       "    </tr>\n",
       "  </tbody>\n",
       "</table>\n",
       "</div>"
      ],
      "text/plain": [
       "          A         B         C         D\n",
       "0  0.969489 -1.604153 -0.248921  1.038086\n",
       "1  0.412990 -1.012526  0.534236 -1.596054\n",
       "2  1.018075  1.128761  1.131470 -0.284683\n",
       "3  0.932039 -0.080776  1.309474 -1.010208\n",
       "4  0.043121  0.776682  1.384962 -1.658708\n",
       "5 -0.114250 -0.229319  0.954087  0.559766\n",
       "6 -0.607813 -1.179375  1.980276 -0.360193\n",
       "7 -0.468785  0.287706  0.070535  1.491814\n",
       "8  0.932039 -0.080776  1.309474 -1.010208"
      ]
     },
     "execution_count": 85,
     "metadata": {},
     "output_type": "execute_result"
    }
   ],
   "source": [
    "df.append(s, ignore_index=True)"
   ]
  },
  {
   "cell_type": "markdown",
   "metadata": {},
   "source": [
    "# Grouping"
   ]
  },
  {
   "cell_type": "markdown",
   "metadata": {},
   "source": [
    "By “group by” we are referring to a process involving one or more of the following steps\n",
    "\n",
    "- **Splitting** the data into groups based on some criteria\n",
    "- **Applying** a function to each group independently\n",
    "- **Combining** the results into a data structure\n",
    "![title](misc/SplitApplyCombine.jpg)"
   ]
  },
  {
   "cell_type": "code",
   "execution_count": 86,
   "metadata": {
    "collapsed": false
   },
   "outputs": [
    {
     "data": {
      "text/html": [
       "<div>\n",
       "<table border=\"1\" class=\"dataframe\">\n",
       "  <thead>\n",
       "    <tr style=\"text-align: right;\">\n",
       "      <th></th>\n",
       "      <th>A</th>\n",
       "      <th>B</th>\n",
       "      <th>C</th>\n",
       "      <th>D</th>\n",
       "    </tr>\n",
       "  </thead>\n",
       "  <tbody>\n",
       "    <tr>\n",
       "      <th>0</th>\n",
       "      <td>foo</td>\n",
       "      <td>one</td>\n",
       "      <td>-0.595697</td>\n",
       "      <td>-0.216727</td>\n",
       "    </tr>\n",
       "    <tr>\n",
       "      <th>1</th>\n",
       "      <td>bar</td>\n",
       "      <td>one</td>\n",
       "      <td>1.480251</td>\n",
       "      <td>0.311373</td>\n",
       "    </tr>\n",
       "    <tr>\n",
       "      <th>2</th>\n",
       "      <td>foo</td>\n",
       "      <td>two</td>\n",
       "      <td>-1.836842</td>\n",
       "      <td>-0.377590</td>\n",
       "    </tr>\n",
       "    <tr>\n",
       "      <th>3</th>\n",
       "      <td>bar</td>\n",
       "      <td>three</td>\n",
       "      <td>0.640351</td>\n",
       "      <td>-0.532001</td>\n",
       "    </tr>\n",
       "    <tr>\n",
       "      <th>4</th>\n",
       "      <td>foo</td>\n",
       "      <td>two</td>\n",
       "      <td>0.538425</td>\n",
       "      <td>0.530609</td>\n",
       "    </tr>\n",
       "    <tr>\n",
       "      <th>5</th>\n",
       "      <td>bar</td>\n",
       "      <td>two</td>\n",
       "      <td>-0.436455</td>\n",
       "      <td>-1.024308</td>\n",
       "    </tr>\n",
       "    <tr>\n",
       "      <th>6</th>\n",
       "      <td>foo</td>\n",
       "      <td>one</td>\n",
       "      <td>-0.057440</td>\n",
       "      <td>1.501428</td>\n",
       "    </tr>\n",
       "    <tr>\n",
       "      <th>7</th>\n",
       "      <td>foo</td>\n",
       "      <td>three</td>\n",
       "      <td>-0.260092</td>\n",
       "      <td>-0.684502</td>\n",
       "    </tr>\n",
       "  </tbody>\n",
       "</table>\n",
       "</div>"
      ],
      "text/plain": [
       "     A      B         C         D\n",
       "0  foo    one -0.595697 -0.216727\n",
       "1  bar    one  1.480251  0.311373\n",
       "2  foo    two -1.836842 -0.377590\n",
       "3  bar  three  0.640351 -0.532001\n",
       "4  foo    two  0.538425  0.530609\n",
       "5  bar    two -0.436455 -1.024308\n",
       "6  foo    one -0.057440  1.501428\n",
       "7  foo  three -0.260092 -0.684502"
      ]
     },
     "execution_count": 86,
     "metadata": {},
     "output_type": "execute_result"
    }
   ],
   "source": [
    "df = pd.DataFrame({'A' : ['foo', 'bar', 'foo', 'bar',\n",
    "                          'foo', 'bar', 'foo', 'foo'],\n",
    "                   'B' : ['one', 'one', 'two', 'three',\n",
    "                          'two', 'two', 'one', 'three'],\n",
    "                   'C' : np.random.randn(8),\n",
    "                   'D' : np.random.randn(8)})\n",
    "df"
   ]
  },
  {
   "cell_type": "markdown",
   "metadata": {},
   "source": [
    "Grouping and then applying a function sum to the resulting groups."
   ]
  },
  {
   "cell_type": "code",
   "execution_count": 87,
   "metadata": {
    "collapsed": false
   },
   "outputs": [
    {
     "data": {
      "text/html": [
       "<div>\n",
       "<table border=\"1\" class=\"dataframe\">\n",
       "  <thead>\n",
       "    <tr style=\"text-align: right;\">\n",
       "      <th></th>\n",
       "      <th>C</th>\n",
       "      <th>D</th>\n",
       "    </tr>\n",
       "    <tr>\n",
       "      <th>A</th>\n",
       "      <th></th>\n",
       "      <th></th>\n",
       "    </tr>\n",
       "  </thead>\n",
       "  <tbody>\n",
       "    <tr>\n",
       "      <th>bar</th>\n",
       "      <td>1.684147</td>\n",
       "      <td>-1.244935</td>\n",
       "    </tr>\n",
       "    <tr>\n",
       "      <th>foo</th>\n",
       "      <td>-2.211646</td>\n",
       "      <td>0.753217</td>\n",
       "    </tr>\n",
       "  </tbody>\n",
       "</table>\n",
       "</div>"
      ],
      "text/plain": [
       "            C         D\n",
       "A                      \n",
       "bar  1.684147 -1.244935\n",
       "foo -2.211646  0.753217"
      ]
     },
     "execution_count": 87,
     "metadata": {},
     "output_type": "execute_result"
    }
   ],
   "source": [
    "df.groupby('A').sum()"
   ]
  },
  {
   "cell_type": "markdown",
   "metadata": {},
   "source": [
    "Grouping by multiple columns forms a hierarchical index, which we then apply the function."
   ]
  },
  {
   "cell_type": "code",
   "execution_count": 88,
   "metadata": {
    "collapsed": false
   },
   "outputs": [
    {
     "data": {
      "text/html": [
       "<div>\n",
       "<table border=\"1\" class=\"dataframe\">\n",
       "  <thead>\n",
       "    <tr style=\"text-align: right;\">\n",
       "      <th></th>\n",
       "      <th></th>\n",
       "      <th>C</th>\n",
       "      <th>D</th>\n",
       "    </tr>\n",
       "    <tr>\n",
       "      <th>A</th>\n",
       "      <th>B</th>\n",
       "      <th></th>\n",
       "      <th></th>\n",
       "    </tr>\n",
       "  </thead>\n",
       "  <tbody>\n",
       "    <tr>\n",
       "      <th rowspan=\"3\" valign=\"top\">bar</th>\n",
       "      <th>one</th>\n",
       "      <td>1.480251</td>\n",
       "      <td>0.311373</td>\n",
       "    </tr>\n",
       "    <tr>\n",
       "      <th>three</th>\n",
       "      <td>0.640351</td>\n",
       "      <td>-0.532001</td>\n",
       "    </tr>\n",
       "    <tr>\n",
       "      <th>two</th>\n",
       "      <td>-0.436455</td>\n",
       "      <td>-1.024308</td>\n",
       "    </tr>\n",
       "    <tr>\n",
       "      <th rowspan=\"3\" valign=\"top\">foo</th>\n",
       "      <th>one</th>\n",
       "      <td>-0.653137</td>\n",
       "      <td>1.284701</td>\n",
       "    </tr>\n",
       "    <tr>\n",
       "      <th>three</th>\n",
       "      <td>-0.260092</td>\n",
       "      <td>-0.684502</td>\n",
       "    </tr>\n",
       "    <tr>\n",
       "      <th>two</th>\n",
       "      <td>-1.298417</td>\n",
       "      <td>0.153018</td>\n",
       "    </tr>\n",
       "  </tbody>\n",
       "</table>\n",
       "</div>"
      ],
      "text/plain": [
       "                  C         D\n",
       "A   B                        \n",
       "bar one    1.480251  0.311373\n",
       "    three  0.640351 -0.532001\n",
       "    two   -0.436455 -1.024308\n",
       "foo one   -0.653137  1.284701\n",
       "    three -0.260092 -0.684502\n",
       "    two   -1.298417  0.153018"
      ]
     },
     "execution_count": 88,
     "metadata": {},
     "output_type": "execute_result"
    }
   ],
   "source": [
    "df.groupby(['A','B']).sum()"
   ]
  },
  {
   "cell_type": "markdown",
   "metadata": {},
   "source": [
    "Series.nlargest: Return the largest n elements.\n",
    "Series.nsmallest: Return the smallest n elements."
   ]
  },
  {
   "cell_type": "code",
   "execution_count": 89,
   "metadata": {
    "collapsed": false
   },
   "outputs": [
    {
     "data": {
      "text/plain": [
       "A     \n",
       "bar  1    1.480251\n",
       "     3    0.640351\n",
       "foo  4    0.538425\n",
       "     6   -0.057440\n",
       "Name: C, dtype: float64"
      ]
     },
     "execution_count": 89,
     "metadata": {},
     "output_type": "execute_result"
    }
   ],
   "source": [
    "df.groupby('A')[\"C\"].nlargest(2)"
   ]
  },
  {
   "cell_type": "markdown",
   "metadata": {},
   "source": [
    "## Splitting"
   ]
  },
  {
   "cell_type": "markdown",
   "metadata": {},
   "source": [
    "Iterate over a groupby object, just to illustrate the **split** part of the groupby method."
   ]
  },
  {
   "cell_type": "code",
   "execution_count": 90,
   "metadata": {
    "collapsed": false
   },
   "outputs": [
    {
     "name": "stdout",
     "output_type": "stream",
     "text": [
      "Name: ('bar', 'one')\n",
      "     A    B         C         D\n",
      "1  bar  one  1.480251  0.311373\n",
      "##################################################\n",
      "Name: ('bar', 'three')\n",
      "     A      B         C         D\n",
      "3  bar  three  0.640351 -0.532001\n",
      "##################################################\n",
      "Name: ('bar', 'two')\n",
      "     A    B         C         D\n",
      "5  bar  two -0.436455 -1.024308\n",
      "##################################################\n",
      "Name: ('foo', 'one')\n",
      "     A    B         C         D\n",
      "0  foo  one -0.595697 -0.216727\n",
      "6  foo  one -0.057440  1.501428\n",
      "##################################################\n",
      "Name: ('foo', 'three')\n",
      "     A      B         C         D\n",
      "7  foo  three -0.260092 -0.684502\n",
      "##################################################\n",
      "Name: ('foo', 'two')\n",
      "     A    B         C         D\n",
      "2  foo  two -1.836842 -0.377590\n",
      "4  foo  two  0.538425  0.530609\n",
      "##################################################\n"
     ]
    }
   ],
   "source": [
    "grouped = df.groupby(['A','B'])\n",
    "for name, group in grouped:\n",
    "    print \"Name:\", name\n",
    "    print group\n",
    "    print \"#\"*50"
   ]
  },
  {
   "cell_type": "markdown",
   "metadata": {},
   "source": [
    "## Applying"
   ]
  },
  {
   "cell_type": "markdown",
   "metadata": {},
   "source": [
    "- **Aggregation**: computing a summary statistic (or statistics) about each group. Some examples:\n",
    "    - Compute group sums or means\n",
    "    - Compute group sizes / counts\n",
    "    \n",
    "- **Transformation**: perform some group-specific computations and return a like-indexed. Some examples:\n",
    "    - Standardizing data (zscore) within group\n",
    "    - Filling NAs within groups with a value derived from each group\n",
    "\n",
    "- **Filtration**: discard some groups, according to a group-wise computation that evaluates True or False. Some examples:\n",
    "    - Discarding data that belongs to groups with only a few members\n",
    "    - Filtering out data based on the group sum or mean"
   ]
  },
  {
   "cell_type": "markdown",
   "metadata": {},
   "source": [
    "### Aggregation"
   ]
  },
  {
   "cell_type": "markdown",
   "metadata": {},
   "source": [
    "\"reduces\" the DataFrame, meaning the df_original.shape > df_aggregated.shape"
   ]
  },
  {
   "cell_type": "code",
   "execution_count": 91,
   "metadata": {
    "collapsed": false
   },
   "outputs": [
    {
     "data": {
      "text/html": [
       "<div>\n",
       "<table border=\"1\" class=\"dataframe\">\n",
       "  <thead>\n",
       "    <tr>\n",
       "      <th></th>\n",
       "      <th></th>\n",
       "      <th colspan=\"4\" halign=\"left\">C</th>\n",
       "      <th colspan=\"4\" halign=\"left\">D</th>\n",
       "    </tr>\n",
       "    <tr>\n",
       "      <th></th>\n",
       "      <th></th>\n",
       "      <th>sum</th>\n",
       "      <th>count</th>\n",
       "      <th>median</th>\n",
       "      <th>mean</th>\n",
       "      <th>sum</th>\n",
       "      <th>count</th>\n",
       "      <th>median</th>\n",
       "      <th>mean</th>\n",
       "    </tr>\n",
       "    <tr>\n",
       "      <th>A</th>\n",
       "      <th>B</th>\n",
       "      <th></th>\n",
       "      <th></th>\n",
       "      <th></th>\n",
       "      <th></th>\n",
       "      <th></th>\n",
       "      <th></th>\n",
       "      <th></th>\n",
       "      <th></th>\n",
       "    </tr>\n",
       "  </thead>\n",
       "  <tbody>\n",
       "    <tr>\n",
       "      <th rowspan=\"3\" valign=\"top\">bar</th>\n",
       "      <th>one</th>\n",
       "      <td>1.480251</td>\n",
       "      <td>1</td>\n",
       "      <td>1.480251</td>\n",
       "      <td>1.480251</td>\n",
       "      <td>0.311373</td>\n",
       "      <td>1</td>\n",
       "      <td>0.311373</td>\n",
       "      <td>0.311373</td>\n",
       "    </tr>\n",
       "    <tr>\n",
       "      <th>three</th>\n",
       "      <td>0.640351</td>\n",
       "      <td>1</td>\n",
       "      <td>0.640351</td>\n",
       "      <td>0.640351</td>\n",
       "      <td>-0.532001</td>\n",
       "      <td>1</td>\n",
       "      <td>-0.532001</td>\n",
       "      <td>-0.532001</td>\n",
       "    </tr>\n",
       "    <tr>\n",
       "      <th>two</th>\n",
       "      <td>-0.436455</td>\n",
       "      <td>1</td>\n",
       "      <td>-0.436455</td>\n",
       "      <td>-0.436455</td>\n",
       "      <td>-1.024308</td>\n",
       "      <td>1</td>\n",
       "      <td>-1.024308</td>\n",
       "      <td>-1.024308</td>\n",
       "    </tr>\n",
       "    <tr>\n",
       "      <th rowspan=\"3\" valign=\"top\">foo</th>\n",
       "      <th>one</th>\n",
       "      <td>-0.653137</td>\n",
       "      <td>2</td>\n",
       "      <td>-0.326569</td>\n",
       "      <td>-0.326569</td>\n",
       "      <td>1.284701</td>\n",
       "      <td>2</td>\n",
       "      <td>0.642350</td>\n",
       "      <td>0.642350</td>\n",
       "    </tr>\n",
       "    <tr>\n",
       "      <th>three</th>\n",
       "      <td>-0.260092</td>\n",
       "      <td>1</td>\n",
       "      <td>-0.260092</td>\n",
       "      <td>-0.260092</td>\n",
       "      <td>-0.684502</td>\n",
       "      <td>1</td>\n",
       "      <td>-0.684502</td>\n",
       "      <td>-0.684502</td>\n",
       "    </tr>\n",
       "    <tr>\n",
       "      <th>two</th>\n",
       "      <td>-1.298417</td>\n",
       "      <td>2</td>\n",
       "      <td>-0.649208</td>\n",
       "      <td>-0.649208</td>\n",
       "      <td>0.153018</td>\n",
       "      <td>2</td>\n",
       "      <td>0.076509</td>\n",
       "      <td>0.076509</td>\n",
       "    </tr>\n",
       "  </tbody>\n",
       "</table>\n",
       "</div>"
      ],
      "text/plain": [
       "                  C                                   D                  \\\n",
       "                sum count    median      mean       sum count    median   \n",
       "A   B                                                                     \n",
       "bar one    1.480251     1  1.480251  1.480251  0.311373     1  0.311373   \n",
       "    three  0.640351     1  0.640351  0.640351 -0.532001     1 -0.532001   \n",
       "    two   -0.436455     1 -0.436455 -0.436455 -1.024308     1 -1.024308   \n",
       "foo one   -0.653137     2 -0.326569 -0.326569  1.284701     2  0.642350   \n",
       "    three -0.260092     1 -0.260092 -0.260092 -0.684502     1 -0.684502   \n",
       "    two   -1.298417     2 -0.649208 -0.649208  0.153018     2  0.076509   \n",
       "\n",
       "                     \n",
       "               mean  \n",
       "A   B                \n",
       "bar one    0.311373  \n",
       "    three -0.532001  \n",
       "    two   -1.024308  \n",
       "foo one    0.642350  \n",
       "    three -0.684502  \n",
       "    two    0.076509  "
      ]
     },
     "execution_count": 91,
     "metadata": {},
     "output_type": "execute_result"
    }
   ],
   "source": [
    "grouped.aggregate([\"sum\", \"count\", \"median\", \"mean\"]) # see `Operations` above for more built-in methods"
   ]
  },
  {
   "cell_type": "markdown",
   "metadata": {},
   "source": [
    "### Transformation"
   ]
  },
  {
   "cell_type": "markdown",
   "metadata": {},
   "source": [
    "returns an object that is indexed the same (same size) as the one being grouped. Thus, the passed transform function should return a result that is the same size as the group chunk."
   ]
  },
  {
   "cell_type": "code",
   "execution_count": 92,
   "metadata": {
    "collapsed": false
   },
   "outputs": [
    {
     "data": {
      "text/html": [
       "<div>\n",
       "<table border=\"1\" class=\"dataframe\">\n",
       "  <thead>\n",
       "    <tr style=\"text-align: right;\">\n",
       "      <th></th>\n",
       "      <th>a</th>\n",
       "      <th>b</th>\n",
       "      <th>c</th>\n",
       "      <th>d</th>\n",
       "      <th>e</th>\n",
       "    </tr>\n",
       "  </thead>\n",
       "  <tbody>\n",
       "    <tr>\n",
       "      <th>0</th>\n",
       "      <td>1</td>\n",
       "      <td>1</td>\n",
       "      <td>q</td>\n",
       "      <td>z</td>\n",
       "      <td>2</td>\n",
       "    </tr>\n",
       "    <tr>\n",
       "      <th>1</th>\n",
       "      <td>2</td>\n",
       "      <td>2</td>\n",
       "      <td>q</td>\n",
       "      <td>z</td>\n",
       "      <td>4</td>\n",
       "    </tr>\n",
       "    <tr>\n",
       "      <th>2</th>\n",
       "      <td>3</td>\n",
       "      <td>3</td>\n",
       "      <td>q</td>\n",
       "      <td>z</td>\n",
       "      <td>6</td>\n",
       "    </tr>\n",
       "    <tr>\n",
       "      <th>3</th>\n",
       "      <td>4</td>\n",
       "      <td>4</td>\n",
       "      <td>q</td>\n",
       "      <td>o</td>\n",
       "      <td>8</td>\n",
       "    </tr>\n",
       "    <tr>\n",
       "      <th>4</th>\n",
       "      <td>5</td>\n",
       "      <td>5</td>\n",
       "      <td>w</td>\n",
       "      <td>o</td>\n",
       "      <td>10</td>\n",
       "    </tr>\n",
       "    <tr>\n",
       "      <th>5</th>\n",
       "      <td>6</td>\n",
       "      <td>6</td>\n",
       "      <td>w</td>\n",
       "      <td>o</td>\n",
       "      <td>12</td>\n",
       "    </tr>\n",
       "  </tbody>\n",
       "</table>\n",
       "</div>"
      ],
      "text/plain": [
       "   a  b  c  d   e\n",
       "0  1  1  q  z   2\n",
       "1  2  2  q  z   4\n",
       "2  3  3  q  z   6\n",
       "3  4  4  q  o   8\n",
       "4  5  5  w  o  10\n",
       "5  6  6  w  o  12"
      ]
     },
     "execution_count": 92,
     "metadata": {},
     "output_type": "execute_result"
    }
   ],
   "source": [
    "df = pd.DataFrame({'a': [1, 2, 3, 4, 5, 6],\n",
    "                   'b': [1, 2, 3, 4, 5, 6],\n",
    "                   'c': ['q', 'q', 'q', 'q', 'w', 'w'],  \n",
    "                   'd': ['z','z','z','o','o','o']})\n",
    "df['e'] = df['a'] + df['b']\n",
    "df"
   ]
  },
  {
   "cell_type": "code",
   "execution_count": 93,
   "metadata": {
    "collapsed": false
   },
   "outputs": [
    {
     "data": {
      "text/html": [
       "<div>\n",
       "<table border=\"1\" class=\"dataframe\">\n",
       "  <thead>\n",
       "    <tr style=\"text-align: right;\">\n",
       "      <th></th>\n",
       "      <th>a</th>\n",
       "      <th>b</th>\n",
       "      <th>c</th>\n",
       "      <th>d</th>\n",
       "      <th>e</th>\n",
       "      <th>f</th>\n",
       "    </tr>\n",
       "  </thead>\n",
       "  <tbody>\n",
       "    <tr>\n",
       "      <th>0</th>\n",
       "      <td>1</td>\n",
       "      <td>1</td>\n",
       "      <td>q</td>\n",
       "      <td>z</td>\n",
       "      <td>2</td>\n",
       "      <td>12</td>\n",
       "    </tr>\n",
       "    <tr>\n",
       "      <th>1</th>\n",
       "      <td>2</td>\n",
       "      <td>2</td>\n",
       "      <td>q</td>\n",
       "      <td>z</td>\n",
       "      <td>4</td>\n",
       "      <td>12</td>\n",
       "    </tr>\n",
       "    <tr>\n",
       "      <th>2</th>\n",
       "      <td>3</td>\n",
       "      <td>3</td>\n",
       "      <td>q</td>\n",
       "      <td>z</td>\n",
       "      <td>6</td>\n",
       "      <td>12</td>\n",
       "    </tr>\n",
       "    <tr>\n",
       "      <th>3</th>\n",
       "      <td>4</td>\n",
       "      <td>4</td>\n",
       "      <td>q</td>\n",
       "      <td>o</td>\n",
       "      <td>8</td>\n",
       "      <td>8</td>\n",
       "    </tr>\n",
       "    <tr>\n",
       "      <th>4</th>\n",
       "      <td>5</td>\n",
       "      <td>5</td>\n",
       "      <td>w</td>\n",
       "      <td>o</td>\n",
       "      <td>10</td>\n",
       "      <td>22</td>\n",
       "    </tr>\n",
       "    <tr>\n",
       "      <th>5</th>\n",
       "      <td>6</td>\n",
       "      <td>6</td>\n",
       "      <td>w</td>\n",
       "      <td>o</td>\n",
       "      <td>12</td>\n",
       "      <td>22</td>\n",
       "    </tr>\n",
       "  </tbody>\n",
       "</table>\n",
       "</div>"
      ],
      "text/plain": [
       "   a  b  c  d   e   f\n",
       "0  1  1  q  z   2  12\n",
       "1  2  2  q  z   4  12\n",
       "2  3  3  q  z   6  12\n",
       "3  4  4  q  o   8   8\n",
       "4  5  5  w  o  10  22\n",
       "5  6  6  w  o  12  22"
      ]
     },
     "execution_count": 93,
     "metadata": {},
     "output_type": "execute_result"
    }
   ],
   "source": [
    "df['f'] = (df.groupby(['c', 'd'])['e'].transform('sum'))\n",
    "df"
   ]
  },
  {
   "cell_type": "code",
   "execution_count": 94,
   "metadata": {
    "collapsed": false
   },
   "outputs": [],
   "source": [
    "assert df.loc[0, \"f\"] == df.loc[( (df[\"c\"] == \"q\") & (df[\"d\"] == \"z\") ), \"e\"].sum()"
   ]
  },
  {
   "cell_type": "markdown",
   "metadata": {},
   "source": [
    "### Filtration"
   ]
  },
  {
   "cell_type": "markdown",
   "metadata": {},
   "source": [
    "returns a subset of the original object."
   ]
  },
  {
   "cell_type": "code",
   "execution_count": 95,
   "metadata": {
    "collapsed": false
   },
   "outputs": [
    {
     "data": {
      "text/html": [
       "<div>\n",
       "<table border=\"1\" class=\"dataframe\">\n",
       "  <thead>\n",
       "    <tr style=\"text-align: right;\">\n",
       "      <th></th>\n",
       "      <th>A</th>\n",
       "      <th>B</th>\n",
       "    </tr>\n",
       "  </thead>\n",
       "  <tbody>\n",
       "    <tr>\n",
       "      <th>0</th>\n",
       "      <td>0</td>\n",
       "      <td>a</td>\n",
       "    </tr>\n",
       "    <tr>\n",
       "      <th>1</th>\n",
       "      <td>1</td>\n",
       "      <td>a</td>\n",
       "    </tr>\n",
       "    <tr>\n",
       "      <th>2</th>\n",
       "      <td>2</td>\n",
       "      <td>b</td>\n",
       "    </tr>\n",
       "    <tr>\n",
       "      <th>3</th>\n",
       "      <td>3</td>\n",
       "      <td>b</td>\n",
       "    </tr>\n",
       "    <tr>\n",
       "      <th>4</th>\n",
       "      <td>4</td>\n",
       "      <td>b</td>\n",
       "    </tr>\n",
       "    <tr>\n",
       "      <th>5</th>\n",
       "      <td>5</td>\n",
       "      <td>b</td>\n",
       "    </tr>\n",
       "    <tr>\n",
       "      <th>6</th>\n",
       "      <td>6</td>\n",
       "      <td>c</td>\n",
       "    </tr>\n",
       "    <tr>\n",
       "      <th>7</th>\n",
       "      <td>7</td>\n",
       "      <td>c</td>\n",
       "    </tr>\n",
       "  </tbody>\n",
       "</table>\n",
       "</div>"
      ],
      "text/plain": [
       "   A  B\n",
       "0  0  a\n",
       "1  1  a\n",
       "2  2  b\n",
       "3  3  b\n",
       "4  4  b\n",
       "5  5  b\n",
       "6  6  c\n",
       "7  7  c"
      ]
     },
     "execution_count": 95,
     "metadata": {},
     "output_type": "execute_result"
    }
   ],
   "source": [
    "df = pd.DataFrame({'A': np.arange(8), 'B': list('aabbbbcc')})\n",
    "df"
   ]
  },
  {
   "cell_type": "code",
   "execution_count": 96,
   "metadata": {
    "collapsed": false
   },
   "outputs": [
    {
     "data": {
      "text/html": [
       "<div>\n",
       "<table border=\"1\" class=\"dataframe\">\n",
       "  <thead>\n",
       "    <tr style=\"text-align: right;\">\n",
       "      <th></th>\n",
       "      <th>A</th>\n",
       "      <th>B</th>\n",
       "    </tr>\n",
       "  </thead>\n",
       "  <tbody>\n",
       "    <tr>\n",
       "      <th>2</th>\n",
       "      <td>2</td>\n",
       "      <td>b</td>\n",
       "    </tr>\n",
       "    <tr>\n",
       "      <th>3</th>\n",
       "      <td>3</td>\n",
       "      <td>b</td>\n",
       "    </tr>\n",
       "    <tr>\n",
       "      <th>4</th>\n",
       "      <td>4</td>\n",
       "      <td>b</td>\n",
       "    </tr>\n",
       "    <tr>\n",
       "      <th>5</th>\n",
       "      <td>5</td>\n",
       "      <td>b</td>\n",
       "    </tr>\n",
       "  </tbody>\n",
       "</table>\n",
       "</div>"
      ],
      "text/plain": [
       "   A  B\n",
       "2  2  b\n",
       "3  3  b\n",
       "4  4  b\n",
       "5  5  b"
      ]
     },
     "execution_count": 96,
     "metadata": {},
     "output_type": "execute_result"
    }
   ],
   "source": [
    "df.groupby('B').filter(lambda x: len(x) > 2)"
   ]
  },
  {
   "cell_type": "markdown",
   "metadata": {},
   "source": [
    "## Apply"
   ]
  },
  {
   "cell_type": "markdown",
   "metadata": {},
   "source": [
    "Another frequent operation is applying a function on 1D arrays to each column or row. \n",
    "Apply a custom function to the entire DataFrame or a Series. `axis` indicates row or column-wise application. (default: axis=0)"
   ]
  },
  {
   "cell_type": "markdown",
   "metadata": {},
   "source": [
    "apply on a Series performs an element-wise operation"
   ]
  },
  {
   "cell_type": "code",
   "execution_count": 97,
   "metadata": {
    "collapsed": true
   },
   "outputs": [],
   "source": [
    "def example_custom_function(number):\n",
    "    if number >= 6:\n",
    "        return number / 5.0\n",
    "    elif number <= 3:\n",
    "        return number * 88\n",
    "    else:\n",
    "        return np.nan"
   ]
  },
  {
   "cell_type": "code",
   "execution_count": 98,
   "metadata": {
    "collapsed": false
   },
   "outputs": [
    {
     "data": {
      "text/plain": [
       "0      0.0\n",
       "1     88.0\n",
       "2    176.0\n",
       "3    264.0\n",
       "4      NaN\n",
       "5      NaN\n",
       "6      1.2\n",
       "7      1.4\n",
       "Name: A, dtype: float64"
      ]
     },
     "execution_count": 98,
     "metadata": {},
     "output_type": "execute_result"
    }
   ],
   "source": [
    "df[\"A\"].apply(example_custom_function)"
   ]
  },
  {
   "cell_type": "markdown",
   "metadata": {},
   "source": [
    "apply on a DataFrame perform a Series-wise operation"
   ]
  },
  {
   "cell_type": "code",
   "execution_count": 99,
   "metadata": {
    "collapsed": false
   },
   "outputs": [
    {
     "data": {
      "text/html": [
       "<div>\n",
       "<table border=\"1\" class=\"dataframe\">\n",
       "  <thead>\n",
       "    <tr style=\"text-align: right;\">\n",
       "      <th></th>\n",
       "      <th>A</th>\n",
       "      <th>B</th>\n",
       "      <th>C</th>\n",
       "      <th>D</th>\n",
       "    </tr>\n",
       "  </thead>\n",
       "  <tbody>\n",
       "    <tr>\n",
       "      <th>0</th>\n",
       "      <td>-0.055586</td>\n",
       "      <td>0.565785</td>\n",
       "      <td>-1.166555</td>\n",
       "      <td>0.038104</td>\n",
       "    </tr>\n",
       "    <tr>\n",
       "      <th>1</th>\n",
       "      <td>0.200634</td>\n",
       "      <td>0.889308</td>\n",
       "      <td>1.126039</td>\n",
       "      <td>-2.620415</td>\n",
       "    </tr>\n",
       "    <tr>\n",
       "      <th>2</th>\n",
       "      <td>0.070676</td>\n",
       "      <td>0.895831</td>\n",
       "      <td>-1.826842</td>\n",
       "      <td>0.290249</td>\n",
       "    </tr>\n",
       "    <tr>\n",
       "      <th>3</th>\n",
       "      <td>2.361897</td>\n",
       "      <td>1.921316</td>\n",
       "      <td>0.722863</td>\n",
       "      <td>0.139535</td>\n",
       "    </tr>\n",
       "    <tr>\n",
       "      <th>4</th>\n",
       "      <td>-1.661117</td>\n",
       "      <td>0.428333</td>\n",
       "      <td>-2.217039</td>\n",
       "      <td>1.021083</td>\n",
       "    </tr>\n",
       "    <tr>\n",
       "      <th>5</th>\n",
       "      <td>-0.892498</td>\n",
       "      <td>2.375512</td>\n",
       "      <td>-2.880172</td>\n",
       "      <td>-1.041927</td>\n",
       "    </tr>\n",
       "    <tr>\n",
       "      <th>6</th>\n",
       "      <td>-0.016977</td>\n",
       "      <td>-0.522901</td>\n",
       "      <td>0.154441</td>\n",
       "      <td>0.600143</td>\n",
       "    </tr>\n",
       "    <tr>\n",
       "      <th>7</th>\n",
       "      <td>-0.356928</td>\n",
       "      <td>0.623010</td>\n",
       "      <td>-1.054379</td>\n",
       "      <td>1.144509</td>\n",
       "    </tr>\n",
       "  </tbody>\n",
       "</table>\n",
       "</div>"
      ],
      "text/plain": [
       "          A         B         C         D\n",
       "0 -0.055586  0.565785 -1.166555  0.038104\n",
       "1  0.200634  0.889308  1.126039 -2.620415\n",
       "2  0.070676  0.895831 -1.826842  0.290249\n",
       "3  2.361897  1.921316  0.722863  0.139535\n",
       "4 -1.661117  0.428333 -2.217039  1.021083\n",
       "5 -0.892498  2.375512 -2.880172 -1.041927\n",
       "6 -0.016977 -0.522901  0.154441  0.600143\n",
       "7 -0.356928  0.623010 -1.054379  1.144509"
      ]
     },
     "execution_count": 99,
     "metadata": {},
     "output_type": "execute_result"
    }
   ],
   "source": [
    "df = pd.DataFrame(np.random.randn(8, 4), columns=['A','B','C','D'])\n",
    "df"
   ]
  },
  {
   "cell_type": "code",
   "execution_count": 100,
   "metadata": {
    "collapsed": true
   },
   "outputs": [],
   "source": [
    "def example_custom_function_on_series_1(series):\n",
    "    return series / series.sum()"
   ]
  },
  {
   "cell_type": "code",
   "execution_count": 101,
   "metadata": {
    "collapsed": false
   },
   "outputs": [
    {
     "data": {
      "text/html": [
       "<div>\n",
       "<table border=\"1\" class=\"dataframe\">\n",
       "  <thead>\n",
       "    <tr style=\"text-align: right;\">\n",
       "      <th></th>\n",
       "      <th>A</th>\n",
       "      <th>B</th>\n",
       "      <th>C</th>\n",
       "      <th>D</th>\n",
       "    </tr>\n",
       "  </thead>\n",
       "  <tbody>\n",
       "    <tr>\n",
       "      <th>0</th>\n",
       "      <td>0.158864</td>\n",
       "      <td>0.078842</td>\n",
       "      <td>0.163345</td>\n",
       "      <td>-0.088879</td>\n",
       "    </tr>\n",
       "    <tr>\n",
       "      <th>1</th>\n",
       "      <td>-0.573406</td>\n",
       "      <td>0.123925</td>\n",
       "      <td>-0.157672</td>\n",
       "      <td>6.112175</td>\n",
       "    </tr>\n",
       "    <tr>\n",
       "      <th>2</th>\n",
       "      <td>-0.201991</td>\n",
       "      <td>0.124834</td>\n",
       "      <td>0.255801</td>\n",
       "      <td>-0.677011</td>\n",
       "    </tr>\n",
       "    <tr>\n",
       "      <th>3</th>\n",
       "      <td>-6.750224</td>\n",
       "      <td>0.267735</td>\n",
       "      <td>-0.101218</td>\n",
       "      <td>-0.325468</td>\n",
       "    </tr>\n",
       "    <tr>\n",
       "      <th>4</th>\n",
       "      <td>4.747419</td>\n",
       "      <td>0.059688</td>\n",
       "      <td>0.310438</td>\n",
       "      <td>-2.381697</td>\n",
       "    </tr>\n",
       "    <tr>\n",
       "      <th>5</th>\n",
       "      <td>2.550730</td>\n",
       "      <td>0.331027</td>\n",
       "      <td>0.403293</td>\n",
       "      <td>2.430318</td>\n",
       "    </tr>\n",
       "    <tr>\n",
       "      <th>6</th>\n",
       "      <td>0.048519</td>\n",
       "      <td>-0.072866</td>\n",
       "      <td>-0.021625</td>\n",
       "      <td>-1.399847</td>\n",
       "    </tr>\n",
       "    <tr>\n",
       "      <th>7</th>\n",
       "      <td>1.020089</td>\n",
       "      <td>0.086816</td>\n",
       "      <td>0.147638</td>\n",
       "      <td>-2.669591</td>\n",
       "    </tr>\n",
       "  </tbody>\n",
       "</table>\n",
       "</div>"
      ],
      "text/plain": [
       "          A         B         C         D\n",
       "0  0.158864  0.078842  0.163345 -0.088879\n",
       "1 -0.573406  0.123925 -0.157672  6.112175\n",
       "2 -0.201991  0.124834  0.255801 -0.677011\n",
       "3 -6.750224  0.267735 -0.101218 -0.325468\n",
       "4  4.747419  0.059688  0.310438 -2.381697\n",
       "5  2.550730  0.331027  0.403293  2.430318\n",
       "6  0.048519 -0.072866 -0.021625 -1.399847\n",
       "7  1.020089  0.086816  0.147638 -2.669591"
      ]
     },
     "execution_count": 101,
     "metadata": {},
     "output_type": "execute_result"
    }
   ],
   "source": [
    "### notice how example_custom_function_on_series_1 return a single value per Series --> transformation\n",
    "df.apply(example_custom_function_on_series_1)"
   ]
  },
  {
   "cell_type": "code",
   "execution_count": 102,
   "metadata": {
    "collapsed": true
   },
   "outputs": [],
   "source": [
    "def example_custom_function_on_series_2(series):\n",
    "    return series.max() - series.min()"
   ]
  },
  {
   "cell_type": "code",
   "execution_count": 103,
   "metadata": {
    "collapsed": false
   },
   "outputs": [
    {
     "data": {
      "text/plain": [
       "A    4.023014\n",
       "B    2.898413\n",
       "C    4.006210\n",
       "D    3.764924\n",
       "dtype: float64"
      ]
     },
     "execution_count": 103,
     "metadata": {},
     "output_type": "execute_result"
    }
   ],
   "source": [
    "### notice how example_custom_function_on_series_2 return a single value per Series --> aggregation\n",
    "df.apply(example_custom_function_on_series_2)"
   ]
  },
  {
   "cell_type": "markdown",
   "metadata": {},
   "source": [
    "### Applymap"
   ]
  },
  {
   "cell_type": "markdown",
   "metadata": {},
   "source": [
    "Element-wise Python functions can be used, too. You can do this with applymap:"
   ]
  },
  {
   "cell_type": "code",
   "execution_count": 104,
   "metadata": {
    "collapsed": false
   },
   "outputs": [
    {
     "data": {
      "text/html": [
       "<div>\n",
       "<table border=\"1\" class=\"dataframe\">\n",
       "  <thead>\n",
       "    <tr style=\"text-align: right;\">\n",
       "      <th></th>\n",
       "      <th>A</th>\n",
       "      <th>B</th>\n",
       "      <th>C</th>\n",
       "      <th>D</th>\n",
       "    </tr>\n",
       "  </thead>\n",
       "  <tbody>\n",
       "    <tr>\n",
       "      <th>0</th>\n",
       "      <td>-0.06</td>\n",
       "      <td>0.57</td>\n",
       "      <td>-1.17</td>\n",
       "      <td>0.04</td>\n",
       "    </tr>\n",
       "    <tr>\n",
       "      <th>1</th>\n",
       "      <td>0.20</td>\n",
       "      <td>0.89</td>\n",
       "      <td>1.13</td>\n",
       "      <td>-2.62</td>\n",
       "    </tr>\n",
       "    <tr>\n",
       "      <th>2</th>\n",
       "      <td>0.07</td>\n",
       "      <td>0.90</td>\n",
       "      <td>-1.83</td>\n",
       "      <td>0.29</td>\n",
       "    </tr>\n",
       "    <tr>\n",
       "      <th>3</th>\n",
       "      <td>2.36</td>\n",
       "      <td>1.92</td>\n",
       "      <td>0.72</td>\n",
       "      <td>0.14</td>\n",
       "    </tr>\n",
       "    <tr>\n",
       "      <th>4</th>\n",
       "      <td>-1.66</td>\n",
       "      <td>0.43</td>\n",
       "      <td>-2.22</td>\n",
       "      <td>1.02</td>\n",
       "    </tr>\n",
       "    <tr>\n",
       "      <th>5</th>\n",
       "      <td>-0.89</td>\n",
       "      <td>2.38</td>\n",
       "      <td>-2.88</td>\n",
       "      <td>-1.04</td>\n",
       "    </tr>\n",
       "    <tr>\n",
       "      <th>6</th>\n",
       "      <td>-0.02</td>\n",
       "      <td>-0.52</td>\n",
       "      <td>0.15</td>\n",
       "      <td>0.60</td>\n",
       "    </tr>\n",
       "    <tr>\n",
       "      <th>7</th>\n",
       "      <td>-0.36</td>\n",
       "      <td>0.62</td>\n",
       "      <td>-1.05</td>\n",
       "      <td>1.14</td>\n",
       "    </tr>\n",
       "  </tbody>\n",
       "</table>\n",
       "</div>"
      ],
      "text/plain": [
       "       A      B      C      D\n",
       "0  -0.06   0.57  -1.17   0.04\n",
       "1   0.20   0.89   1.13  -2.62\n",
       "2   0.07   0.90  -1.83   0.29\n",
       "3   2.36   1.92   0.72   0.14\n",
       "4  -1.66   0.43  -2.22   1.02\n",
       "5  -0.89   2.38  -2.88  -1.04\n",
       "6  -0.02  -0.52   0.15   0.60\n",
       "7  -0.36   0.62  -1.05   1.14"
      ]
     },
     "execution_count": 104,
     "metadata": {},
     "output_type": "execute_result"
    }
   ],
   "source": [
    "formater = lambda x: '%.2f' % x\n",
    "df.applymap(formater)"
   ]
  },
  {
   "cell_type": "markdown",
   "metadata": {},
   "source": [
    "### Map"
   ]
  },
  {
   "cell_type": "markdown",
   "metadata": {},
   "source": [
    "The reason for the name applymap is that Series has a map method for applying an element-wise function:"
   ]
  },
  {
   "cell_type": "code",
   "execution_count": 105,
   "metadata": {
    "collapsed": false
   },
   "outputs": [
    {
     "data": {
      "text/plain": [
       "0    -0.06\n",
       "1     0.20\n",
       "2     0.07\n",
       "3     2.36\n",
       "4    -1.66\n",
       "5    -0.89\n",
       "6    -0.02\n",
       "7    -0.36\n",
       "Name: A, dtype: object"
      ]
     },
     "execution_count": 105,
     "metadata": {},
     "output_type": "execute_result"
    }
   ],
   "source": [
    "df[\"A\"].map(formater)"
   ]
  },
  {
   "cell_type": "markdown",
   "metadata": {},
   "source": [
    "# Reshaping"
   ]
  },
  {
   "cell_type": "markdown",
   "metadata": {},
   "source": [
    "## Stack"
   ]
  },
  {
   "cell_type": "markdown",
   "metadata": {},
   "source": [
    "“compresses” a level in the DataFrame’s columns."
   ]
  },
  {
   "cell_type": "code",
   "execution_count": 106,
   "metadata": {
    "collapsed": false
   },
   "outputs": [
    {
     "data": {
      "text/html": [
       "<div>\n",
       "<table border=\"1\" class=\"dataframe\">\n",
       "  <thead>\n",
       "    <tr style=\"text-align: right;\">\n",
       "      <th></th>\n",
       "      <th></th>\n",
       "      <th>A</th>\n",
       "      <th>B</th>\n",
       "    </tr>\n",
       "    <tr>\n",
       "      <th>first</th>\n",
       "      <th>second</th>\n",
       "      <th></th>\n",
       "      <th></th>\n",
       "    </tr>\n",
       "  </thead>\n",
       "  <tbody>\n",
       "    <tr>\n",
       "      <th rowspan=\"2\" valign=\"top\">bar</th>\n",
       "      <th>one</th>\n",
       "      <td>-0.916427</td>\n",
       "      <td>-1.554786</td>\n",
       "    </tr>\n",
       "    <tr>\n",
       "      <th>two</th>\n",
       "      <td>1.606001</td>\n",
       "      <td>-0.414154</td>\n",
       "    </tr>\n",
       "    <tr>\n",
       "      <th rowspan=\"2\" valign=\"top\">baz</th>\n",
       "      <th>one</th>\n",
       "      <td>-0.338968</td>\n",
       "      <td>0.155801</td>\n",
       "    </tr>\n",
       "    <tr>\n",
       "      <th>two</th>\n",
       "      <td>0.569637</td>\n",
       "      <td>-2.387479</td>\n",
       "    </tr>\n",
       "  </tbody>\n",
       "</table>\n",
       "</div>"
      ],
      "text/plain": [
       "                     A         B\n",
       "first second                    \n",
       "bar   one    -0.916427 -1.554786\n",
       "      two     1.606001 -0.414154\n",
       "baz   one    -0.338968  0.155801\n",
       "      two     0.569637 -2.387479"
      ]
     },
     "execution_count": 106,
     "metadata": {},
     "output_type": "execute_result"
    }
   ],
   "source": [
    "tuples = list(zip(*[['bar', 'bar', 'baz', 'baz',\n",
    "                     'foo', 'foo', 'qux', 'qux'],\n",
    "                    ['one', 'two', 'one', 'two',\n",
    "                     'one', 'two', 'one', 'two']]))\n",
    "index = pd.MultiIndex.from_tuples(tuples, names=['first', 'second'])\n",
    "df = pd.DataFrame(np.random.randn(8, 2), index=index, columns=['A', 'B'])\n",
    "df2 = df[:4]\n",
    "df2"
   ]
  },
  {
   "cell_type": "code",
   "execution_count": 107,
   "metadata": {
    "collapsed": false
   },
   "outputs": [
    {
     "data": {
      "text/plain": [
       "first  second   \n",
       "bar    one     A   -0.916427\n",
       "               B   -1.554786\n",
       "       two     A    1.606001\n",
       "               B   -0.414154\n",
       "baz    one     A   -0.338968\n",
       "               B    0.155801\n",
       "       two     A    0.569637\n",
       "               B   -2.387479\n",
       "dtype: float64"
      ]
     },
     "execution_count": 107,
     "metadata": {},
     "output_type": "execute_result"
    }
   ],
   "source": [
    "stacked = df2.stack()\n",
    "stacked"
   ]
  },
  {
   "cell_type": "markdown",
   "metadata": {},
   "source": [
    "## Unstack"
   ]
  },
  {
   "cell_type": "markdown",
   "metadata": {},
   "source": [
    "the inverse operation of stack() is unstack(), which by default unstacks the last level"
   ]
  },
  {
   "cell_type": "code",
   "execution_count": 108,
   "metadata": {
    "collapsed": false
   },
   "outputs": [
    {
     "data": {
      "text/html": [
       "<div>\n",
       "<table border=\"1\" class=\"dataframe\">\n",
       "  <thead>\n",
       "    <tr style=\"text-align: right;\">\n",
       "      <th></th>\n",
       "      <th></th>\n",
       "      <th>A</th>\n",
       "      <th>B</th>\n",
       "    </tr>\n",
       "    <tr>\n",
       "      <th>first</th>\n",
       "      <th>second</th>\n",
       "      <th></th>\n",
       "      <th></th>\n",
       "    </tr>\n",
       "  </thead>\n",
       "  <tbody>\n",
       "    <tr>\n",
       "      <th rowspan=\"2\" valign=\"top\">bar</th>\n",
       "      <th>one</th>\n",
       "      <td>-0.916427</td>\n",
       "      <td>-1.554786</td>\n",
       "    </tr>\n",
       "    <tr>\n",
       "      <th>two</th>\n",
       "      <td>1.606001</td>\n",
       "      <td>-0.414154</td>\n",
       "    </tr>\n",
       "    <tr>\n",
       "      <th rowspan=\"2\" valign=\"top\">baz</th>\n",
       "      <th>one</th>\n",
       "      <td>-0.338968</td>\n",
       "      <td>0.155801</td>\n",
       "    </tr>\n",
       "    <tr>\n",
       "      <th>two</th>\n",
       "      <td>0.569637</td>\n",
       "      <td>-2.387479</td>\n",
       "    </tr>\n",
       "  </tbody>\n",
       "</table>\n",
       "</div>"
      ],
      "text/plain": [
       "                     A         B\n",
       "first second                    \n",
       "bar   one    -0.916427 -1.554786\n",
       "      two     1.606001 -0.414154\n",
       "baz   one    -0.338968  0.155801\n",
       "      two     0.569637 -2.387479"
      ]
     },
     "execution_count": 108,
     "metadata": {},
     "output_type": "execute_result"
    }
   ],
   "source": [
    "stacked.unstack() # in this particular case equivalent to stacked.unstack(2)"
   ]
  },
  {
   "cell_type": "code",
   "execution_count": 109,
   "metadata": {
    "collapsed": false
   },
   "outputs": [
    {
     "data": {
      "text/html": [
       "<div>\n",
       "<table border=\"1\" class=\"dataframe\">\n",
       "  <thead>\n",
       "    <tr style=\"text-align: right;\">\n",
       "      <th></th>\n",
       "      <th>first</th>\n",
       "      <th>bar</th>\n",
       "      <th>baz</th>\n",
       "    </tr>\n",
       "    <tr>\n",
       "      <th>second</th>\n",
       "      <th></th>\n",
       "      <th></th>\n",
       "      <th></th>\n",
       "    </tr>\n",
       "  </thead>\n",
       "  <tbody>\n",
       "    <tr>\n",
       "      <th rowspan=\"2\" valign=\"top\">one</th>\n",
       "      <th>A</th>\n",
       "      <td>-0.916427</td>\n",
       "      <td>-0.338968</td>\n",
       "    </tr>\n",
       "    <tr>\n",
       "      <th>B</th>\n",
       "      <td>-1.554786</td>\n",
       "      <td>0.155801</td>\n",
       "    </tr>\n",
       "    <tr>\n",
       "      <th rowspan=\"2\" valign=\"top\">two</th>\n",
       "      <th>A</th>\n",
       "      <td>1.606001</td>\n",
       "      <td>0.569637</td>\n",
       "    </tr>\n",
       "    <tr>\n",
       "      <th>B</th>\n",
       "      <td>-0.414154</td>\n",
       "      <td>-2.387479</td>\n",
       "    </tr>\n",
       "  </tbody>\n",
       "</table>\n",
       "</div>"
      ],
      "text/plain": [
       "first          bar       baz\n",
       "second                      \n",
       "one    A -0.916427 -0.338968\n",
       "       B -1.554786  0.155801\n",
       "two    A  1.606001  0.569637\n",
       "       B -0.414154 -2.387479"
      ]
     },
     "execution_count": 109,
     "metadata": {},
     "output_type": "execute_result"
    }
   ],
   "source": [
    "stacked.unstack(0)"
   ]
  },
  {
   "cell_type": "code",
   "execution_count": 110,
   "metadata": {
    "collapsed": false
   },
   "outputs": [
    {
     "data": {
      "text/html": [
       "<div>\n",
       "<table border=\"1\" class=\"dataframe\">\n",
       "  <thead>\n",
       "    <tr style=\"text-align: right;\">\n",
       "      <th></th>\n",
       "      <th>second</th>\n",
       "      <th>one</th>\n",
       "      <th>two</th>\n",
       "    </tr>\n",
       "    <tr>\n",
       "      <th>first</th>\n",
       "      <th></th>\n",
       "      <th></th>\n",
       "      <th></th>\n",
       "    </tr>\n",
       "  </thead>\n",
       "  <tbody>\n",
       "    <tr>\n",
       "      <th rowspan=\"2\" valign=\"top\">bar</th>\n",
       "      <th>A</th>\n",
       "      <td>-0.916427</td>\n",
       "      <td>1.606001</td>\n",
       "    </tr>\n",
       "    <tr>\n",
       "      <th>B</th>\n",
       "      <td>-1.554786</td>\n",
       "      <td>-0.414154</td>\n",
       "    </tr>\n",
       "    <tr>\n",
       "      <th rowspan=\"2\" valign=\"top\">baz</th>\n",
       "      <th>A</th>\n",
       "      <td>-0.338968</td>\n",
       "      <td>0.569637</td>\n",
       "    </tr>\n",
       "    <tr>\n",
       "      <th>B</th>\n",
       "      <td>0.155801</td>\n",
       "      <td>-2.387479</td>\n",
       "    </tr>\n",
       "  </tbody>\n",
       "</table>\n",
       "</div>"
      ],
      "text/plain": [
       "second        one       two\n",
       "first                      \n",
       "bar   A -0.916427  1.606001\n",
       "      B -1.554786 -0.414154\n",
       "baz   A -0.338968  0.569637\n",
       "      B  0.155801 -2.387479"
      ]
     },
     "execution_count": 110,
     "metadata": {},
     "output_type": "execute_result"
    }
   ],
   "source": [
    "stacked.unstack(1)"
   ]
  },
  {
   "cell_type": "markdown",
   "metadata": {},
   "source": [
    "## Pivot"
   ]
  },
  {
   "cell_type": "markdown",
   "metadata": {},
   "source": [
    "We can produce pivot tables from this data very easily:"
   ]
  },
  {
   "cell_type": "code",
   "execution_count": 111,
   "metadata": {
    "collapsed": false
   },
   "outputs": [
    {
     "data": {
      "text/html": [
       "<div>\n",
       "<table border=\"1\" class=\"dataframe\">\n",
       "  <thead>\n",
       "    <tr style=\"text-align: right;\">\n",
       "      <th></th>\n",
       "      <th>A</th>\n",
       "      <th>B</th>\n",
       "      <th>C</th>\n",
       "      <th>D</th>\n",
       "      <th>E</th>\n",
       "    </tr>\n",
       "  </thead>\n",
       "  <tbody>\n",
       "    <tr>\n",
       "      <th>0</th>\n",
       "      <td>one</td>\n",
       "      <td>a</td>\n",
       "      <td>foo</td>\n",
       "      <td>1.795658</td>\n",
       "      <td>-1.692460</td>\n",
       "    </tr>\n",
       "    <tr>\n",
       "      <th>1</th>\n",
       "      <td>one</td>\n",
       "      <td>b</td>\n",
       "      <td>foo</td>\n",
       "      <td>-0.072229</td>\n",
       "      <td>0.080841</td>\n",
       "    </tr>\n",
       "    <tr>\n",
       "      <th>2</th>\n",
       "      <td>two</td>\n",
       "      <td>c</td>\n",
       "      <td>foo</td>\n",
       "      <td>0.579050</td>\n",
       "      <td>-0.484044</td>\n",
       "    </tr>\n",
       "    <tr>\n",
       "      <th>3</th>\n",
       "      <td>three</td>\n",
       "      <td>a</td>\n",
       "      <td>bar</td>\n",
       "      <td>1.802420</td>\n",
       "      <td>0.343524</td>\n",
       "    </tr>\n",
       "    <tr>\n",
       "      <th>4</th>\n",
       "      <td>one</td>\n",
       "      <td>b</td>\n",
       "      <td>bar</td>\n",
       "      <td>-0.163139</td>\n",
       "      <td>-1.922711</td>\n",
       "    </tr>\n",
       "    <tr>\n",
       "      <th>5</th>\n",
       "      <td>one</td>\n",
       "      <td>c</td>\n",
       "      <td>bar</td>\n",
       "      <td>-0.411838</td>\n",
       "      <td>0.239472</td>\n",
       "    </tr>\n",
       "    <tr>\n",
       "      <th>6</th>\n",
       "      <td>two</td>\n",
       "      <td>a</td>\n",
       "      <td>foo</td>\n",
       "      <td>-0.167926</td>\n",
       "      <td>0.779548</td>\n",
       "    </tr>\n",
       "    <tr>\n",
       "      <th>7</th>\n",
       "      <td>three</td>\n",
       "      <td>b</td>\n",
       "      <td>foo</td>\n",
       "      <td>0.091777</td>\n",
       "      <td>-0.745811</td>\n",
       "    </tr>\n",
       "    <tr>\n",
       "      <th>8</th>\n",
       "      <td>one</td>\n",
       "      <td>c</td>\n",
       "      <td>foo</td>\n",
       "      <td>0.629784</td>\n",
       "      <td>0.927211</td>\n",
       "    </tr>\n",
       "    <tr>\n",
       "      <th>9</th>\n",
       "      <td>one</td>\n",
       "      <td>a</td>\n",
       "      <td>bar</td>\n",
       "      <td>-1.127097</td>\n",
       "      <td>0.671469</td>\n",
       "    </tr>\n",
       "    <tr>\n",
       "      <th>10</th>\n",
       "      <td>two</td>\n",
       "      <td>b</td>\n",
       "      <td>bar</td>\n",
       "      <td>-0.560821</td>\n",
       "      <td>-0.043930</td>\n",
       "    </tr>\n",
       "    <tr>\n",
       "      <th>11</th>\n",
       "      <td>three</td>\n",
       "      <td>c</td>\n",
       "      <td>bar</td>\n",
       "      <td>-1.625592</td>\n",
       "      <td>-0.932791</td>\n",
       "    </tr>\n",
       "  </tbody>\n",
       "</table>\n",
       "</div>"
      ],
      "text/plain": [
       "        A  B    C         D         E\n",
       "0     one  a  foo  1.795658 -1.692460\n",
       "1     one  b  foo -0.072229  0.080841\n",
       "2     two  c  foo  0.579050 -0.484044\n",
       "3   three  a  bar  1.802420  0.343524\n",
       "4     one  b  bar -0.163139 -1.922711\n",
       "5     one  c  bar -0.411838  0.239472\n",
       "6     two  a  foo -0.167926  0.779548\n",
       "7   three  b  foo  0.091777 -0.745811\n",
       "8     one  c  foo  0.629784  0.927211\n",
       "9     one  a  bar -1.127097  0.671469\n",
       "10    two  b  bar -0.560821 -0.043930\n",
       "11  three  c  bar -1.625592 -0.932791"
      ]
     },
     "execution_count": 111,
     "metadata": {},
     "output_type": "execute_result"
    }
   ],
   "source": [
    "df = pd.DataFrame({'A' : ['one', 'one', 'two', 'three'] * 3,\n",
    "                   'B' : ['a', 'b', 'c'] * 4,\n",
    "                   'C' : ['foo', 'foo', 'foo', 'bar', 'bar', 'bar'] * 2,\n",
    "                   'D' : np.random.randn(12),\n",
    "                   'E' : np.random.randn(12)})\n",
    "df"
   ]
  },
  {
   "cell_type": "code",
   "execution_count": 112,
   "metadata": {
    "collapsed": false
   },
   "outputs": [
    {
     "data": {
      "text/html": [
       "<div>\n",
       "<table border=\"1\" class=\"dataframe\">\n",
       "  <thead>\n",
       "    <tr>\n",
       "      <th></th>\n",
       "      <th></th>\n",
       "      <th colspan=\"2\" halign=\"left\">D</th>\n",
       "      <th colspan=\"2\" halign=\"left\">E</th>\n",
       "    </tr>\n",
       "    <tr>\n",
       "      <th></th>\n",
       "      <th>C</th>\n",
       "      <th>bar</th>\n",
       "      <th>foo</th>\n",
       "      <th>bar</th>\n",
       "      <th>foo</th>\n",
       "    </tr>\n",
       "    <tr>\n",
       "      <th>A</th>\n",
       "      <th>B</th>\n",
       "      <th></th>\n",
       "      <th></th>\n",
       "      <th></th>\n",
       "      <th></th>\n",
       "    </tr>\n",
       "  </thead>\n",
       "  <tbody>\n",
       "    <tr>\n",
       "      <th rowspan=\"3\" valign=\"top\">one</th>\n",
       "      <th>a</th>\n",
       "      <td>-1.127097</td>\n",
       "      <td>1.795658</td>\n",
       "      <td>0.671469</td>\n",
       "      <td>-1.692460</td>\n",
       "    </tr>\n",
       "    <tr>\n",
       "      <th>b</th>\n",
       "      <td>-0.163139</td>\n",
       "      <td>-0.072229</td>\n",
       "      <td>-1.922711</td>\n",
       "      <td>0.080841</td>\n",
       "    </tr>\n",
       "    <tr>\n",
       "      <th>c</th>\n",
       "      <td>-0.411838</td>\n",
       "      <td>0.629784</td>\n",
       "      <td>0.239472</td>\n",
       "      <td>0.927211</td>\n",
       "    </tr>\n",
       "    <tr>\n",
       "      <th rowspan=\"3\" valign=\"top\">three</th>\n",
       "      <th>a</th>\n",
       "      <td>1.802420</td>\n",
       "      <td>NaN</td>\n",
       "      <td>0.343524</td>\n",
       "      <td>NaN</td>\n",
       "    </tr>\n",
       "    <tr>\n",
       "      <th>b</th>\n",
       "      <td>NaN</td>\n",
       "      <td>0.091777</td>\n",
       "      <td>NaN</td>\n",
       "      <td>-0.745811</td>\n",
       "    </tr>\n",
       "    <tr>\n",
       "      <th>c</th>\n",
       "      <td>-1.625592</td>\n",
       "      <td>NaN</td>\n",
       "      <td>-0.932791</td>\n",
       "      <td>NaN</td>\n",
       "    </tr>\n",
       "    <tr>\n",
       "      <th rowspan=\"3\" valign=\"top\">two</th>\n",
       "      <th>a</th>\n",
       "      <td>NaN</td>\n",
       "      <td>-0.167926</td>\n",
       "      <td>NaN</td>\n",
       "      <td>0.779548</td>\n",
       "    </tr>\n",
       "    <tr>\n",
       "      <th>b</th>\n",
       "      <td>-0.560821</td>\n",
       "      <td>NaN</td>\n",
       "      <td>-0.043930</td>\n",
       "      <td>NaN</td>\n",
       "    </tr>\n",
       "    <tr>\n",
       "      <th>c</th>\n",
       "      <td>NaN</td>\n",
       "      <td>0.579050</td>\n",
       "      <td>NaN</td>\n",
       "      <td>-0.484044</td>\n",
       "    </tr>\n",
       "  </tbody>\n",
       "</table>\n",
       "</div>"
      ],
      "text/plain": [
       "                D                   E          \n",
       "C             bar       foo       bar       foo\n",
       "A     B                                        \n",
       "one   a -1.127097  1.795658  0.671469 -1.692460\n",
       "      b -0.163139 -0.072229 -1.922711  0.080841\n",
       "      c -0.411838  0.629784  0.239472  0.927211\n",
       "three a  1.802420       NaN  0.343524       NaN\n",
       "      b       NaN  0.091777       NaN -0.745811\n",
       "      c -1.625592       NaN -0.932791       NaN\n",
       "two   a       NaN -0.167926       NaN  0.779548\n",
       "      b -0.560821       NaN -0.043930       NaN\n",
       "      c       NaN  0.579050       NaN -0.484044"
      ]
     },
     "execution_count": 112,
     "metadata": {},
     "output_type": "execute_result"
    }
   ],
   "source": [
    "pd.pivot_table(df, values=['D', \"E\"], index=['A', 'B'], columns=['C'])"
   ]
  },
  {
   "cell_type": "markdown",
   "metadata": {},
   "source": [
    "## Melt"
   ]
  },
  {
   "cell_type": "markdown",
   "metadata": {},
   "source": [
    "“Unpivots” a DataFrame from wide format to long format, optionally leaving identifier variables set. This function is useful to massage a DataFrame into a format where one or more columns are identifier variables (id_vars), while all other columns, considered measured variables (value_vars), are “unpivoted” to the row axis, leaving just two non-identifier columns, ‘variable’ and ‘value’."
   ]
  },
  {
   "cell_type": "code",
   "execution_count": 113,
   "metadata": {
    "collapsed": false
   },
   "outputs": [
    {
     "data": {
      "text/html": [
       "<div>\n",
       "<table border=\"1\" class=\"dataframe\">\n",
       "  <thead>\n",
       "    <tr style=\"text-align: right;\">\n",
       "      <th></th>\n",
       "      <th>A</th>\n",
       "      <th>B</th>\n",
       "      <th>C</th>\n",
       "    </tr>\n",
       "  </thead>\n",
       "  <tbody>\n",
       "    <tr>\n",
       "      <th>0</th>\n",
       "      <td>a</td>\n",
       "      <td>1</td>\n",
       "      <td>2</td>\n",
       "    </tr>\n",
       "    <tr>\n",
       "      <th>1</th>\n",
       "      <td>b</td>\n",
       "      <td>3</td>\n",
       "      <td>4</td>\n",
       "    </tr>\n",
       "    <tr>\n",
       "      <th>2</th>\n",
       "      <td>c</td>\n",
       "      <td>5</td>\n",
       "      <td>6</td>\n",
       "    </tr>\n",
       "  </tbody>\n",
       "</table>\n",
       "</div>"
      ],
      "text/plain": [
       "   A  B  C\n",
       "0  a  1  2\n",
       "1  b  3  4\n",
       "2  c  5  6"
      ]
     },
     "execution_count": 113,
     "metadata": {},
     "output_type": "execute_result"
    }
   ],
   "source": [
    "df = pd.DataFrame({'A': {0: 'a', 1: 'b', 2: 'c'},\n",
    "                   'B': {0: 1, 1: 3, 2: 5},\n",
    "                   'C': {0: 2, 1: 4, 2: 6}})\n",
    "df"
   ]
  },
  {
   "cell_type": "code",
   "execution_count": 114,
   "metadata": {
    "collapsed": false
   },
   "outputs": [
    {
     "data": {
      "text/html": [
       "<div>\n",
       "<table border=\"1\" class=\"dataframe\">\n",
       "  <thead>\n",
       "    <tr style=\"text-align: right;\">\n",
       "      <th></th>\n",
       "      <th>A</th>\n",
       "      <th>variable</th>\n",
       "      <th>value</th>\n",
       "    </tr>\n",
       "  </thead>\n",
       "  <tbody>\n",
       "    <tr>\n",
       "      <th>0</th>\n",
       "      <td>a</td>\n",
       "      <td>B</td>\n",
       "      <td>1</td>\n",
       "    </tr>\n",
       "    <tr>\n",
       "      <th>1</th>\n",
       "      <td>b</td>\n",
       "      <td>B</td>\n",
       "      <td>3</td>\n",
       "    </tr>\n",
       "    <tr>\n",
       "      <th>2</th>\n",
       "      <td>c</td>\n",
       "      <td>B</td>\n",
       "      <td>5</td>\n",
       "    </tr>\n",
       "    <tr>\n",
       "      <th>3</th>\n",
       "      <td>a</td>\n",
       "      <td>C</td>\n",
       "      <td>2</td>\n",
       "    </tr>\n",
       "    <tr>\n",
       "      <th>4</th>\n",
       "      <td>b</td>\n",
       "      <td>C</td>\n",
       "      <td>4</td>\n",
       "    </tr>\n",
       "    <tr>\n",
       "      <th>5</th>\n",
       "      <td>c</td>\n",
       "      <td>C</td>\n",
       "      <td>6</td>\n",
       "    </tr>\n",
       "  </tbody>\n",
       "</table>\n",
       "</div>"
      ],
      "text/plain": [
       "   A variable  value\n",
       "0  a        B      1\n",
       "1  b        B      3\n",
       "2  c        B      5\n",
       "3  a        C      2\n",
       "4  b        C      4\n",
       "5  c        C      6"
      ]
     },
     "execution_count": 114,
     "metadata": {},
     "output_type": "execute_result"
    }
   ],
   "source": [
    "pd.melt(df, id_vars=['A'], value_vars=['B', 'C'])"
   ]
  },
  {
   "cell_type": "markdown",
   "metadata": {},
   "source": [
    "# Plotting"
   ]
  },
  {
   "cell_type": "markdown",
   "metadata": {},
   "source": [
    "On DataFrame, plot() is a convenience to plot all of the columns with labels. Using `%matplotlib inline` magic function enables plotting within the jupyter notebook cells (instead of e.g. in a separate Qt window)."
   ]
  },
  {
   "cell_type": "code",
   "execution_count": 115,
   "metadata": {
    "collapsed": false
   },
   "outputs": [
    {
     "data": {
      "text/plain": [
       "<matplotlib.axes._subplots.AxesSubplot at 0x10620d550>"
      ]
     },
     "execution_count": 115,
     "metadata": {},
     "output_type": "execute_result"
    },
    {
     "data": {
      "image/png": "[encoded data removed]",
      "text/plain": [
       "<matplotlib.figure.Figure at 0x10620d690>"
      ]
     },
     "metadata": {},
     "output_type": "display_data"
    }
   ],
   "source": [
    "ts = pd.Series(np.random.randn(1000), index=pd.date_range('1/1/2000', periods=1000))\n",
    "ts = ts.cumsum()\n",
    "df = pd.DataFrame(np.random.randn(1000, 4), index=ts.index,\n",
    "                  columns=['A', 'B', 'C', 'D'])\n",
    "df = df.cumsum()\n",
    "df.plot()"
   ]
  },
  {
   "cell_type": "code",
   "execution_count": 116,
   "metadata": {
    "collapsed": false
   },
   "outputs": [
    {
     "data": {
      "text/plain": [
       "<matplotlib.axes._subplots.AxesSubplot at 0x10620d250>"
      ]
     },
     "execution_count": 116,
     "metadata": {},
     "output_type": "execute_result"
    },
    {
     "data": {
      "image/png": "[encoded data removed]",
      "text/plain": [
       "<matplotlib.figure.Figure at 0x1061ff9d0>"
      ]
     },
     "metadata": {},
     "output_type": "display_data"
    }
   ],
   "source": [
    "df.boxplot()"
   ]
  },
  {
   "cell_type": "code",
   "execution_count": 117,
   "metadata": {
    "collapsed": false
   },
   "outputs": [
    {
     "data": {
      "text/plain": [
       "<matplotlib.axes._subplots.AxesSubplot at 0x10667f2d0>"
      ]
     },
     "execution_count": 117,
     "metadata": {},
     "output_type": "execute_result"
    },
    {
     "data": {
      "image/png": "[encoded data removed]",
      "text/plain": [
       "<matplotlib.figure.Figure at 0x10667f550>"
      ]
     },
     "metadata": {},
     "output_type": "display_data"
    }
   ],
   "source": [
    "df.plot(kind=\"scatter\", x=\"A\", y=\"B\")"
   ]
  },
  {
   "cell_type": "code",
   "execution_count": 118,
   "metadata": {
    "collapsed": false
   },
   "outputs": [
    {
     "data": {
      "text/plain": [
       "<matplotlib.axes._subplots.AxesSubplot at 0x10677d290>"
      ]
     },
     "execution_count": 118,
     "metadata": {},
     "output_type": "execute_result"
    },
    {
     "data": {
      "image/png": "[encoded data removed]",
      "text/plain": [
       "<matplotlib.figure.Figure at 0x10677d310>"
      ]
     },
     "metadata": {},
     "output_type": "display_data"
    }
   ],
   "source": [
    "df[[\"C\", \"D\"]].sum().plot(kind=\"bar\", x=\"C\", y=\"D\")"
   ]
  },
  {
   "cell_type": "code",
   "execution_count": 119,
   "metadata": {
    "collapsed": false
   },
   "outputs": [
    {
     "data": {
      "image/png": "[encoded data removed]",
      "text/plain": [
       "<matplotlib.figure.Figure at 0x1068c3750>"
      ]
     },
     "metadata": {},
     "output_type": "display_data"
    }
   ],
   "source": [
    "axs = pd.scatter_matrix(df, figsize=(16,12), diagonal='kde')"
   ]
  },
  {
   "cell_type": "markdown",
   "metadata": {},
   "source": [
    "# Getting data in and out"
   ]
  },
  {
   "cell_type": "markdown",
   "metadata": {},
   "source": [
    "## reading data from file"
   ]
  },
  {
   "cell_type": "markdown",
   "metadata": {},
   "source": [
    "tabular data such as CSV or tab-delimited txt files"
   ]
  },
  {
   "cell_type": "code",
   "execution_count": 120,
   "metadata": {
    "collapsed": false
   },
   "outputs": [
    {
     "data": {
      "text/html": [
       "<div>\n",
       "<table border=\"1\" class=\"dataframe\">\n",
       "  <thead>\n",
       "    <tr style=\"text-align: right;\">\n",
       "      <th></th>\n",
       "      <th>TaxName</th>\n",
       "      <th>species</th>\n",
       "      <th>Abundance</th>\n",
       "      <th>SampleCategory</th>\n",
       "      <th>frequency</th>\n",
       "      <th>rank</th>\n",
       "    </tr>\n",
       "  </thead>\n",
       "  <tbody>\n",
       "    <tr>\n",
       "      <th>0</th>\n",
       "      <td>Rothia mucilaginosa</td>\n",
       "      <td>43675</td>\n",
       "      <td>9.861078</td>\n",
       "      <td>Caries</td>\n",
       "      <td>10.0</td>\n",
       "      <td>1.0</td>\n",
       "    </tr>\n",
       "    <tr>\n",
       "      <th>1</th>\n",
       "      <td>Veillonella atypica</td>\n",
       "      <td>39777</td>\n",
       "      <td>7.030844</td>\n",
       "      <td>Caries</td>\n",
       "      <td>10.0</td>\n",
       "      <td>2.0</td>\n",
       "    </tr>\n",
       "    <tr>\n",
       "      <th>2</th>\n",
       "      <td>Prevotella histicola</td>\n",
       "      <td>470565</td>\n",
       "      <td>6.433449</td>\n",
       "      <td>Caries</td>\n",
       "      <td>10.0</td>\n",
       "      <td>3.0</td>\n",
       "    </tr>\n",
       "  </tbody>\n",
       "</table>\n",
       "</div>"
      ],
      "text/plain": [
       "                TaxName  species  Abundance SampleCategory  frequency  rank\n",
       "0   Rothia mucilaginosa    43675   9.861078         Caries       10.0   1.0\n",
       "1   Veillonella atypica    39777   7.030844         Caries       10.0   2.0\n",
       "2  Prevotella histicola   470565   6.433449         Caries       10.0   3.0"
      ]
     },
     "execution_count": 120,
     "metadata": {},
     "output_type": "execute_result"
    }
   ],
   "source": [
    "fn = r\"data/Saliva.txt\"\n",
    "df = pd.read_csv(fn, sep='\\t')\n",
    "df.head(3)"
   ]
  },
  {
   "cell_type": "markdown",
   "metadata": {},
   "source": [
    "from Excel"
   ]
  },
  {
   "cell_type": "code",
   "execution_count": 121,
   "metadata": {
    "collapsed": false
   },
   "outputs": [
    {
     "name": "stdout",
     "output_type": "stream",
     "text": [
      "[u'Sheet 1']\n"
     ]
    },
    {
     "data": {
      "text/html": [
       "<div>\n",
       "<table border=\"1\" class=\"dataframe\">\n",
       "  <thead>\n",
       "    <tr style=\"text-align: right;\">\n",
       "      <th></th>\n",
       "      <th>Taxon</th>\n",
       "      <th>Count</th>\n",
       "    </tr>\n",
       "  </thead>\n",
       "  <tbody>\n",
       "    <tr>\n",
       "      <th>0</th>\n",
       "      <td>Archaea \"Crenarchaeota\" Thermoprotei Desulfuro...</td>\n",
       "      <td>7</td>\n",
       "    </tr>\n",
       "    <tr>\n",
       "      <th>1</th>\n",
       "      <td>Archaea \"Crenarchaeota\" Thermoprotei Desulfuro...</td>\n",
       "      <td>2</td>\n",
       "    </tr>\n",
       "    <tr>\n",
       "      <th>2</th>\n",
       "      <td>Archaea \"Crenarchaeota\" Thermoprotei Sulfoloba...</td>\n",
       "      <td>3</td>\n",
       "    </tr>\n",
       "    <tr>\n",
       "      <th>3</th>\n",
       "      <td>Archaea \"Crenarchaeota\" Thermoprotei Thermopro...</td>\n",
       "      <td>3</td>\n",
       "    </tr>\n",
       "    <tr>\n",
       "      <th>4</th>\n",
       "      <td>Archaea \"Euryarchaeota\" \"Methanomicrobia\" Meth...</td>\n",
       "      <td>7</td>\n",
       "    </tr>\n",
       "  </tbody>\n",
       "</table>\n",
       "</div>"
      ],
      "text/plain": [
       "                                               Taxon  Count\n",
       "0  Archaea \"Crenarchaeota\" Thermoprotei Desulfuro...      7\n",
       "1  Archaea \"Crenarchaeota\" Thermoprotei Desulfuro...      2\n",
       "2  Archaea \"Crenarchaeota\" Thermoprotei Sulfoloba...      3\n",
       "3  Archaea \"Crenarchaeota\" Thermoprotei Thermopro...      3\n",
       "4  Archaea \"Euryarchaeota\" \"Methanomicrobia\" Meth...      7"
      ]
     },
     "execution_count": 121,
     "metadata": {},
     "output_type": "execute_result"
    }
   ],
   "source": [
    "xls = pd.ExcelFile('data/microbiome/MID1.xls')\n",
    "print xls.sheet_names  # see all sheet names\n",
    "df = xls.parse(\"Sheet 1\", header=None)\n",
    "df.columns = [\"Taxon\", \"Count\"]\n",
    "df.head()"
   ]
  },
  {
   "cell_type": "markdown",
   "metadata": {},
   "source": [
    "a current **list of I/O tools**:\n",
    "- read_csv\n",
    "- read_excel\n",
    "- read_hdf\n",
    "- read_sql\n",
    "- read_json\n",
    "- read_msgpack (experimental)\n",
    "- read_html\n",
    "- read_gbq (experimental)\n",
    "- read_stata\n",
    "- read_sas\n",
    "- read_clipboard\n",
    "- read_pickle\n",
    "\n",
    "checkout the documentation http://pandas.pydata.org/pandas-docs/stable/ for more infos"
   ]
  },
  {
   "cell_type": "markdown",
   "metadata": {},
   "source": [
    "## writing data to file"
   ]
  },
  {
   "cell_type": "code",
   "execution_count": 122,
   "metadata": {
    "collapsed": true
   },
   "outputs": [],
   "source": [
    "fn_out = r\"data/Tidy_data.txt\"\n",
    "df.to_csv(fn_out, sep='\\t', header=True, index=False)"
   ]
  },
  {
   "cell_type": "markdown",
   "metadata": {
    "collapsed": true
   },
   "source": [
    "# Miscellaneous"
   ]
  },
  {
   "cell_type": "markdown",
   "metadata": {},
   "source": [
    "## zip example"
   ]
  },
  {
   "cell_type": "code",
   "execution_count": 123,
   "metadata": {
    "collapsed": false
   },
   "outputs": [
    {
     "data": {
      "text/html": [
       "<div>\n",
       "<table border=\"1\" class=\"dataframe\">\n",
       "  <thead>\n",
       "    <tr style=\"text-align: right;\">\n",
       "      <th></th>\n",
       "      <th>Taxon</th>\n",
       "      <th>Count</th>\n",
       "    </tr>\n",
       "  </thead>\n",
       "  <tbody>\n",
       "    <tr>\n",
       "      <th>0</th>\n",
       "      <td>Archaea \"Crenarchaeota\" Thermoprotei Desulfuro...</td>\n",
       "      <td>7</td>\n",
       "    </tr>\n",
       "    <tr>\n",
       "      <th>1</th>\n",
       "      <td>Archaea \"Crenarchaeota\" Thermoprotei Desulfuro...</td>\n",
       "      <td>2</td>\n",
       "    </tr>\n",
       "    <tr>\n",
       "      <th>2</th>\n",
       "      <td>Archaea \"Crenarchaeota\" Thermoprotei Sulfoloba...</td>\n",
       "      <td>3</td>\n",
       "    </tr>\n",
       "  </tbody>\n",
       "</table>\n",
       "</div>"
      ],
      "text/plain": [
       "                                               Taxon  Count\n",
       "0  Archaea \"Crenarchaeota\" Thermoprotei Desulfuro...      7\n",
       "1  Archaea \"Crenarchaeota\" Thermoprotei Desulfuro...      2\n",
       "2  Archaea \"Crenarchaeota\" Thermoprotei Sulfoloba...      3"
      ]
     },
     "execution_count": 123,
     "metadata": {},
     "output_type": "execute_result"
    }
   ],
   "source": [
    "xls = pd.ExcelFile('data/microbiome/MID1.xls')\n",
    "df = xls.parse(\"Sheet 1\", header=None)\n",
    "df.columns = [\"Taxon\", \"Count\"]\n",
    "df.head(3)"
   ]
  },
  {
   "cell_type": "code",
   "execution_count": 124,
   "metadata": {
    "collapsed": false
   },
   "outputs": [
    {
     "data": {
      "text/html": [
       "<div>\n",
       "<table border=\"1\" class=\"dataframe\">\n",
       "  <thead>\n",
       "    <tr style=\"text-align: right;\">\n",
       "      <th></th>\n",
       "      <th>Taxon</th>\n",
       "      <th>Count</th>\n",
       "      <th>superkingdom</th>\n",
       "      <th>rest</th>\n",
       "    </tr>\n",
       "  </thead>\n",
       "  <tbody>\n",
       "    <tr>\n",
       "      <th>0</th>\n",
       "      <td>Archaea \"Crenarchaeota\" Thermoprotei Desulfuro...</td>\n",
       "      <td>7</td>\n",
       "      <td>Archaea</td>\n",
       "      <td>\"Crenarchaeota\" Thermoprotei Desulfurococcales...</td>\n",
       "    </tr>\n",
       "    <tr>\n",
       "      <th>1</th>\n",
       "      <td>Archaea \"Crenarchaeota\" Thermoprotei Desulfuro...</td>\n",
       "      <td>2</td>\n",
       "      <td>Archaea</td>\n",
       "      <td>\"Crenarchaeota\" Thermoprotei Desulfurococcales...</td>\n",
       "    </tr>\n",
       "    <tr>\n",
       "      <th>2</th>\n",
       "      <td>Archaea \"Crenarchaeota\" Thermoprotei Sulfoloba...</td>\n",
       "      <td>3</td>\n",
       "      <td>Archaea</td>\n",
       "      <td>\"Crenarchaeota\" Thermoprotei Sulfolobales Sulf...</td>\n",
       "    </tr>\n",
       "  </tbody>\n",
       "</table>\n",
       "</div>"
      ],
      "text/plain": [
       "                                               Taxon  Count superkingdom  \\\n",
       "0  Archaea \"Crenarchaeota\" Thermoprotei Desulfuro...      7      Archaea   \n",
       "1  Archaea \"Crenarchaeota\" Thermoprotei Desulfuro...      2      Archaea   \n",
       "2  Archaea \"Crenarchaeota\" Thermoprotei Sulfoloba...      3      Archaea   \n",
       "\n",
       "                                                rest  \n",
       "0  \"Crenarchaeota\" Thermoprotei Desulfurococcales...  \n",
       "1  \"Crenarchaeota\" Thermoprotei Desulfurococcales...  \n",
       "2  \"Crenarchaeota\" Thermoprotei Sulfolobales Sulf...  "
      ]
     },
     "execution_count": 124,
     "metadata": {},
     "output_type": "execute_result"
    }
   ],
   "source": [
    "df[\"superkingdom\"], df[\"rest\"] = zip(*df[\"Taxon\"].apply(lambda x: x.split(\" \", 1)))\n",
    "df.head(3)"
   ]
  },
  {
   "cell_type": "code",
   "execution_count": 125,
   "metadata": {
    "collapsed": false
   },
   "outputs": [
    {
     "data": {
      "text/plain": [
       "array([u'Archaea', u'Bacteria'], dtype=object)"
      ]
     },
     "execution_count": 125,
     "metadata": {},
     "output_type": "execute_result"
    }
   ],
   "source": [
    "df.superkingdom.unique()"
   ]
  },
  {
   "cell_type": "markdown",
   "metadata": {},
   "source": [
    "## string processing methods"
   ]
  },
  {
   "cell_type": "markdown",
   "metadata": {},
   "source": [
    "for Series and Index, to make it easy to operate on each element of the array. These methods exclude missing/NA values automatically. These are accessed via the *`str`* attribute and generally have names matching the equivalent (scalar) built-in string methods."
   ]
  },
  {
   "cell_type": "code",
   "execution_count": 126,
   "metadata": {
    "collapsed": false
   },
   "outputs": [
    {
     "data": {
      "text/plain": [
       "0       A\n",
       "1       B\n",
       "2       C\n",
       "3    Aaba\n",
       "4    Baca\n",
       "5     NaN\n",
       "6    CABA\n",
       "7     dog\n",
       "8     cat\n",
       "dtype: object"
      ]
     },
     "execution_count": 126,
     "metadata": {},
     "output_type": "execute_result"
    }
   ],
   "source": [
    "s = pd.Series(['A', 'B', 'C', 'Aaba', 'Baca', np.nan, 'CABA', 'dog', 'cat'])\n",
    "s"
   ]
  },
  {
   "cell_type": "code",
   "execution_count": 127,
   "metadata": {
    "collapsed": false
   },
   "outputs": [
    {
     "data": {
      "text/plain": [
       "0       a\n",
       "1       b\n",
       "2       c\n",
       "3    aaba\n",
       "4    baca\n",
       "5     NaN\n",
       "6    caba\n",
       "7     dog\n",
       "8     cat\n",
       "dtype: object"
      ]
     },
     "execution_count": 127,
     "metadata": {},
     "output_type": "execute_result"
    }
   ],
   "source": [
    "s.str.lower()"
   ]
  },
  {
   "cell_type": "markdown",
   "metadata": {},
   "source": [
    "## Cut"
   ]
  },
  {
   "cell_type": "markdown",
   "metadata": {},
   "source": [
    "Return indices of half-open bins to which each value of x belongs.\n",
    "The cut function can be useful for **going from a continuous variable to a categorical variable**. For example, cut could convert ages to groups of age ranges."
   ]
  },
  {
   "cell_type": "code",
   "execution_count": 128,
   "metadata": {
    "collapsed": false
   },
   "outputs": [
    {
     "data": {
      "text/html": [
       "<div>\n",
       "<table border=\"1\" class=\"dataframe\">\n",
       "  <thead>\n",
       "    <tr style=\"text-align: right;\">\n",
       "      <th></th>\n",
       "      <th>value</th>\n",
       "      <th>category</th>\n",
       "    </tr>\n",
       "  </thead>\n",
       "  <tbody>\n",
       "    <tr>\n",
       "      <th>0</th>\n",
       "      <td>0.2</td>\n",
       "      <td>good</td>\n",
       "    </tr>\n",
       "    <tr>\n",
       "      <th>1</th>\n",
       "      <td>1.4</td>\n",
       "      <td>good</td>\n",
       "    </tr>\n",
       "    <tr>\n",
       "      <th>2</th>\n",
       "      <td>2.5</td>\n",
       "      <td>good</td>\n",
       "    </tr>\n",
       "    <tr>\n",
       "      <th>3</th>\n",
       "      <td>6.2</td>\n",
       "      <td>medium</td>\n",
       "    </tr>\n",
       "    <tr>\n",
       "      <th>4</th>\n",
       "      <td>9.7</td>\n",
       "      <td>bad</td>\n",
       "    </tr>\n",
       "    <tr>\n",
       "      <th>5</th>\n",
       "      <td>NaN</td>\n",
       "      <td>NaN</td>\n",
       "    </tr>\n",
       "    <tr>\n",
       "      <th>6</th>\n",
       "      <td>2.1</td>\n",
       "      <td>good</td>\n",
       "    </tr>\n",
       "  </tbody>\n",
       "</table>\n",
       "</div>"
      ],
      "text/plain": [
       "   value category\n",
       "0    0.2     good\n",
       "1    1.4     good\n",
       "2    2.5     good\n",
       "3    6.2   medium\n",
       "4    9.7      bad\n",
       "5    NaN      NaN\n",
       "6    2.1     good"
      ]
     },
     "execution_count": 128,
     "metadata": {},
     "output_type": "execute_result"
    }
   ],
   "source": [
    "df = pd.DataFrame(np.array([.2, 1.4, 2.5, 6.2, 9.7, np.nan, 2.1]), columns=[\"value\"])\n",
    "df[\"category\"] = pd.cut(df[\"value\"], 3, retbins=False, labels=[\"good\", \"medium\", \"bad\"])\n",
    "df"
   ]
  },
  {
   "cell_type": "markdown",
   "metadata": {},
   "source": [
    "## rpy2 example"
   ]
  },
  {
   "cell_type": "markdown",
   "metadata": {},
   "source": [
    "call an R function from Python"
   ]
  },
  {
   "cell_type": "markdown",
   "metadata": {},
   "source": [
    "https://en.wikipedia.org/wiki/Quantile_normalization"
   ]
  },
  {
   "cell_type": "markdown",
   "metadata": {},
   "source": [
    "https://bioconductor.org/packages/release/bioc/html/limma.html"
   ]
  },
  {
   "cell_type": "code",
   "execution_count": 129,
   "metadata": {
    "collapsed": true
   },
   "outputs": [],
   "source": [
    "import rpy2.robjects as robjects\n",
    "import rpy2.robjects.packages as rpackages\n",
    "from rpy2.robjects.numpy2ri import numpy2ri\n",
    "robjects.conversion.py2ri = numpy2ri"
   ]
  },
  {
   "cell_type": "code",
   "execution_count": 130,
   "metadata": {
    "collapsed": false
   },
   "outputs": [
    {
     "data": {
      "text/html": [
       "<div>\n",
       "<table border=\"1\" class=\"dataframe\">\n",
       "  <thead>\n",
       "    <tr style=\"text-align: right;\">\n",
       "      <th></th>\n",
       "      <th>Intensity First</th>\n",
       "      <th>Intensity Second</th>\n",
       "      <th>Intensity Third</th>\n",
       "    </tr>\n",
       "  </thead>\n",
       "  <tbody>\n",
       "    <tr>\n",
       "      <th>A</th>\n",
       "      <td>5.0</td>\n",
       "      <td>4.0</td>\n",
       "      <td>3.0</td>\n",
       "    </tr>\n",
       "    <tr>\n",
       "      <th>B</th>\n",
       "      <td>2.0</td>\n",
       "      <td>1.0</td>\n",
       "      <td>4.0</td>\n",
       "    </tr>\n",
       "    <tr>\n",
       "      <th>C</th>\n",
       "      <td>3.0</td>\n",
       "      <td>4.0</td>\n",
       "      <td>6.0</td>\n",
       "    </tr>\n",
       "    <tr>\n",
       "      <th>D</th>\n",
       "      <td>4.0</td>\n",
       "      <td>2.0</td>\n",
       "      <td>8.0</td>\n",
       "    </tr>\n",
       "  </tbody>\n",
       "</table>\n",
       "</div>"
      ],
      "text/plain": [
       "   Intensity First  Intensity Second  Intensity Third\n",
       "A              5.0               4.0              3.0\n",
       "B              2.0               1.0              4.0\n",
       "C              3.0               4.0              6.0\n",
       "D              4.0               2.0              8.0"
      ]
     },
     "execution_count": 130,
     "metadata": {},
     "output_type": "execute_result"
    }
   ],
   "source": [
    "dict_ = {\"Intensity First\"  : [5.0, 2.0, 3.0, 4.0],         \n",
    "         \"Intensity Second\" : [4.0, 1.0, 4.0, 2.0],\n",
    "         \"Intensity Third\"  : [3.0, 4.0, 6.0, 8.0]}\n",
    "df = pd.DataFrame(dict_, index=list(\"ABCD\"))\n",
    "df"
   ]
  },
  {
   "cell_type": "code",
   "execution_count": 131,
   "metadata": {
    "collapsed": true
   },
   "outputs": [],
   "source": [
    "def R_function_normalizeQuantiles():\n",
    "    rpackages.importr('limma')\n",
    "    normalizeQuantiles = robjects.r['normalizeQuantiles']\n",
    "    return normalizeQuantiles"
   ]
  },
  {
   "cell_type": "code",
   "execution_count": 132,
   "metadata": {
    "collapsed": true
   },
   "outputs": [],
   "source": [
    "def quantile_normalize(df, cols_2_norm):\n",
    "    \"\"\"\n",
    "    :param df: DataFrame\n",
    "    :param cols_2_norm: ListOfString (Columns to normalize)\n",
    "    :return: DataFrame\n",
    "    \"\"\"\n",
    "    normalizeQuantiles = R_function_normalizeQuantiles()\n",
    "\n",
    "    # set Zero to NaN and transform to log-space\n",
    "    df[cols_2_norm] = df[cols_2_norm].replace(to_replace=0.0, value=np.nan)\n",
    "    df[cols_2_norm] = np.log10(df[cols_2_norm])\n",
    "\n",
    "    # quantile normalize\n",
    "    df[cols_2_norm] = np.array(normalizeQuantiles(df[cols_2_norm].values))\n",
    "\n",
    "    # Transform back to non-log space and replace NaN with Zero\n",
    "    df[cols_2_norm] = np.power(10, df[cols_2_norm])\n",
    "    df[cols_2_norm] = df[cols_2_norm].replace(to_replace=np.nan, value=0.0)\n",
    "\n",
    "    return df"
   ]
  },
  {
   "cell_type": "code",
   "execution_count": 133,
   "metadata": {
    "collapsed": false
   },
   "outputs": [
    {
     "data": {
      "text/html": [
       "<div>\n",
       "<table border=\"1\" class=\"dataframe\">\n",
       "  <thead>\n",
       "    <tr style=\"text-align: right;\">\n",
       "      <th></th>\n",
       "      <th>Intensity First</th>\n",
       "      <th>Intensity Second</th>\n",
       "      <th>Intensity Third</th>\n",
       "    </tr>\n",
       "  </thead>\n",
       "  <tbody>\n",
       "    <tr>\n",
       "      <th>A</th>\n",
       "      <td>5.428835</td>\n",
       "      <td>4.985766</td>\n",
       "      <td>1.817121</td>\n",
       "    </tr>\n",
       "    <tr>\n",
       "      <th>B</th>\n",
       "      <td>1.817121</td>\n",
       "      <td>1.817121</td>\n",
       "      <td>2.884499</td>\n",
       "    </tr>\n",
       "    <tr>\n",
       "      <th>C</th>\n",
       "      <td>2.884499</td>\n",
       "      <td>4.985766</td>\n",
       "      <td>4.578857</td>\n",
       "    </tr>\n",
       "    <tr>\n",
       "      <th>D</th>\n",
       "      <td>4.578857</td>\n",
       "      <td>2.884499</td>\n",
       "      <td>5.428835</td>\n",
       "    </tr>\n",
       "  </tbody>\n",
       "</table>\n",
       "</div>"
      ],
      "text/plain": [
       "   Intensity First  Intensity Second  Intensity Third\n",
       "A         5.428835          4.985766         1.817121\n",
       "B         1.817121          1.817121         2.884499\n",
       "C         2.884499          4.985766         4.578857\n",
       "D         4.578857          2.884499         5.428835"
      ]
     },
     "execution_count": 133,
     "metadata": {},
     "output_type": "execute_result"
    }
   ],
   "source": [
    "df_norm = quantile_normalize(df, df.columns.tolist())\n",
    "df_norm"
   ]
  },
  {
   "cell_type": "markdown",
   "metadata": {},
   "source": [
    "# now let's do some EXERCISES"
   ]
  },
  {
   "cell_type": "markdown",
   "metadata": {},
   "source": [
    "open **Exercises_part_A.ipynb** and/or **Exercises_part_B.ipynb**"
   ]
  }
 ],
 "metadata": {
  "kernelspec": {
   "display_name": "Python 2",
   "language": "python",
   "name": "python2"
  },
  "language_info": {
   "codemirror_mode": {
    "name": "ipython",
    "version": 2
   },
   "file_extension": ".py",
   "mimetype": "text/x-python",
   "name": "python",
   "nbconvert_exporter": "python",
   "pygments_lexer": "ipython2",
   "version": "2.7.13"
  }
 },
 "nbformat": 4,
 "nbformat_minor": 2
}
